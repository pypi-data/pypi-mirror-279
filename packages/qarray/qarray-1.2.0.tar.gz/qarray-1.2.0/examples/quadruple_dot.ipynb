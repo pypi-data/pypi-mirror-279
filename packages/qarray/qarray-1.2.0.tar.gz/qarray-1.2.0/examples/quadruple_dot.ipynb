{
 "cells": [
  {
   "metadata": {},
   "cell_type": "markdown",
   "source": "",
   "id": "60ba35094b84a422"
  },
  {
   "cell_type": "code",
   "id": "initial_id",
   "metadata": {
    "collapsed": true,
    "ExecuteTime": {
     "end_time": "2024-04-06T10:30:21.164039Z",
     "start_time": "2024-04-06T10:30:21.161956Z"
    }
   },
   "source": [
    "import time\n",
    "import matplotlib.pyplot as plt\n",
    "import numpy as np\n",
    "\n",
    "from qarray import (DotArray, GateVoltageComposer, dot_occupation_changes)"
   ],
   "execution_count": 23,
   "outputs": []
  },
  {
   "metadata": {
    "ExecuteTime": {
     "end_time": "2024-04-06T10:30:21.190823Z",
     "start_time": "2024-04-06T10:30:21.187759Z"
    }
   },
   "cell_type": "code",
   "source": [
    "# setting up the constant capacitance model_threshold_1\n",
    "model = DotArray(\n",
    "    Cdd=[\n",
    "    [0., 0.3, 0.05, 0.01],\n",
    "    [0.3, 0., 0.3, 0.05],\n",
    "    [0.05, 0.3, 0., 0.3],\n",
    "    [0.01, 0.05, 0.3, 0]\n",
    "],\n",
    "    Cgd=[\n",
    "    [1., 0.2, 0.05, 0.01],\n",
    "    [0.2, 1., 0.2, 0.05],\n",
    "    [0.05, 0.2, 1., 0.2],\n",
    "    [0.01, 0.05, 0.2, 1]\n",
    "    ],\n",
    "    algorithm='default',\n",
    "    implementation='rust',\n",
    "    T=0\n",
    ")\n",
    "\n",
    "voltage_composer = GateVoltageComposer(n_gate=model.n_gate)\n"
   ],
   "id": "433b3691c25e5baa",
   "execution_count": 24,
   "outputs": []
  },
  {
   "metadata": {
    "ExecuteTime": {
     "end_time": "2024-04-06T10:30:21.201500Z",
     "start_time": "2024-04-06T10:30:21.198237Z"
    }
   },
   "cell_type": "code",
   "source": [
    "# using the dot voltage composer to create the dot voltage array for the 2d sweep\n",
    "vg = voltage_composer.do2d(\n",
    "    x_gate=0, x_min = -10, x_max = 10, x_res = 400,\n",
    "    y_gate=3, y_min = -10, y_max = 10, y_res = 400\n",
    ")"
   ],
   "id": "6f75223d6cd3f24",
   "execution_count": 25,
   "outputs": []
  },
  {
   "metadata": {
    "ExecuteTime": {
     "end_time": "2024-04-06T10:30:21.704644Z",
     "start_time": "2024-04-06T10:30:21.202636Z"
    }
   },
   "cell_type": "code",
   "source": [
    "# calculating the dot occupation changes for the 2d sweep for an open double dot \n",
    "t0 = time.time()\n",
    "n = model.ground_state_open(vg)  # computing the ground state by calling the function\n",
    "t1 = time.time()\n",
    "print(f'Elapsed time: {t1 - t0:.2f} s or one pixel every { 1e6 * (t1 - t0) / (vg.size // 2):.2f} us')\n",
    "\n",
    "z = dot_occupation_changes(n)  # computing when the dot occupation changes\n",
    "\n",
    "plt.imshow(z, extent=(vg[..., 0].min(), vg[..., 0].max(), vg[..., 3].min(), vg[..., 3].max()), origin='lower', cmap='binary')\n",
    "plt.xlabel('Vg0 (V)')\n",
    "plt.ylabel('Vg3 (V)')"
   ],
   "id": "2218463f9e18a09a",
   "execution_count": 26,
   "outputs": []
  },
  {
   "metadata": {
    "ExecuteTime": {
     "end_time": "2024-04-06T10:30:22.223377Z",
     "start_time": "2024-04-06T10:30:21.705412Z"
    }
   },
   "cell_type": "code",
   "source": [
    "# calculating the dot occupation changes for the 2d sweep for an closed double dot containing 2 holes \n",
    "t0 = time.time()\n",
    "n = model.ground_state_closed(vg, n_charges=4)  # computing the ground state by calling the function\n",
    "t1 = time.time()\n",
    "print(f'Elapsed time: {t1 - t0:.2f} s or one pixel every { 1e6 * (t1 - t0) / (vg.size // 2) :.2f} us')\n",
    "\n",
    "z = dot_occupation_changes(n)  # computing when the dot occupation changes\n",
    "\n",
    "plt.imshow(z, extent=(vg[..., 0].min(), vg[..., 0].max(), vg[..., 3].min(), vg[..., 3].max()), origin='lower', cmap='binary')\n",
    "plt.xlabel('Vg0 (V)')\n",
    "plt.ylabel('Vg3 (V)')"
   ],
   "id": "270ce317b1ed9212",
   "execution_count": 27,
   "outputs": []
  }
 ],
 "metadata": {
  "kernelspec": {
   "display_name": "Python 3",
   "language": "python",
   "name": "python3"
  },
  "language_info": {
   "codemirror_mode": {
    "name": "ipython",
    "version": 2
   },
   "file_extension": ".py",
   "mimetype": "text/x-python",
   "name": "python",
   "nbconvert_exporter": "python",
   "pygments_lexer": "ipython2",
   "version": "2.7.6"
  }
 },
 "nbformat": 4,
 "nbformat_minor": 5
}
