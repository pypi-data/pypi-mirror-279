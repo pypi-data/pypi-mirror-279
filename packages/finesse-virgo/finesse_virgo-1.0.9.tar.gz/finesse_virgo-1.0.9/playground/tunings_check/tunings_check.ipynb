{
 "cells": [
  {
   "cell_type": "code",
   "execution_count": 2,
   "metadata": {},
   "outputs": [],
   "source": [
    "import finesse.virgo"
   ]
  },
  {
   "cell_type": "markdown",
   "metadata": {},
   "source": [
    "# Tunings Check\n",
    "\n",
    "The purpose of this notebook is to test the ability to save dof tunings in the mirror phi tunings.\n",
    "\n",
    "1. Create a Virgo model\n",
    "2. Add imperfections\n",
    "3. Pretune & lock (resulting in non-zero DOF tunings)\n",
    "4. Plot the DARM transfer function\n",
    "5. Zero the DOFs\n",
    "6. Unparse and remove DOFs\n",
    "7. Create a new model using the DOFless model\n",
    "8. Plot DARM again to show it is still tuned"
   ]
  },
  {
   "cell_type": "markdown",
   "metadata": {},
   "source": [
    "## 1. Create a Virgo model"
   ]
  },
  {
   "cell_type": "code",
   "execution_count": 3,
   "metadata": {},
   "outputs": [],
   "source": [
    "virgo = finesse.virgo.Virgo(maxtem='off')"
   ]
  },
  {
   "cell_type": "markdown",
   "metadata": {},
   "source": [
    "## 2. Add imperfections"
   ]
  },
  {
   "cell_type": "code",
   "execution_count": 7,
   "metadata": {},
   "outputs": [],
   "source": [
    "# nudge the beam splitter\n",
    "virgo.model.BS.phi = 1\n",
    "\n",
    "# introduce mismatch\n",
    "virgo.model.PR.Rcx -= 0.01\n",
    "virgo.model.PR.Rcy -= 0.01"
   ]
  },
  {
   "cell_type": "markdown",
   "metadata": {},
   "source": [
    "## 3. Pretune and lock"
   ]
  },
  {
   "cell_type": "code",
   "execution_count": 8,
   "metadata": {},
   "outputs": [
    {
     "name": "stdout",
     "output_type": "stream",
     "text": [
      "Adjusting recycling cavity lengths...\n",
      "Pretuning...\n",
      "Optimizing demodulation phases...\n",
      "Optimizing lock gains...\n",
      "Running RF locks...\n",
      "Done.\n"
     ]
    }
   ],
   "source": [
    "virgo.make(dc_lock=False)"
   ]
  },
  {
   "cell_type": "markdown",
   "metadata": {},
   "source": [
    "## 4. Plot DARM as reference"
   ]
  },
  {
   "cell_type": "code",
   "execution_count": 9,
   "metadata": {},
   "outputs": [
    {
     "data": {
      "image/png": "[encoded data removed]",
      "text/plain": [
       "<Figure size 432x288 with 2 Axes>"
      ]
     },
     "metadata": {
      "needs_background": "light"
     },
     "output_type": "display_data"
    }
   ],
   "source": [
    "virgo.plot_DARM()"
   ]
  },
  {
   "cell_type": "markdown",
   "metadata": {},
   "source": [
    "## 5. Zero the DOFs"
   ]
  },
  {
   "cell_type": "code",
   "execution_count": 29,
   "metadata": {},
   "outputs": [
    {
     "name": "stdout",
     "output_type": "stream",
     "text": [
      "┌───────┬─────────────────┬─────────────────┐\n",
      "│ Optic │    Tuning (deg) │      Tuning (m) │\n",
      "╞═══════╪═════════════════╪═════════════════╡\n",
      "│ NE    │        0.748979 │     2.21365e-09 │\n",
      "├───────┼─────────────────┼─────────────────┤\n",
      "│ WE    │       -0.748973 │    -2.21363e-09 │\n",
      "├───────┼─────────────────┼─────────────────┤\n",
      "│ NI    │        0.748994 │     2.21369e-09 │\n",
      "├───────┼─────────────────┼─────────────────┤\n",
      "│ WI    │       -0.748994 │    -2.21369e-09 │\n",
      "├───────┼─────────────────┼─────────────────┤\n",
      "│ PR    │        0.748408 │     2.21196e-09 │\n",
      "├───────┼─────────────────┼─────────────────┤\n",
      "│ SR    │         88.2387 │     2.60794e-07 │\n",
      "└───────┴─────────────────┴─────────────────┘\n",
      "\n",
      "┌──────┬─────────────────┬─────────────────┐\n",
      "│ DOF  │    Tuning (deg) │      Tuning (m) │\n",
      "╞══════╪═════════════════╪═════════════════╡\n",
      "│ DARM │               0 │               0 │\n",
      "├──────┼─────────────────┼─────────────────┤\n",
      "│ CARM │               0 │               0 │\n",
      "├──────┼─────────────────┼─────────────────┤\n",
      "│ MICH │               0 │               0 │\n",
      "├──────┼─────────────────┼─────────────────┤\n",
      "│ PRCL │               0 │               0 │\n",
      "├──────┼─────────────────┼─────────────────┤\n",
      "│ SRCL │               0 │               0 │\n",
      "└──────┴─────────────────┴─────────────────┘\n",
      "\n"
     ]
    },
    {
     "data": {
      "text/plain": [
       "[['DOF', 'Tuning (deg)', 'Tuning (m)'],\n",
       " ['DARM', '              0', '              0'],\n",
       " ['CARM', '              0', '              0'],\n",
       " ['MICH', '              0', '              0'],\n",
       " ['PRCL', '              0', '              0'],\n",
       " ['SRCL', '              0', '              0']]"
      ]
     },
     "execution_count": 29,
     "metadata": {},
     "output_type": "execute_result"
    }
   ],
   "source": [
    "virgo.zero_dofs()\n",
    "\n",
    "virgo.print_tunings()"
   ]
  },
  {
   "cell_type": "markdown",
   "metadata": {},
   "source": [
    "## 6. Unparse and remove DOF commands"
   ]
  },
  {
   "cell_type": "code",
   "execution_count": 30,
   "metadata": {},
   "outputs": [
    {
     "name": "stderr",
     "output_type": "stream",
     "text": [
      "regeneration of original KatScript for operations not implemented yet\n",
      "regeneration of original KatScript for operations not implemented yet\n",
      "regeneration of original KatScript for operations not implemented yet\n",
      "regeneration of original KatScript for operations not implemented yet\n",
      "regeneration of original KatScript for operations not implemented yet\n",
      "regeneration of original KatScript for operations not implemented yet\n",
      "regeneration of original KatScript for operations not implemented yet\n",
      "regeneration of original KatScript for nonsingular commands not implemented yet\n",
      "regeneration of original KatScript for operations not implemented yet\n",
      "regeneration of original KatScript for operations not implemented yet\n",
      "regeneration of original KatScript for operations not implemented yet\n",
      "regeneration of original KatScript for nonsingular commands not implemented yet\n",
      "regeneration of original KatScript for operations not implemented yet\n",
      "regeneration of original KatScript for operations not implemented yet\n",
      "regeneration of original KatScript for operations not implemented yet\n",
      "regeneration of original KatScript for operations not implemented yet\n",
      "regeneration of original KatScript for operations not implemented yet\n",
      "regeneration of original KatScript for operations not implemented yet\n",
      "regeneration of original KatScript for operations not implemented yet\n",
      "regeneration of original KatScript for operations not implemented yet\n",
      "regeneration of original KatScript for operations not implemented yet\n",
      "regeneration of original KatScript for operations not implemented yet\n",
      "regeneration of original KatScript for operations not implemented yet\n",
      "regeneration of original KatScript for operations not implemented yet\n",
      "regeneration of original KatScript for operations not implemented yet\n",
      "regeneration of original KatScript for operations not implemented yet\n",
      "regeneration of original KatScript for operations not implemented yet\n",
      "regeneration of original KatScript for operations not implemented yet\n",
      "regeneration of original KatScript for operations not implemented yet\n",
      "regeneration of original KatScript for operations not implemented yet\n",
      "regeneration of original KatScript for operations not implemented yet\n",
      "regeneration of original KatScript for operations not implemented yet\n",
      "regeneration of original KatScript for operations not implemented yet\n",
      "regeneration of original KatScript for operations not implemented yet\n",
      "regeneration of original KatScript for operations not implemented yet\n",
      "regeneration of original KatScript for operations not implemented yet\n",
      "regeneration of original KatScript for operations not implemented yet\n",
      "regeneration of original KatScript for operations not implemented yet\n",
      "regeneration of original KatScript for operations not implemented yet\n",
      "regeneration of original KatScript for operations not implemented yet\n",
      "regeneration of original KatScript for operations not implemented yet\n",
      "regeneration of original KatScript for operations not implemented yet\n",
      "regeneration of original KatScript for operations not implemented yet\n",
      "regeneration of original KatScript for operations not implemented yet\n",
      "regeneration of original KatScript for operations not implemented yet\n",
      "regeneration of original KatScript for operations not implemented yet\n",
      "regeneration of original KatScript for operations not implemented yet\n",
      "regeneration of original KatScript for operations not implemented yet\n",
      "regeneration of original KatScript for operations not implemented yet\n"
     ]
    }
   ],
   "source": [
    "virgo2 = virgo.model.unparse_file('virgo_tuned_zeroed.kat')"
   ]
  },
  {
   "cell_type": "markdown",
   "metadata": {},
   "source": [
    "## 7. Create a DOF-less model from tuned file"
   ]
  },
  {
   "cell_type": "code",
   "execution_count": 31,
   "metadata": {},
   "outputs": [],
   "source": [
    "virgo2 = finesse.virgo.Virgo(file_to_parse='virgo_tuned_zeroed.kat')\n",
    "\n",
    "# assert the DOF.DC values are zero\n",
    "for dof in virgo2.dofs:\n",
    "    assert virgo2.model.get(dof).DC == 0"
   ]
  },
  {
   "cell_type": "markdown",
   "metadata": {},
   "source": [
    "## 8. Plot DARM again"
   ]
  },
  {
   "cell_type": "code",
   "execution_count": 32,
   "metadata": {},
   "outputs": [
    {
     "data": {
      "image/png": "[encoded data removed]",
      "text/plain": [
       "<Figure size 432x288 with 2 Axes>"
      ]
     },
     "metadata": {
      "needs_background": "light"
     },
     "output_type": "display_data"
    }
   ],
   "source": [
    "virgo2.plot_DARM()"
   ]
  }
 ],
 "metadata": {
  "kernelspec": {
   "display_name": "Python 3.9.7 ('f3')",
   "language": "python",
   "name": "python3"
  },
  "language_info": {
   "codemirror_mode": {
    "name": "ipython",
    "version": 3
   },
   "file_extension": ".py",
   "mimetype": "text/x-python",
   "name": "python",
   "nbconvert_exporter": "python",
   "pygments_lexer": "ipython3",
   "version": "3.9.7"
  },
  "orig_nbformat": 4,
  "vscode": {
   "interpreter": {
    "hash": "e63bc18e93140e24cd570e2b209b6587cfe707b0bcc83b254b0fbf45eb9a9a15"
   }
  }
 },
 "nbformat": 4,
 "nbformat_minor": 2
}
