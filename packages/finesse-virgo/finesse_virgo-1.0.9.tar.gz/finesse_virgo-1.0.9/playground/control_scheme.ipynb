{
 "cells": [
  {
   "cell_type": "code",
   "execution_count": 1,
   "metadata": {},
   "outputs": [],
   "source": [
    "import finesse.virgo"
   ]
  },
  {
   "cell_type": "code",
   "execution_count": 3,
   "metadata": {},
   "outputs": [
    {
     "name": "stdout",
     "output_type": "stream",
     "text": [
      "{'PRCL': ('B2_8', 'Q', 1e-06), 'MICH': ('B2_56', 'Q', 1e-06), 'CARM': ('B2_6', 'Q', 1e-06), 'DARM': ('B1p_56', 'Q', 1e-06), 'SRCL': ('B2_56', 'Q', 1e-06)}\n"
     ]
    }
   ],
   "source": [
    "virgo = finesse.virgo.Virgo(control_scheme={\n",
    "    \"PRCL\": (\"B2_8\", \"Q\", 1e-6),\n",
    "    \"MICH\": (\"B2_56\", \"Q\", 1e-6),\n",
    "    \"CARM\": (\"B2_6\", \"Q\", 1e-6),\n",
    "    \"DARM\": (\"B1p_56\", \"Q\", 1e-6),\n",
    "    \"SRCL\": (\"B2_56\", \"Q\", 1e-6),\n",
    "})\n",
    "\n",
    "print(virgo.control_scheme)"
   ]
  },
  {
   "cell_type": "code",
   "execution_count": null,
   "metadata": {},
   "outputs": [],
   "source": []
  }
 ],
 "metadata": {
  "kernelspec": {
   "display_name": "Python 3.9.7 ('f3')",
   "language": "python",
   "name": "python3"
  },
  "language_info": {
   "codemirror_mode": {
    "name": "ipython",
    "version": 3
   },
   "file_extension": ".py",
   "mimetype": "text/x-python",
   "name": "python",
   "nbconvert_exporter": "python",
   "pygments_lexer": "ipython3",
   "version": "3.9.7"
  },
  "orig_nbformat": 4,
  "vscode": {
   "interpreter": {
    "hash": "e63bc18e93140e24cd570e2b209b6587cfe707b0bcc83b254b0fbf45eb9a9a15"
   }
  }
 },
 "nbformat": 4,
 "nbformat_minor": 2
}
