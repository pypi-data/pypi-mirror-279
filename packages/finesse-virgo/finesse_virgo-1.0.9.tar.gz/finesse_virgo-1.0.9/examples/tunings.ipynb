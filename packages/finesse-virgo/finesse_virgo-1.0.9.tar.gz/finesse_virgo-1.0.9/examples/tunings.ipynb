{
 "cells": [
  {
   "cell_type": "code",
   "execution_count": 1,
   "metadata": {},
   "outputs": [],
   "source": [
    "import finesse.virgo"
   ]
  },
  {
   "cell_type": "code",
   "execution_count": 2,
   "metadata": {},
   "outputs": [],
   "source": [
    "virgo = finesse.virgo.Virgo()"
   ]
  },
  {
   "cell_type": "markdown",
   "metadata": {},
   "source": [
    "# Tunings\n",
    "\n",
    "Finesse 3 uses two values to determine the relative position of a mirror; the phi parameter and the relevant degrees of freedom.\n",
    "\n",
    "We define a \"phi tuning\" as the phi parameter $\\phi_{optic}$ (e.g., `NE.phi`) and a \"dof tuning\" as the DC value of the DOF $D_{dof}$ (e.g., `DARM.DC`).\n",
    "\n",
    "We can then define the \"tuning\" of an optic as the sum of the phi tuning and the contribution from each DOF.\n",
    "\n",
    "$ T_{i} = \\phi_{i} + A_{ij} D^{j} $\n",
    "\n",
    "This notebook covers the following:\n",
    "\n",
    "1) Print tunings\n",
    "2) Get tunings\n",
    "3) Set tunings\n",
    "4) Zero dof tunings"
   ]
  },
  {
   "cell_type": "markdown",
   "metadata": {},
   "source": [
    "## 1) Print tunings\n",
    "\n",
    "The tunings can be displayed in a summary table using `print_tunings()`. The tunings will be shown in both degrees and picometers in addition to the phi and dof tunings in degrees."
   ]
  },
  {
   "cell_type": "code",
   "execution_count": 3,
   "metadata": {},
   "outputs": [
    {
     "name": "stdout",
     "output_type": "stream",
     "text": [
      "┌───────────┬────────────┬──────────────┬──────────────┬──────────────┐\n",
      "│ Optic/DOF │  phi [deg] │ dof.DC [deg] │ Tuning [deg] │  Tuning [pm] │\n",
      "╞═══════════╪════════════╪══════════════╪══════════════╪══════════════╡\n",
      "│ NE        │          0 │              │            0 │            0 │\n",
      "│ WE        │          0 │              │            0 │            0 │\n",
      "│ NI        │          0 │              │            0 │            0 │\n",
      "│ WI        │          0 │              │            0 │            0 │\n",
      "│ PR        │          0 │              │            0 │            0 │\n",
      "│ SR        │         -0 │              │            0 │            0 │\n",
      "│ PRCL      │            │            0 │              │              │\n",
      "│ MICH      │            │            0 │              │              │\n",
      "│ CARM      │            │            0 │              │              │\n",
      "│ DARM      │            │            0 │              │              │\n",
      "│ SRCL      │            │            0 │              │              │\n",
      "└───────────┴────────────┴──────────────┴──────────────┴──────────────┘\n",
      "\n"
     ]
    }
   ],
   "source": [
    "virgo.print_tunings()"
   ]
  },
  {
   "cell_type": "markdown",
   "metadata": {},
   "source": [
    "## 2) Return the current tunings\n",
    "\n",
    "The current tunings can be returned using `get_tunings()`. This will return a dictionary keyed by optic.\n",
    "\n",
    "Similarly, the current phi or dof tunings can be returned using `get_phi_tunings()` or `get_dof_tunings()`."
   ]
  },
  {
   "cell_type": "code",
   "execution_count": 4,
   "metadata": {},
   "outputs": [
    {
     "name": "stdout",
     "output_type": "stream",
     "text": [
      "Tunings {'NE': 0.0, 'WE': 0.0, 'NI': 0.0, 'WI': 0.0, 'PR': 0.0, 'SR': 0.0}\n",
      "Phi tunings {'NE': 0.0, 'WE': 0.0, 'NI': 0.0, 'WI': 0.0, 'PR': 0.0, 'SR': -0.0}\n",
      "DOF tunings {'PRCL': 0.0, 'MICH': 0.0, 'CARM': 0.0, 'DARM': 0.0, 'SRCL': 0.0}\n",
      "((((((((((CARM.DC+CARM_Fz.DC)+NARM.DC)+NARM_Fz.DC)+NE_Fz.DC)+NE_z.DC)+(-DARM.DC))+(-DARM_Fz.DC))+(-MICH.DC))+(-MICH_Fz.DC))+0.0)\n"
     ]
    }
   ],
   "source": [
    "# get all the tunings (phi+DOF)\n",
    "print('Tunings', virgo.get_tunings())\n",
    "\n",
    "# get the phi or dof tunings\n",
    "print('Phi tunings', virgo.get_phi_tunings())\n",
    "print('DOF tunings', virgo.get_dof_tunings())\n",
    "\n",
    "print(virgo.get_tuning('NE'))"
   ]
  },
  {
   "cell_type": "markdown",
   "metadata": {},
   "source": [
    "## 3) Set tunings\n",
    "\n",
    "The tunings can be set by passing a dictionary to `set_tunings()`. The tunings will be applied directory to the mirrors as phi tunings and the dof tunings will be reset."
   ]
  },
  {
   "cell_type": "code",
   "execution_count": 5,
   "metadata": {},
   "outputs": [
    {
     "name": "stdout",
     "output_type": "stream",
     "text": [
      "┌───────────┬────────────┬──────────────┬──────────────┬──────────────┐\n",
      "│ Optic/DOF │  phi [deg] │ dof.DC [deg] │ Tuning [deg] │  Tuning [pm] │\n",
      "╞═══════════╪════════════╪══════════════╪══════════════╪══════════════╡\n",
      "│ NE        │          1 │              │            1 │      2955.56 │\n",
      "│ WE        │          1 │              │            1 │      2955.56 │\n",
      "│ NI        │          1 │              │            1 │      2955.56 │\n",
      "│ WI        │          1 │              │            1 │      2955.56 │\n",
      "│ PR        │          1 │              │            1 │      2955.56 │\n",
      "│ SR        │          1 │              │            1 │      2955.56 │\n",
      "│ PRCL      │            │            0 │              │              │\n",
      "│ MICH      │            │            0 │              │              │\n",
      "│ CARM      │            │            0 │              │              │\n",
      "│ DARM      │            │            0 │              │              │\n",
      "│ SRCL      │            │            0 │              │              │\n",
      "└───────────┴────────────┴──────────────┴──────────────┴──────────────┘\n",
      "\n"
     ]
    }
   ],
   "source": [
    "virgo.set_tunings({\n",
    "    \"NE\": 1,\n",
    "    \"WE\": 1,\n",
    "    \"NI\": 1,\n",
    "    \"WI\": 1,\n",
    "    \"PR\": 1,\n",
    "    \"SR\": 1,\n",
    "})\n",
    "\n",
    "virgo.print_tunings()"
   ]
  },
  {
   "cell_type": "markdown",
   "metadata": {},
   "source": [
    "Phi and DOF tunings can also be set separately."
   ]
  },
  {
   "cell_type": "code",
   "execution_count": 6,
   "metadata": {},
   "outputs": [
    {
     "name": "stdout",
     "output_type": "stream",
     "text": [
      "┌───────────┬────────────┬──────────────┬──────────────┬──────────────┐\n",
      "│ Optic/DOF │  phi [deg] │ dof.DC [deg] │ Tuning [deg] │  Tuning [pm] │\n",
      "╞═══════════╪════════════╪══════════════╪══════════════╪══════════════╡\n",
      "│ NE        │          1 │              │            0 │            0 │\n",
      "│ WE        │          1 │              │            4 │      11822.2 │\n",
      "│ NI        │          1 │              │            0 │            0 │\n",
      "│ WI        │          1 │              │            2 │      5911.11 │\n",
      "│ PR        │          1 │              │            2 │      5911.11 │\n",
      "│ SR        │          1 │              │            0 │            0 │\n",
      "│ PRCL      │            │            1 │              │              │\n",
      "│ MICH      │            │            1 │              │              │\n",
      "│ CARM      │            │            1 │              │              │\n",
      "│ DARM      │            │            1 │              │              │\n",
      "│ SRCL      │            │            1 │              │              │\n",
      "└───────────┴────────────┴──────────────┴──────────────┴──────────────┘\n",
      "\n"
     ]
    }
   ],
   "source": [
    "virgo.set_phi_tunings({\n",
    "    \"NE\": 1,\n",
    "    \"WE\": 1,\n",
    "    \"NI\": 1,\n",
    "    \"WI\": 1,\n",
    "    \"PR\": 1,\n",
    "    \"SR\": 1,\n",
    "})\n",
    "\n",
    "virgo.set_dof_tunings({\n",
    "    \"DARM\": 1,\n",
    "    \"CARM\": 1,\n",
    "    \"MICH\": 1,\n",
    "    \"PRCL\": 1,\n",
    "    \"SRCL\": 1,\n",
    "})\n",
    "\n",
    "virgo.print_tunings()"
   ]
  },
  {
   "cell_type": "markdown",
   "metadata": {},
   "source": [
    "## 4) Zeroing DOF tunings\n",
    "\n",
    "It may be intuitive to store all tuning information in the mirrors' phi tunings. This can be done with `zero_dof_tuning()` which will relocate the DOF tunings into the phi tunings."
   ]
  },
  {
   "cell_type": "code",
   "execution_count": 7,
   "metadata": {},
   "outputs": [
    {
     "name": "stdout",
     "output_type": "stream",
     "text": [
      "┌───────────┬────────────┬──────────────┬──────────────┬──────────────┐\n",
      "│ Optic/DOF │  phi [deg] │ dof.DC [deg] │ Tuning [deg] │  Tuning [pm] │\n",
      "╞═══════════╪════════════╪══════════════╪══════════════╪══════════════╡\n",
      "│ NE        │          0 │              │            0 │            0 │\n",
      "│ WE        │          4 │              │            4 │      11822.2 │\n",
      "│ NI        │          0 │              │            0 │            0 │\n",
      "│ WI        │          2 │              │            2 │      5911.11 │\n",
      "│ PR        │          2 │              │            2 │      5911.11 │\n",
      "│ SR        │          0 │              │            0 │            0 │\n",
      "│ PRCL      │            │            0 │              │              │\n",
      "│ MICH      │            │            0 │              │              │\n",
      "│ CARM      │            │            0 │              │              │\n",
      "│ DARM      │            │            0 │              │              │\n",
      "│ SRCL      │            │            0 │              │              │\n",
      "└───────────┴────────────┴──────────────┴──────────────┴──────────────┘\n",
      "\n"
     ]
    }
   ],
   "source": [
    "virgo.zero_dof_tunings()\n",
    "\n",
    "virgo.print_tunings()"
   ]
  }
 ],
 "metadata": {
  "kernelspec": {
   "display_name": "Python 3.9.7 ('f3')",
   "language": "python",
   "name": "python3"
  },
  "language_info": {
   "codemirror_mode": {
    "name": "ipython",
    "version": 3
   },
   "file_extension": ".py",
   "mimetype": "text/x-python",
   "name": "python",
   "nbconvert_exporter": "python",
   "pygments_lexer": "ipython3",
   "version": "3.1.-1"
  },
  "orig_nbformat": 4,
  "vscode": {
   "interpreter": {
    "hash": "e63bc18e93140e24cd570e2b209b6587cfe707b0bcc83b254b0fbf45eb9a9a15"
   }
  }
 },
 "nbformat": 4,
 "nbformat_minor": 2
}
