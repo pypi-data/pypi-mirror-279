{
 "cells": [
  {
   "cell_type": "code",
   "execution_count": 1,
   "metadata": {},
   "outputs": [],
   "source": [
    "import finesse.virgo"
   ]
  },
  {
   "cell_type": "markdown",
   "metadata": {},
   "source": [
    "# Printing Examples\n",
    "\n",
    "1. Print settings\n",
    "2. Print lengths and frequencies\n",
    "3. Print powers\n",
    "4. Print DOFs\n",
    "5. Print locks\n",
    "6. Print tunings\n",
    "7. Print thermal values"
   ]
  },
  {
   "cell_type": "code",
   "execution_count": 2,
   "metadata": {},
   "outputs": [
    {
     "name": "stdout",
     "output_type": "stream",
     "text": [
      "Adjusting recycling cavity lengths...\n",
      "Pretuning...\n",
      "Optimizing demodulation phases...\n",
      "Optimizing lock gains...\n",
      "Running RF locks...\n",
      "Switching to DARM DC lock...\n",
      "Done.\n"
     ]
    }
   ],
   "source": [
    "# create a tuned Virgo model to use for this notebook.\n",
    "virgo = finesse.virgo.Virgo()\n",
    "virgo.make()"
   ]
  },
  {
   "cell_type": "markdown",
   "metadata": {},
   "source": [
    "## 1. Print Model Settings"
   ]
  },
  {
   "cell_type": "code",
   "execution_count": 3,
   "metadata": {},
   "outputs": [
    {
     "name": "stdout",
     "output_type": "stream",
     "text": [
      "┌──────────╥───────┐\n",
      "│ Setting  ║ Value │\n",
      "╞══════════╬═══════╡\n",
      "│ modes    ║  None │\n",
      "│ maxtem   ║     0 │\n",
      "│ zero_k00 ║ False │\n",
      "│ x_scale  ║   1.0 │\n",
      "└──────────╨───────┘\n",
      "\n"
     ]
    }
   ],
   "source": [
    "virgo.print_settings()"
   ]
  },
  {
   "cell_type": "markdown",
   "metadata": {},
   "source": [
    "## 2. Print Lengths and Frequencies"
   ]
  },
  {
   "cell_type": "code",
   "execution_count": 4,
   "metadata": {},
   "outputs": [
    {
     "name": "stdout",
     "output_type": "stream",
     "text": [
      "┌─────────────────────────────────────────────────┐\n",
      "│- Arm lengths [m]:                               │\n",
      "│  LN   = 2999.8180   LW = 2999.7880              │\n",
      "├─────────────────────────────────────────────────┤\n",
      "│- Michelson and recycling lengths [m]:           │\n",
      "│  ln   = 6.0152      lw       = 5.7851           │\n",
      "│  lpr  = 6.0518      lsr      = 6.0518           │\n",
      "│  lMI  = 5.9001      lSchnupp = 0.2301           │\n",
      "│  lPRC = 11.9520     lSRC     = 11.9520          │\n",
      "├─────────────────────────────────────────────────┤\n",
      "│- Associated cavity frequencies [Hz]:            │\n",
      "│  fsrN   = 49968.44    fsrW   = 49968.94         │\n",
      "│  fsrPRC = 12541554.00 fsrSRC = 12541554.00      │\n",
      "│                                                 │\n",
      "│- Modulation sideband frequencies [MHz]:         │\n",
      "│  f6     = 6.270777     f8     = 8.361036        │\n",
      "│  f56     = 56.436993                            │\n",
      "├─────────────────────────────────────────────────┤\n",
      "│- Check frequency match [MHz]:                   │\n",
      "│  125.5*fsrN-300 = 6.270739                      │\n",
      "│  0.5*fsrPRC     = 6.270777                      │\n",
      "│  0.5*fsrSRC     = 6.270777                      │\n",
      "│  9*f6           = 56.436993                     │\n",
      "└─────────────────────────────────────────────────┘\n"
     ]
    }
   ],
   "source": [
    "virgo.print_lengths()"
   ]
  },
  {
   "cell_type": "markdown",
   "metadata": {},
   "source": [
    "## 3. Print Carrier Powers"
   ]
  },
  {
   "cell_type": "code",
   "execution_count": 5,
   "metadata": {},
   "outputs": [
    {
     "name": "stdout",
     "output_type": "stream",
     "text": [
      "┌──────────────╥───────────┬────────────┐\n",
      "│   Detector   ║ Power [W] │ Pow. ratio │\n",
      "╞══════════════╬═══════════╪════════════╡\n",
      "│ CAR_AMP_PRin ║        40 │          1 │\n",
      "│  CAR_AMP_N   ║ 2.484e+05 │       6209 │\n",
      "│  CAR_AMP_W   ║ 2.466e+05 │       6164 │\n",
      "│  CAR_AMP_BS  ║      1752 │      43.81 │\n",
      "│  CAR_AMP_AS  ║  0.005335 │  0.0001334 │\n",
      "└──────────────╨───────────┴────────────┘\n",
      "\n"
     ]
    }
   ],
   "source": [
    "virgo.print_powers()"
   ]
  },
  {
   "cell_type": "markdown",
   "metadata": {},
   "source": [
    "## 4. Print DOF Values"
   ]
  },
  {
   "cell_type": "code",
   "execution_count": 6,
   "metadata": {},
   "outputs": [
    {
     "name": "stdout",
     "output_type": "stream",
     "text": [
      "——  DOFs :\n",
      "    PRCL: 0.0008020402175891171\n",
      "    MICH: 0.00019048099054478807\n",
      "    CARM: 2.4154691900169917e-06\n",
      "    DARM: 0.0005002454336320813\n",
      "    SRCL: 89.99286008149673\n"
     ]
    }
   ],
   "source": [
    "virgo.print_dofs()"
   ]
  },
  {
   "cell_type": "markdown",
   "metadata": {},
   "source": [
    "## 5. Print Locks"
   ]
  },
  {
   "cell_type": "code",
   "execution_count": 7,
   "metadata": {},
   "outputs": [
    {
     "name": "stdout",
     "output_type": "stream",
     "text": [
      " ╔═══════════════════════════════════════════════════════╗\n",
      " ║ Parameters for locks:                                 ║\n",
      " ╠═══════════════════════════════════════════════════════╣\n",
      " ║ Lock name      port     DOF      lock gain    enabled ║\n",
      " ║ PRCL_lock      B2_8_I   DC        -6.4e+01       True ║\n",
      " ║ MICH_lock      B2_56_Q  DC           2e+03       True ║\n",
      " ║ CARM_lock      B2_6_I   DC           -0.16       True ║\n",
      " ║ DARM_rf_lock   B1p_56_I DC         -0.0066      False ║\n",
      " ║ DARM_dc_lock   B1_DC    DC           -0.01       True ║\n",
      " ║ SRCL_lock      B2_56_I  DC        -3.8e+03       True ║\n",
      " ╟───────────────────────────────────────────────────────╢\n",
      " ║ Accuracies        [deg]            [m]            [W] ║\n",
      " ║ PRCL     :  0.000338346          1e-12        5.3e-06 ║\n",
      " ║ MICH     :   0.00338346          1e-11        9.1e-07 ║\n",
      " ║ CARM     :  3.38346e-06          1e-14        1.6e-05 ║\n",
      " ║ DARM     :  3.38346e-06          1e-14         0.0017 ║\n",
      " ║ SRCL     :     0.169173          5e-10        2.2e-05 ║\n",
      " ╟───────────────────────────────────────────────────────╢\n",
      " ║ Optical gains   [W/deg]        [W/rad]          [W/m] ║\n",
      " ║ PRCL     :     0.015689        0.89889     5.3082e+06 ║\n",
      " ║ MICH     :  -0.00050183      -0.028753    -1.6979e+05 ║\n",
      " ║ CARM     :       6.1985         355.15     2.0973e+09 ║\n",
      " ║ DARM     :       152.25         8723.6     5.1515e+10 ║\n",
      " ║ SRCL     :   0.00026231       0.015029     8.8753e+04 ║\n",
      " ╚═══════════════════════════════════════════════════════╝\n"
     ]
    }
   ],
   "source": [
    "virgo.print_locks()"
   ]
  },
  {
   "cell_type": "markdown",
   "metadata": {},
   "source": [
    "## 6. Print Tunings"
   ]
  },
  {
   "cell_type": "code",
   "execution_count": 8,
   "metadata": {},
   "outputs": [
    {
     "name": "stdout",
     "output_type": "stream",
     "text": [
      "┌───────────┬────────────┬──────────────┬──────────────┬──────────────┐\n",
      "│ Optic/DOF │  phi [deg] │ dof.DC [deg] │ Tuning [deg] │  Tuning [pm] │\n",
      "╞═══════════╪════════════╪══════════════╪══════════════╪══════════════╡\n",
      "│ NE        │ -0.0006883 │              │  -0.00137662 │     -4.06868 │\n",
      "│ WE        │  0.0006931 │              │   0.00138628 │      4.09724 │\n",
      "│ NI        │ -0.0001905 │              │ -0.000380962 │     -1.12595 │\n",
      "│ WI        │  0.0001905 │              │  0.000380962 │      1.12595 │\n",
      "│ PR        │   0.000802 │              │   0.00160408 │      4.74095 │\n",
      "│ SR        │     -89.99 │              │     -179.986 │      -531958 │\n",
      "│ PRCL      │            │     0.000802 │              │              │\n",
      "│ MICH      │            │    0.0001905 │              │              │\n",
      "│ CARM      │            │    2.415e-06 │              │              │\n",
      "│ DARM      │            │    0.0005002 │              │              │\n",
      "│ SRCL      │            │        89.99 │              │              │\n",
      "└───────────┴────────────┴──────────────┴──────────────┴──────────────┘\n",
      "\n"
     ]
    }
   ],
   "source": [
    "virgo.print_tunings()"
   ]
  },
  {
   "cell_type": "markdown",
   "metadata": {},
   "source": [
    "## 7. Print Thermal Values"
   ]
  },
  {
   "cell_type": "code",
   "execution_count": 9,
   "metadata": {},
   "outputs": [
    {
     "name": "stdout",
     "output_type": "stream",
     "text": [
      "┌───────────────────╥─────────────┐\n",
      "│ Thermal Parameter ║    Value    │\n",
      "╞═══════════════════╬═════════════╡\n",
      "│      PR.Rcx       ║    -1430.00 │\n",
      "│      PR.Rcy       ║    -1430.00 │\n",
      "│      SR.Rcx       ║     1430.00 │\n",
      "│      SR.Rcy       ║     1430.00 │\n",
      "│     f_CPN_TL      ║  -338008.00 │\n",
      "│     f_CPW_TL      ║  -353134.00 │\n",
      "└───────────────────╨─────────────┘\n",
      "\n"
     ]
    }
   ],
   "source": [
    "virgo.print_thermal_values()"
   ]
  }
 ],
 "metadata": {
  "kernelspec": {
   "display_name": "Python 3.9.7 ('f3')",
   "language": "python",
   "name": "python3"
  },
  "language_info": {
   "codemirror_mode": {
    "name": "ipython",
    "version": 3
   },
   "file_extension": ".py",
   "mimetype": "text/x-python",
   "name": "python",
   "nbconvert_exporter": "python",
   "pygments_lexer": "ipython3",
   "version": "3.12.2"
  },
  "orig_nbformat": 4,
  "vscode": {
   "interpreter": {
    "hash": "e63bc18e93140e24cd570e2b209b6587cfe707b0bcc83b254b0fbf45eb9a9a15"
   }
  }
 },
 "nbformat": 4,
 "nbformat_minor": 2
}
