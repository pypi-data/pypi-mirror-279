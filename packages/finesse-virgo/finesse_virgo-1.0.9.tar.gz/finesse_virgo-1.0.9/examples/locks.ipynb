{
 "cells": [
  {
   "cell_type": "code",
   "execution_count": 1,
   "metadata": {},
   "outputs": [],
   "source": [
    "import finesse.virgo\n",
    "\n",
    "finesse.init_plotting()"
   ]
  },
  {
   "cell_type": "markdown",
   "metadata": {},
   "source": [
    "# Locks\n",
    "\n",
    "1) Creating Virgo without locks\n",
    "2) Adding locks\n",
    "3) Printing locks\n",
    "4) Displaying error signals"
   ]
  },
  {
   "cell_type": "markdown",
   "metadata": {},
   "source": [
    "## 1) Creating Virgo without locks\n",
    "\n",
    "By default, the locks are added according to the control scheme. This can be skipped by using `add_locks=False` to add them later."
   ]
  },
  {
   "cell_type": "code",
   "execution_count": 2,
   "metadata": {},
   "outputs": [],
   "source": [
    "virgo = finesse.virgo.Virgo(add_locks=False)"
   ]
  },
  {
   "cell_type": "markdown",
   "metadata": {},
   "source": [
    "## 2) Adding locks\n",
    "\n",
    "Locks are added according to the control scheme which can be modified manually before adding them by calling `add_locks()`."
   ]
  },
  {
   "cell_type": "code",
   "execution_count": 3,
   "metadata": {},
   "outputs": [
    {
     "name": "stdout",
     "output_type": "stream",
     "text": [
      "{'PRCL': ('B2_8', 'I', None, 1e-12), 'MICH': ('B2_56', 'Q', None, 1e-11), 'CARM': ('B2_6', 'I', None, 1e-14), 'DARM': ('B1p_56', 'I', None, 1e-14), 'SRCL': ('B2_56', 'I', None, 5e-10)}\n"
     ]
    }
   ],
   "source": [
    "print(virgo.control_scheme)\n",
    "\n",
    "virgo.add_locks()"
   ]
  },
  {
   "cell_type": "markdown",
   "metadata": {},
   "source": [
    "## 3) Printing locks\n",
    "\n",
    "You can use `print_locks()` to display the state of the locks.\n",
    "\n",
    "It will display the lock parameters in addition to the accuracies in units of degrees, meters, and Watts and the optical gains in units of W/deg, W/rad, and W/m."
   ]
  },
  {
   "cell_type": "code",
   "execution_count": 4,
   "metadata": {},
   "outputs": [
    {
     "name": "stdout",
     "output_type": "stream",
     "text": [
      " ╔═══════════════════════════════════════════════════════╗\n",
      " ║ Parameters for locks:                                 ║\n",
      " ╠═══════════════════════════════════════════════════════╣\n",
      " ║ Lock name      port     DOF      lock gain    enabled ║\n",
      " ║ PRCL_lock      B2_8_I   DC             1.0       True ║\n",
      " ║ MICH_lock      B2_56_Q  DC             1.0       True ║\n",
      " ║ CARM_lock      B2_6_I   DC             1.0       True ║\n",
      " ║ DARM_rf_lock   B1p_56_I DC             1.0       True ║\n",
      " ║ DARM_dc_lock   B1_DC    DC             1.0      False ║\n",
      " ║ SRCL_lock      B2_56_I  DC             1.0       True ║\n",
      " ╟───────────────────────────────────────────────────────╢\n",
      " ║ Accuracies        [deg]            [m]            [W] ║\n",
      " ║ PRCL     :  0.000338346          1e-12        5.3e-06 ║\n",
      " ║ MICH     :   0.00338346          1e-11        9.1e-07 ║\n",
      " ║ CARM     :  3.38346e-06          1e-14        1.6e-05 ║\n",
      " ║ DARM     :  3.38346e-06          1e-14         0.0017 ║\n",
      " ║ SRCL     :     0.169173          5e-10        2.2e-05 ║\n",
      " ╟───────────────────────────────────────────────────────╢\n",
      " ║ Optical gains   [W/deg]        [W/rad]          [W/m] ║\n",
      " ║ PRCL     :      0.01566        0.89725     5.2985e+06 ║\n",
      " ║ MICH     :  -0.00026753      -0.015328    -9.0516e+04 ║\n",
      " ║ CARM     :       4.6014         263.64     1.5569e+09 ║\n",
      " ║ DARM     :        508.5     2.9135e+04     1.7205e+11 ║\n",
      " ║ SRCL     :  -0.00012714     -0.0072845    -4.3017e+04 ║\n",
      " ╚═══════════════════════════════════════════════════════╝\n"
     ]
    }
   ],
   "source": [
    "# default usage\n",
    "virgo.print_locks()"
   ]
  },
  {
   "cell_type": "markdown",
   "metadata": {},
   "source": [
    "Optionally, adjusted lock gains ($ factor * (-1/optical gain)$) can be displayed by providing a dictionary of gain adjustments. This may be needed to make the locks more robust for a particular set up.\n",
    "\n",
    "Note: this is just a calculation without changing the locks. Any changes will need to be added manually."
   ]
  },
  {
   "cell_type": "code",
   "execution_count": 5,
   "metadata": {},
   "outputs": [
    {
     "name": "stdout",
     "output_type": "stream",
     "text": [
      " ╔═══════════════════════════════════════════════════════╗\n",
      " ║ Parameters for locks:                                 ║\n",
      " ╠═══════════════════════════════════════════════════════╣\n",
      " ║ Lock name      port     DOF      lock gain    enabled ║\n",
      " ║ PRCL_lock      B2_8_I   DC             1.0       True ║\n",
      " ║ MICH_lock      B2_56_Q  DC             1.0       True ║\n",
      " ║ CARM_lock      B2_6_I   DC             1.0       True ║\n",
      " ║ DARM_rf_lock   B1p_56_I DC             1.0       True ║\n",
      " ║ DARM_dc_lock   B1_DC    DC             1.0      False ║\n",
      " ║ SRCL_lock      B2_56_I  DC             1.0       True ║\n",
      " ╟───────────────────────────────────────────────────────╢\n",
      " ║ Accuracies        [deg]            [m]            [W] ║\n",
      " ║ PRCL     :  0.000338346          1e-12        5.3e-06 ║\n",
      " ║ MICH     :   0.00338346          1e-11        9.1e-07 ║\n",
      " ║ CARM     :  3.38346e-06          1e-14        1.6e-05 ║\n",
      " ║ DARM     :  3.38346e-06          1e-14         0.0017 ║\n",
      " ║ SRCL     :     0.169173          5e-10        2.2e-05 ║\n",
      " ╟───────────────────────────────────────────────────────╢\n",
      " ║ Optical gains   [W/deg]        [W/rad]          [W/m] ║\n",
      " ║ PRCL     :      0.01566        0.89725     5.2985e+06 ║\n",
      " ║ MICH     :  -0.00026753      -0.015328    -9.0516e+04 ║\n",
      " ║ CARM     :       4.6014         263.64     1.5569e+09 ║\n",
      " ║ DARM     :        508.5     2.9135e+04     1.7205e+11 ║\n",
      " ║ SRCL     :  -0.00012714     -0.0072845    -4.3017e+04 ║\n",
      " ╟───────────────────────────────────────────────────────╢\n",
      " ║            adjustment    -1/opt_gain   adj. lock gain ║\n",
      " ║ PRCL     :        0.9 *     -63.8573 =       -57.4716 ║\n",
      " ║ MICH     :      0.001 *      3737.96 =        3.73796 ║\n",
      " ║ CARM     :        0.9 *    -0.217327 =      -0.195594 ║\n",
      " ║ DARM     :        0.1 *  -0.00196655 =   -0.000196655 ║\n",
      " ║ SRCL     :       0.02 *      7865.39 =        157.308 ║\n",
      " ╚═══════════════════════════════════════════════════════╝\n"
     ]
    }
   ],
   "source": [
    "# with gain adjustments\n",
    "virgo.print_locks(gain_adjustments={\n",
    "    \"DARM\": 0.1, \n",
    "    \"CARM\": 0.9, \n",
    "    \"PRCL\": 0.9, \n",
    "    \"MICH\": 0.001, \n",
    "    \"SRCL\": 0.02,\n",
    "})"
   ]
  },
  {
   "cell_type": "markdown",
   "metadata": {},
   "source": [
    "## 4) Displaying Error Signals\n",
    "\n",
    "The value of the error signals can be displayed with `print_error_signals()` and returned with `get_error_signals()`."
   ]
  },
  {
   "cell_type": "code",
   "execution_count": 6,
   "metadata": {},
   "outputs": [
    {
     "name": "stdout",
     "output_type": "stream",
     "text": [
      "Adjusting recycling cavity lengths...\n",
      "Pretuning...\n",
      "Optimizing demodulation phases...\n",
      "Optimizing lock gains...\n",
      "Running RF locks...\n",
      "Done.\n",
      "┌────────┬───────────┬────────────┐\n",
      "│ DOF    │ signal    │  error [W] │\n",
      "╞════════╪═══════════╪════════════╡\n",
      "│ PRCL   │ B2_8_I    │ -1.078e-11 │\n",
      "│ MICH   │ B2_56_Q   │ -1.088e-12 │\n",
      "│ CARM   │ B2_6_I    │  1.569e-11 │\n",
      "│ DARM   │ B1p_56_I  │  5.847e-05 │\n",
      "│ SRCL   │ B2_56_I   │   1.08e-11 │\n",
      "└────────┴───────────┴────────────┘\n",
      "\n"
     ]
    },
    {
     "data": {
      "text/plain": [
       "{'PRCL': -1.0783946714197217e-11,\n",
       " 'MICH': -1.0884304604143294e-12,\n",
       " 'CARM': 1.5688157741731345e-11,\n",
       " 'DARM': 5.846954768972252e-05,\n",
       " 'SRCL': 1.0804535695953685e-11}"
      ]
     },
     "execution_count": 6,
     "metadata": {},
     "output_type": "execute_result"
    }
   ],
   "source": [
    "# pretune and lock the ifo\n",
    "virgo.make(dc_lock=False)\n",
    "\n",
    "# display the error signal values\n",
    "virgo.print_error_signals()\n",
    "\n",
    "# return as a dictionary keyed by dof\n",
    "virgo.get_error_signals()"
   ]
  },
  {
   "cell_type": "code",
   "execution_count": null,
   "metadata": {},
   "outputs": [],
   "source": []
  }
 ],
 "metadata": {
  "kernelspec": {
   "display_name": "Python 3.9.7 ('f3')",
   "language": "python",
   "name": "python3"
  },
  "language_info": {
   "codemirror_mode": {
    "name": "ipython",
    "version": 3
   },
   "file_extension": ".py",
   "mimetype": "text/x-python",
   "name": "python",
   "nbconvert_exporter": "python",
   "pygments_lexer": "ipython3",
   "version": "3.12.2"
  },
  "orig_nbformat": 4,
  "vscode": {
   "interpreter": {
    "hash": "e63bc18e93140e24cd570e2b209b6587cfe707b0bcc83b254b0fbf45eb9a9a15"
   }
  }
 },
 "nbformat": 4,
 "nbformat_minor": 2
}
