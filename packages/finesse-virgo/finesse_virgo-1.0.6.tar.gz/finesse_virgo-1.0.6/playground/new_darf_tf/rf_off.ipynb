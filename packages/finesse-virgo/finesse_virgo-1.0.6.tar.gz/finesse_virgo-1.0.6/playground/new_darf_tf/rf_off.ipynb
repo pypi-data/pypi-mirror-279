{
 "cells": [
  {
   "cell_type": "code",
   "execution_count": 40,
   "metadata": {},
   "outputs": [],
   "source": [
    "import finesse.virgo\n",
    "from finesse.analysis.actions import FrequencyResponse, Xaxis\n",
    "\n",
    "import numpy as np\n",
    "import matplotlib.pyplot as plt\n",
    "\n",
    "import time\n",
    "\n",
    "finesse.init_plotting()"
   ]
  },
  {
   "cell_type": "code",
   "execution_count": 18,
   "metadata": {},
   "outputs": [
    {
     "name": "stdout",
     "output_type": "stream",
     "text": [
      "Adjusting recycling cavity lengths...\n",
      "Pretuning...\n",
      "Optimizing demodulation phases...\n",
      "Optimizing lock gains...\n",
      "Running RF locks...\n",
      "Done.\n"
     ]
    }
   ],
   "source": [
    "# prepare a pretuned Virgo model\n",
    "# this is an old model that was tuned using zero_k00=True\n",
    "virgo = finesse.virgo.Virgo('virgoKat_tuned.kat', zero_k00=True)\n",
    "\n",
    "virgo.model.parse('''\n",
    "# adding detectors needed for this kat file.\n",
    "pd1 B4_112 B4_attenuator.p3.o f=2*eom56.f\n",
    "mathd B4_112_mag abs(B4_112)\n",
    "\n",
    "# add a new dof for the DARM tf\n",
    "dof DARM_Fz NE.dofs.F_z -1 WE.dofs.F_z +1\n",
    "''')\n",
    "\n",
    "# make but do not switch to dc lock\n",
    "virgo.make(dc_lock=False)"
   ]
  },
  {
   "cell_type": "code",
   "execution_count": 19,
   "metadata": {},
   "outputs": [],
   "source": [
    "def get_DARM(base, dof='DARM_Fz', readout_port='B1p_56.I', axis=[0.5, 1000, 201]):\n",
    "    model = base.deepcopy()\n",
    "    \n",
    "    model.parse('fsig(1)')\n",
    "\n",
    "    return model.run(FrequencyResponse(\n",
    "        np.geomspace(*axis),\n",
    "        [dof],\n",
    "        [readout_port]\n",
    "    ))\n",
    "\n",
    "def get_DARM2(base, dof='DARM_Fz', readout_port='B1p_56.I', axis=[0.5, 1000, 201]):\n",
    "    model = base.deepcopy()\n",
    "    \n",
    "    model.parse('fsig(1)')\n",
    "\n",
    "    model.eom6.order = 0\n",
    "    model.eom8.order = 0\n",
    "\n",
    "    return model.run(FrequencyResponse(\n",
    "        np.geomspace(*axis),\n",
    "        [dof],\n",
    "        [readout_port]\n",
    "    ))\n",
    "\n",
    "def get_DARM2_sgen(base, axis=[0.5, 1000, 200]):\n",
    "\n",
    "    model = base.deepcopy()\n",
    "\n",
    "    model.eom6.order = 0\n",
    "    model.eom8.order = 0\n",
    "\n",
    "    model.parse(\"\"\"\n",
    "    fsig(1)\n",
    "\n",
    "    # apply a signal to the end mirrors\n",
    "    sgen sigQ NE.mech.F_z phase=180\n",
    "    sgen sigI WE.mech.F_z\n",
    "\n",
    "    # read the output after the SRC\n",
    "    pd2 darm SRAR.p2.o f1=eom56.f phase1=B1p_56.phase f2=fsig.f phase2=none\n",
    "    \"\"\"\n",
    "    )\n",
    "\n",
    "    return model.run(Xaxis(model.fsig.f, \"log\", *axis))"
   ]
  },
  {
   "cell_type": "code",
   "execution_count": 35,
   "metadata": {},
   "outputs": [
    {
     "name": "stdout",
     "output_type": "stream",
     "text": [
      "2\n",
      "old 2.2615699768066406 s\n",
      "sgen RF off 2.303090810775757 s\n",
      "FR 1.7049145698547363 s\n",
      "FR RF off 0.9537625312805176 s\n",
      "4\n",
      "old 23.968078136444092 s\n",
      "sgen RF off 4.912276268005371 s\n",
      "FR 21.968186616897583 s\n",
      "FR RF off 4.030262470245361 s\n",
      "6\n",
      "old 120.43478512763977 s\n",
      "sgen RF off 43.449617862701416 s\n",
      "FR 102.86878800392151 s\n",
      "FR RF off 38.25415062904358 s\n",
      "8\n",
      "old 140.97398447990417 s\n",
      "sgen RF off 161.44725465774536 s\n",
      "FR 112.70761466026306 s\n",
      "FR RF off 145.82902121543884 s\n",
      "10\n",
      "old 398.8895614147186 s\n",
      "sgen RF off 521.9037268161774 s\n",
      "FR 315.5718150138855 s\n",
      "FR RF off 484.201810836792 s\n",
      "[[2.2615699768066406, 2.303090810775757, 1.7049145698547363, 0.9537625312805176], [23.968078136444092, 4.912276268005371, 21.968186616897583, 4.030262470245361], [120.43478512763977, 43.449617862701416, 102.86878800392151, 38.25415062904358], [140.97398447990417, 161.44725465774536, 112.70761466026306, 145.82902121543884], [398.8895614147186, 521.9037268161774, 315.5718150138855, 484.201810836792]]\n"
     ]
    }
   ],
   "source": [
    "maxtems = [2,4,6,8,10]\n",
    "\n",
    "runs = []\n",
    "\n",
    "for maxtem in maxtems:\n",
    "    # display current step\n",
    "    print(maxtem)\n",
    "\n",
    "    times = []\n",
    "\n",
    "    # set the maxtem\n",
    "    virgo.model.modes(maxtem=maxtem)\n",
    "\n",
    "    # time all the things\n",
    "    start_time = time.time()\n",
    "    sgen = virgo.get_DARM()\n",
    "    end_time = time.time() - start_time\n",
    "    print('old', end_time, 's')\n",
    "    times.append(end_time)\n",
    "\n",
    "    start_time = time.time()\n",
    "    sgen_nomod = get_DARM2_sgen(virgo.model)\n",
    "    end_time = time.time() - start_time\n",
    "    print('sgen RF off', end_time, 's')\n",
    "    times.append(end_time)\n",
    "\n",
    "    start_time = time.time()\n",
    "    fr = get_DARM(virgo.model)\n",
    "    end_time = time.time() - start_time\n",
    "    print('FR', end_time, 's')\n",
    "    times.append(end_time)\n",
    "\n",
    "    start_time = time.time()\n",
    "    nomod = get_DARM2(virgo.model)\n",
    "    end_time = time.time() - start_time\n",
    "    print('FR RF off', end_time, 's')\n",
    "    times.append(end_time)\n",
    "\n",
    "    runs.append(times)\n",
    "\n",
    "print(runs)\n"
   ]
  },
  {
   "cell_type": "code",
   "execution_count": 41,
   "metadata": {},
   "outputs": [
    {
     "data": {
      "text/plain": [
       "Text(0.5, 0, 'maxtem')"
      ]
     },
     "execution_count": 41,
     "metadata": {},
     "output_type": "execute_result"
    },
    {
     "data": {
      "image/svg+xml": "<?xml version=\"1.0\" encoding=\"utf-8\" standalone=\"no\"?>\n<!DOCTYPE svg PUBLIC \"-//W3C//DTD SVG 1.1//EN\"\n  \"http://www.w3.org/Graphics/SVG/1.1/DTD/svg11.dtd\">\n<svg xmlns:xlink=\"http://www.w3.org/1999/xlink\" width=\"386.550937pt\" height=\"254.241255pt\" viewBox=\"0 0 386.550937 254.241255\" xmlns=\"http://www.w3.org/2000/svg\" version=\"1.1\">\n <metadata>\n  <rdf:RDF xmlns:dc=\"http://purl.org/dc/elements/1.1/\" xmlns:cc=\"http://creativecommons.org/ns#\" xmlns:rdf=\"http://www.w3.org/1999/02/22-rdf-syntax-ns#\">\n   <cc:Work>\n    <dc:type rdf:resource=\"http://purl.org/dc/dcmitype/StillImage\"/>\n    <dc:date>2022-07-11T13:44:23.891732</dc:date>\n    <dc:format>image/svg+xml</dc:format>\n    <dc:creator>\n     <cc:Agent>\n      <dc:title>Matplotlib v3.5.1, https://matplotlib.org/</dc:title>\n     </cc:Agent>\n    </dc:creator>\n   </cc:Work>\n  </rdf:RDF>\n </metadata>\n <defs>\n  <style type=\"text/css\">*{stroke-linejoin: round; stroke-linecap: butt}</style>\n </defs>\n <g id=\"figure_1\">\n  <g id=\"patch_1\">\n   <path d=\"M 0 254.241255 \nL 386.550937 254.241255 \nL 386.550937 0 \nL 0 0 \nz\n\" style=\"fill: #ffffff\"/>\n  </g>\n  <g id=\"axes_1\">\n   <g id=\"patch_2\">\n    <path d=\"M 42.424688 220.285005 \nL 377.224688 220.285005 \nL 377.224688 18.718125 \nL 42.424688 18.718125 \nz\n\" style=\"fill: #ffffff\"/>\n   </g>\n   <g id=\"matplotlib.axis_1\">\n    <g id=\"xtick_1\">\n     <g id=\"line2d_1\">\n      <path d=\"M 42.424688 220.285005 \nL 42.424688 18.718125 \n\" clip-path=\"url(#p2b6a1380ee)\" style=\"fill: none; stroke: #000000; stroke-opacity: 0.3; stroke-width: 0.25; stroke-linecap: square\"/>\n     </g>\n     <g id=\"line2d_2\">\n      <defs>\n       <path id=\"m1677faf6cb\" d=\"M 0 0 \nL 0 3.5 \n\" style=\"stroke: #000000; stroke-width: 0.8\"/>\n      </defs>\n      <g>\n       <use xlink:href=\"#m1677faf6cb\" x=\"42.424688\" y=\"220.285005\" style=\"stroke: #000000; stroke-width: 0.8\"/>\n      </g>\n     </g>\n     <g id=\"text_1\">\n      <!-- 2 -->\n      <g transform=\"translate(39.561563 234.123599)scale(0.09 -0.09)\">\n       <defs>\n        <path id=\"DejaVuSerif-32\" d=\"M 819 3553 \nL 469 3553 \nL 469 4384 \nQ 803 4563 1142 4656 \nQ 1481 4750 1806 4750 \nQ 2534 4750 2956 4397 \nQ 3378 4044 3378 3438 \nQ 3378 2753 2422 1800 \nQ 2347 1728 2309 1691 \nL 1131 513 \nL 3078 513 \nL 3078 1088 \nL 3444 1088 \nL 3444 0 \nL 434 0 \nL 434 341 \nL 1850 1753 \nQ 2319 2222 2519 2614 \nQ 2719 3006 2719 3438 \nQ 2719 3909 2473 4175 \nQ 2228 4441 1797 4441 \nQ 1350 4441 1106 4219 \nQ 863 3997 819 3553 \nz\n\" transform=\"scale(0.015625)\"/>\n       </defs>\n       <use xlink:href=\"#DejaVuSerif-32\"/>\n      </g>\n     </g>\n    </g>\n    <g id=\"xtick_2\">\n     <g id=\"line2d_3\">\n      <path d=\"M 84.274688 220.285005 \nL 84.274688 18.718125 \n\" clip-path=\"url(#p2b6a1380ee)\" style=\"fill: none; stroke: #000000; stroke-opacity: 0.3; stroke-width: 0.25; stroke-linecap: square\"/>\n     </g>\n     <g id=\"line2d_4\">\n      <g>\n       <use xlink:href=\"#m1677faf6cb\" x=\"84.274688\" y=\"220.285005\" style=\"stroke: #000000; stroke-width: 0.8\"/>\n      </g>\n     </g>\n     <g id=\"text_2\">\n      <!-- 3 -->\n      <g transform=\"translate(81.411563 234.123599)scale(0.09 -0.09)\">\n       <defs>\n        <path id=\"DejaVuSerif-33\" d=\"M 622 4469 \nQ 988 4606 1323 4678 \nQ 1659 4750 1953 4750 \nQ 2638 4750 3022 4454 \nQ 3406 4159 3406 3634 \nQ 3406 3213 3140 2930 \nQ 2875 2647 2388 2547 \nQ 2963 2466 3280 2130 \nQ 3597 1794 3597 1259 \nQ 3597 606 3158 257 \nQ 2719 -91 1894 -91 \nQ 1528 -91 1179 -12 \nQ 831 66 488 225 \nL 488 1131 \nL 838 1131 \nQ 869 681 1141 450 \nQ 1413 219 1906 219 \nQ 2384 219 2661 495 \nQ 2938 772 2938 1253 \nQ 2938 1803 2653 2086 \nQ 2369 2369 1819 2369 \nL 1522 2369 \nL 1522 2688 \nL 1678 2688 \nQ 2225 2688 2498 2914 \nQ 2772 3141 2772 3597 \nQ 2772 4006 2547 4223 \nQ 2322 4441 1900 4441 \nQ 1478 4441 1245 4241 \nQ 1013 4041 972 3647 \nL 622 3647 \nL 622 4469 \nz\n\" transform=\"scale(0.015625)\"/>\n       </defs>\n       <use xlink:href=\"#DejaVuSerif-33\"/>\n      </g>\n     </g>\n    </g>\n    <g id=\"xtick_3\">\n     <g id=\"line2d_5\">\n      <path d=\"M 126.124688 220.285005 \nL 126.124688 18.718125 \n\" clip-path=\"url(#p2b6a1380ee)\" style=\"fill: none; stroke: #000000; stroke-opacity: 0.3; stroke-width: 0.25; stroke-linecap: square\"/>\n     </g>\n     <g id=\"line2d_6\">\n      <g>\n       <use xlink:href=\"#m1677faf6cb\" x=\"126.124688\" y=\"220.285005\" style=\"stroke: #000000; stroke-width: 0.8\"/>\n      </g>\n     </g>\n     <g id=\"text_3\">\n      <!-- 4 -->\n      <g transform=\"translate(123.261563 234.123599)scale(0.09 -0.09)\">\n       <defs>\n        <path id=\"DejaVuSerif-34\" d=\"M 2234 1581 \nL 2234 4063 \nL 641 1581 \nL 2234 1581 \nz\nM 3609 0 \nL 1484 0 \nL 1484 331 \nL 2234 331 \nL 2234 1247 \nL 197 1247 \nL 197 1588 \nL 2241 4750 \nL 2859 4750 \nL 2859 1581 \nL 3750 1581 \nL 3750 1247 \nL 2859 1247 \nL 2859 331 \nL 3609 331 \nL 3609 0 \nz\n\" transform=\"scale(0.015625)\"/>\n       </defs>\n       <use xlink:href=\"#DejaVuSerif-34\"/>\n      </g>\n     </g>\n    </g>\n    <g id=\"xtick_4\">\n     <g id=\"line2d_7\">\n      <path d=\"M 167.974688 220.285005 \nL 167.974688 18.718125 \n\" clip-path=\"url(#p2b6a1380ee)\" style=\"fill: none; stroke: #000000; stroke-opacity: 0.3; stroke-width: 0.25; stroke-linecap: square\"/>\n     </g>\n     <g id=\"line2d_8\">\n      <g>\n       <use xlink:href=\"#m1677faf6cb\" x=\"167.974688\" y=\"220.285005\" style=\"stroke: #000000; stroke-width: 0.8\"/>\n      </g>\n     </g>\n     <g id=\"text_4\">\n      <!-- 5 -->\n      <g transform=\"translate(165.111563 234.123599)scale(0.09 -0.09)\">\n       <defs>\n        <path id=\"DejaVuSerif-35\" d=\"M 3219 4666 \nL 3219 4153 \nL 1081 4153 \nL 1081 2816 \nQ 1244 2928 1461 2984 \nQ 1678 3041 1947 3041 \nQ 2703 3041 3140 2622 \nQ 3578 2203 3578 1478 \nQ 3578 738 3136 323 \nQ 2694 -91 1894 -91 \nQ 1572 -91 1234 -12 \nQ 897 66 544 225 \nL 544 1131 \nL 897 1131 \nQ 925 688 1179 453 \nQ 1434 219 1894 219 \nQ 2388 219 2653 544 \nQ 2919 869 2919 1478 \nQ 2919 2084 2655 2407 \nQ 2391 2731 1894 2731 \nQ 1613 2731 1398 2631 \nQ 1184 2531 1019 2322 \nL 750 2322 \nL 750 4666 \nL 3219 4666 \nz\n\" transform=\"scale(0.015625)\"/>\n       </defs>\n       <use xlink:href=\"#DejaVuSerif-35\"/>\n      </g>\n     </g>\n    </g>\n    <g id=\"xtick_5\">\n     <g id=\"line2d_9\">\n      <path d=\"M 209.824688 220.285005 \nL 209.824688 18.718125 \n\" clip-path=\"url(#p2b6a1380ee)\" style=\"fill: none; stroke: #000000; stroke-opacity: 0.3; stroke-width: 0.25; stroke-linecap: square\"/>\n     </g>\n     <g id=\"line2d_10\">\n      <g>\n       <use xlink:href=\"#m1677faf6cb\" x=\"209.824688\" y=\"220.285005\" style=\"stroke: #000000; stroke-width: 0.8\"/>\n      </g>\n     </g>\n     <g id=\"text_5\">\n      <!-- 6 -->\n      <g transform=\"translate(206.961563 234.123599)scale(0.09 -0.09)\">\n       <defs>\n        <path id=\"DejaVuSerif-36\" d=\"M 2094 219 \nQ 2534 219 2771 542 \nQ 3009 866 3009 1472 \nQ 3009 2078 2771 2401 \nQ 2534 2725 2094 2725 \nQ 1647 2725 1412 2412 \nQ 1178 2100 1178 1509 \nQ 1178 888 1415 553 \nQ 1653 219 2094 219 \nz\nM 1075 2569 \nQ 1288 2803 1556 2918 \nQ 1825 3034 2163 3034 \nQ 2859 3034 3264 2615 \nQ 3669 2197 3669 1472 \nQ 3669 763 3233 336 \nQ 2797 -91 2069 -91 \nQ 1278 -91 853 498 \nQ 428 1088 428 2181 \nQ 428 3406 931 4078 \nQ 1434 4750 2350 4750 \nQ 2597 4750 2869 4703 \nQ 3141 4656 3425 4563 \nL 3425 3794 \nL 3072 3794 \nQ 3034 4109 2831 4275 \nQ 2628 4441 2284 4441 \nQ 1678 4441 1381 3981 \nQ 1084 3522 1075 2569 \nz\n\" transform=\"scale(0.015625)\"/>\n       </defs>\n       <use xlink:href=\"#DejaVuSerif-36\"/>\n      </g>\n     </g>\n    </g>\n    <g id=\"xtick_6\">\n     <g id=\"line2d_11\">\n      <path d=\"M 251.674688 220.285005 \nL 251.674688 18.718125 \n\" clip-path=\"url(#p2b6a1380ee)\" style=\"fill: none; stroke: #000000; stroke-opacity: 0.3; stroke-width: 0.25; stroke-linecap: square\"/>\n     </g>\n     <g id=\"line2d_12\">\n      <g>\n       <use xlink:href=\"#m1677faf6cb\" x=\"251.674688\" y=\"220.285005\" style=\"stroke: #000000; stroke-width: 0.8\"/>\n      </g>\n     </g>\n     <g id=\"text_6\">\n      <!-- 7 -->\n      <g transform=\"translate(248.811563 234.123599)scale(0.09 -0.09)\">\n       <defs>\n        <path id=\"DejaVuSerif-37\" d=\"M 3609 4347 \nL 1784 0 \nL 1319 0 \nL 3059 4153 \nL 903 4153 \nL 903 3578 \nL 538 3578 \nL 538 4666 \nL 3609 4666 \nL 3609 4347 \nz\n\" transform=\"scale(0.015625)\"/>\n       </defs>\n       <use xlink:href=\"#DejaVuSerif-37\"/>\n      </g>\n     </g>\n    </g>\n    <g id=\"xtick_7\">\n     <g id=\"line2d_13\">\n      <path d=\"M 293.524688 220.285005 \nL 293.524688 18.718125 \n\" clip-path=\"url(#p2b6a1380ee)\" style=\"fill: none; stroke: #000000; stroke-opacity: 0.3; stroke-width: 0.25; stroke-linecap: square\"/>\n     </g>\n     <g id=\"line2d_14\">\n      <g>\n       <use xlink:href=\"#m1677faf6cb\" x=\"293.524688\" y=\"220.285005\" style=\"stroke: #000000; stroke-width: 0.8\"/>\n      </g>\n     </g>\n     <g id=\"text_7\">\n      <!-- 8 -->\n      <g transform=\"translate(290.661563 234.123599)scale(0.09 -0.09)\">\n       <defs>\n        <path id=\"DejaVuSerif-38\" d=\"M 2981 1275 \nQ 2981 1775 2732 2051 \nQ 2484 2328 2034 2328 \nQ 1584 2328 1336 2051 \nQ 1088 1775 1088 1275 \nQ 1088 772 1336 495 \nQ 1584 219 2034 219 \nQ 2484 219 2732 495 \nQ 2981 772 2981 1275 \nz\nM 2853 3541 \nQ 2853 3966 2637 4203 \nQ 2422 4441 2034 4441 \nQ 1650 4441 1433 4203 \nQ 1216 3966 1216 3541 \nQ 1216 3113 1433 2875 \nQ 1650 2638 2034 2638 \nQ 2422 2638 2637 2875 \nQ 2853 3113 2853 3541 \nz\nM 2516 2484 \nQ 3047 2413 3344 2092 \nQ 3641 1772 3641 1275 \nQ 3641 619 3225 264 \nQ 2809 -91 2034 -91 \nQ 1263 -91 845 264 \nQ 428 619 428 1275 \nQ 428 1772 725 2092 \nQ 1022 2413 1556 2484 \nQ 1084 2569 832 2842 \nQ 581 3116 581 3541 \nQ 581 4103 968 4426 \nQ 1356 4750 2034 4750 \nQ 2713 4750 3100 4426 \nQ 3488 4103 3488 3541 \nQ 3488 3116 3236 2842 \nQ 2984 2569 2516 2484 \nz\n\" transform=\"scale(0.015625)\"/>\n       </defs>\n       <use xlink:href=\"#DejaVuSerif-38\"/>\n      </g>\n     </g>\n    </g>\n    <g id=\"xtick_8\">\n     <g id=\"line2d_15\">\n      <path d=\"M 335.374688 220.285005 \nL 335.374688 18.718125 \n\" clip-path=\"url(#p2b6a1380ee)\" style=\"fill: none; stroke: #000000; stroke-opacity: 0.3; stroke-width: 0.25; stroke-linecap: square\"/>\n     </g>\n     <g id=\"line2d_16\">\n      <g>\n       <use xlink:href=\"#m1677faf6cb\" x=\"335.374688\" y=\"220.285005\" style=\"stroke: #000000; stroke-width: 0.8\"/>\n      </g>\n     </g>\n     <g id=\"text_8\">\n      <!-- 9 -->\n      <g transform=\"translate(332.511563 234.123599)scale(0.09 -0.09)\">\n       <defs>\n        <path id=\"DejaVuSerif-39\" d=\"M 2994 2091 \nQ 2784 1856 2512 1740 \nQ 2241 1625 1900 1625 \nQ 1206 1625 804 2044 \nQ 403 2463 403 3188 \nQ 403 3897 839 4323 \nQ 1275 4750 2003 4750 \nQ 2794 4750 3217 4161 \nQ 3641 3572 3641 2478 \nQ 3641 1253 3137 581 \nQ 2634 -91 1722 -91 \nQ 1475 -91 1203 -44 \nQ 931 3 647 97 \nL 647 872 \nL 997 872 \nQ 1038 556 1241 387 \nQ 1444 219 1784 219 \nQ 2391 219 2687 676 \nQ 2984 1134 2994 2091 \nz\nM 1978 4441 \nQ 1534 4441 1298 4117 \nQ 1063 3794 1063 3188 \nQ 1063 2581 1298 2256 \nQ 1534 1931 1978 1931 \nQ 2422 1931 2658 2245 \nQ 2894 2559 2894 3150 \nQ 2894 3772 2656 4106 \nQ 2419 4441 1978 4441 \nz\n\" transform=\"scale(0.015625)\"/>\n       </defs>\n       <use xlink:href=\"#DejaVuSerif-39\"/>\n      </g>\n     </g>\n    </g>\n    <g id=\"xtick_9\">\n     <g id=\"line2d_17\">\n      <path d=\"M 377.224688 220.285005 \nL 377.224688 18.718125 \n\" clip-path=\"url(#p2b6a1380ee)\" style=\"fill: none; stroke: #000000; stroke-opacity: 0.3; stroke-width: 0.25; stroke-linecap: square\"/>\n     </g>\n     <g id=\"line2d_18\">\n      <g>\n       <use xlink:href=\"#m1677faf6cb\" x=\"377.224688\" y=\"220.285005\" style=\"stroke: #000000; stroke-width: 0.8\"/>\n      </g>\n     </g>\n     <g id=\"text_9\">\n      <!-- 10 -->\n      <g transform=\"translate(371.498438 234.123599)scale(0.09 -0.09)\">\n       <defs>\n        <path id=\"DejaVuSerif-31\" d=\"M 909 0 \nL 909 331 \nL 1722 331 \nL 1722 4213 \nL 781 3603 \nL 781 4013 \nL 1919 4750 \nL 2350 4750 \nL 2350 331 \nL 3163 331 \nL 3163 0 \nL 909 0 \nz\n\" transform=\"scale(0.015625)\"/>\n        <path id=\"DejaVuSerif-30\" d=\"M 2034 219 \nQ 2513 219 2750 744 \nQ 2988 1269 2988 2328 \nQ 2988 3391 2750 3916 \nQ 2513 4441 2034 4441 \nQ 1556 4441 1318 3916 \nQ 1081 3391 1081 2328 \nQ 1081 1269 1318 744 \nQ 1556 219 2034 219 \nz\nM 2034 -91 \nQ 1275 -91 848 546 \nQ 422 1184 422 2328 \nQ 422 3475 848 4112 \nQ 1275 4750 2034 4750 \nQ 2797 4750 3222 4112 \nQ 3647 3475 3647 2328 \nQ 3647 1184 3222 546 \nQ 2797 -91 2034 -91 \nz\n\" transform=\"scale(0.015625)\"/>\n       </defs>\n       <use xlink:href=\"#DejaVuSerif-31\"/>\n       <use xlink:href=\"#DejaVuSerif-30\" x=\"63.623047\"/>\n      </g>\n     </g>\n    </g>\n    <g id=\"text_10\">\n     <!-- maxtem -->\n     <g transform=\"translate(187.547109 248.353599)scale(0.11 -0.11)\">\n      <defs>\n       <path id=\"DejaVuSerif-6d\" d=\"M 3316 2675 \nQ 3481 3041 3739 3227 \nQ 3997 3413 4341 3413 \nQ 4863 3413 5119 3089 \nQ 5375 2766 5375 2113 \nL 5375 331 \nL 5894 331 \nL 5894 0 \nL 4300 0 \nL 4300 331 \nL 4800 331 \nL 4800 2047 \nQ 4800 2556 4650 2772 \nQ 4500 2988 4153 2988 \nQ 3769 2988 3567 2697 \nQ 3366 2406 3366 1850 \nL 3366 331 \nL 3866 331 \nL 3866 0 \nL 2291 0 \nL 2291 331 \nL 2791 331 \nL 2791 2069 \nQ 2791 2566 2641 2777 \nQ 2491 2988 2144 2988 \nQ 1759 2988 1557 2697 \nQ 1356 2406 1356 1850 \nL 1356 331 \nL 1856 331 \nL 1856 0 \nL 263 0 \nL 263 331 \nL 781 331 \nL 781 2994 \nL 231 2994 \nL 231 3322 \nL 1356 3322 \nL 1356 2731 \nQ 1516 3063 1762 3238 \nQ 2009 3413 2322 3413 \nQ 2709 3413 2968 3220 \nQ 3228 3028 3316 2675 \nz\n\" transform=\"scale(0.015625)\"/>\n       <path id=\"DejaVuSerif-61\" d=\"M 2547 1044 \nL 2547 1747 \nL 1806 1747 \nQ 1378 1747 1168 1562 \nQ 959 1378 959 997 \nQ 959 650 1171 447 \nQ 1384 244 1747 244 \nQ 2106 244 2326 466 \nQ 2547 688 2547 1044 \nz\nM 3122 2075 \nL 3122 331 \nL 3634 331 \nL 3634 0 \nL 2547 0 \nL 2547 359 \nQ 2356 128 2106 18 \nQ 1856 -91 1522 -91 \nQ 969 -91 644 203 \nQ 319 497 319 997 \nQ 319 1513 691 1797 \nQ 1063 2081 1741 2081 \nL 2547 2081 \nL 2547 2309 \nQ 2547 2688 2317 2895 \nQ 2088 3103 1672 3103 \nQ 1328 3103 1125 2947 \nQ 922 2791 872 2484 \nL 575 2484 \nL 575 3156 \nQ 875 3284 1158 3348 \nQ 1441 3413 1709 3413 \nQ 2400 3413 2761 3070 \nQ 3122 2728 3122 2075 \nz\n\" transform=\"scale(0.015625)\"/>\n       <path id=\"DejaVuSerif-78\" d=\"M 1863 2028 \nL 2559 2988 \nL 2113 2988 \nL 2113 3322 \nL 3391 3322 \nL 3391 2988 \nL 2950 2988 \nL 2059 1759 \nL 3097 331 \nL 3531 331 \nL 3531 0 \nL 1997 0 \nL 1997 331 \nL 2419 331 \nL 1697 1325 \nL 972 331 \nL 1403 331 \nL 1403 0 \nL 141 0 \nL 141 331 \nL 581 331 \nL 1497 1594 \nL 488 2988 \nL 78 2988 \nL 78 3322 \nL 1563 3322 \nL 1563 2988 \nL 1166 2988 \nL 1863 2028 \nz\n\" transform=\"scale(0.015625)\"/>\n       <path id=\"DejaVuSerif-74\" d=\"M 691 2988 \nL 184 2988 \nL 184 3322 \nL 691 3322 \nL 691 4353 \nL 1269 4353 \nL 1269 3322 \nL 2350 3322 \nL 2350 2988 \nL 1269 2988 \nL 1269 878 \nQ 1269 456 1350 337 \nQ 1431 219 1650 219 \nQ 1875 219 1978 351 \nQ 2081 484 2088 781 \nL 2522 781 \nQ 2497 328 2275 118 \nQ 2053 -91 1600 -91 \nQ 1103 -91 897 129 \nQ 691 350 691 878 \nL 691 2988 \nz\n\" transform=\"scale(0.015625)\"/>\n       <path id=\"DejaVuSerif-65\" d=\"M 3469 1600 \nL 991 1600 \nL 991 1575 \nQ 991 903 1244 561 \nQ 1497 219 1991 219 \nQ 2369 219 2611 417 \nQ 2853 616 2950 1006 \nL 3413 1006 \nQ 3275 459 2904 184 \nQ 2534 -91 1931 -91 \nQ 1203 -91 761 389 \nQ 319 869 319 1663 \nQ 319 2450 753 2931 \nQ 1188 3413 1894 3413 \nQ 2647 3413 3050 2948 \nQ 3453 2484 3469 1600 \nz\nM 2791 1931 \nQ 2772 2513 2545 2808 \nQ 2319 3103 1894 3103 \nQ 1497 3103 1269 2806 \nQ 1041 2509 991 1931 \nL 2791 1931 \nz\n\" transform=\"scale(0.015625)\"/>\n      </defs>\n      <use xlink:href=\"#DejaVuSerif-6d\"/>\n      <use xlink:href=\"#DejaVuSerif-61\" x=\"94.824219\"/>\n      <use xlink:href=\"#DejaVuSerif-78\" x=\"154.443359\"/>\n      <use xlink:href=\"#DejaVuSerif-74\" x=\"210.839844\"/>\n      <use xlink:href=\"#DejaVuSerif-65\" x=\"251.025391\"/>\n      <use xlink:href=\"#DejaVuSerif-6d\" x=\"310.205078\"/>\n     </g>\n    </g>\n   </g>\n   <g id=\"matplotlib.axis_2\">\n    <g id=\"ytick_1\">\n     <g id=\"line2d_19\">\n      <path d=\"M 42.424688 211.458357 \nL 377.224688 211.458357 \n\" clip-path=\"url(#p2b6a1380ee)\" style=\"fill: none; stroke: #000000; stroke-opacity: 0.3; stroke-width: 0.25; stroke-linecap: square\"/>\n     </g>\n     <g id=\"line2d_20\">\n      <defs>\n       <path id=\"m6293affa3d\" d=\"M 0 0 \nL -3.5 0 \n\" style=\"stroke: #000000; stroke-width: 0.8\"/>\n      </defs>\n      <g>\n       <use xlink:href=\"#m6293affa3d\" x=\"42.424688\" y=\"211.458357\" style=\"stroke: #000000; stroke-width: 0.8\"/>\n      </g>\n     </g>\n     <g id=\"text_11\">\n      <!-- 0 -->\n      <g transform=\"translate(29.698438 214.877654)scale(0.09 -0.09)\">\n       <use xlink:href=\"#DejaVuSerif-30\"/>\n      </g>\n     </g>\n    </g>\n    <g id=\"ytick_2\">\n     <g id=\"line2d_21\">\n      <path d=\"M 42.424688 176.283651 \nL 377.224688 176.283651 \n\" clip-path=\"url(#p2b6a1380ee)\" style=\"fill: none; stroke: #000000; stroke-opacity: 0.3; stroke-width: 0.25; stroke-linecap: square\"/>\n     </g>\n     <g id=\"line2d_22\">\n      <g>\n       <use xlink:href=\"#m6293affa3d\" x=\"42.424688\" y=\"176.283651\" style=\"stroke: #000000; stroke-width: 0.8\"/>\n      </g>\n     </g>\n     <g id=\"text_12\">\n      <!-- 100 -->\n      <g transform=\"translate(18.245938 179.702948)scale(0.09 -0.09)\">\n       <use xlink:href=\"#DejaVuSerif-31\"/>\n       <use xlink:href=\"#DejaVuSerif-30\" x=\"63.623047\"/>\n       <use xlink:href=\"#DejaVuSerif-30\" x=\"127.246094\"/>\n      </g>\n     </g>\n    </g>\n    <g id=\"ytick_3\">\n     <g id=\"line2d_23\">\n      <path d=\"M 42.424688 141.108945 \nL 377.224688 141.108945 \n\" clip-path=\"url(#p2b6a1380ee)\" style=\"fill: none; stroke: #000000; stroke-opacity: 0.3; stroke-width: 0.25; stroke-linecap: square\"/>\n     </g>\n     <g id=\"line2d_24\">\n      <g>\n       <use xlink:href=\"#m6293affa3d\" x=\"42.424688\" y=\"141.108945\" style=\"stroke: #000000; stroke-width: 0.8\"/>\n      </g>\n     </g>\n     <g id=\"text_13\">\n      <!-- 200 -->\n      <g transform=\"translate(18.245938 144.528242)scale(0.09 -0.09)\">\n       <use xlink:href=\"#DejaVuSerif-32\"/>\n       <use xlink:href=\"#DejaVuSerif-30\" x=\"63.623047\"/>\n       <use xlink:href=\"#DejaVuSerif-30\" x=\"127.246094\"/>\n      </g>\n     </g>\n    </g>\n    <g id=\"ytick_4\">\n     <g id=\"line2d_25\">\n      <path d=\"M 42.424688 105.934239 \nL 377.224688 105.934239 \n\" clip-path=\"url(#p2b6a1380ee)\" style=\"fill: none; stroke: #000000; stroke-opacity: 0.3; stroke-width: 0.25; stroke-linecap: square\"/>\n     </g>\n     <g id=\"line2d_26\">\n      <g>\n       <use xlink:href=\"#m6293affa3d\" x=\"42.424688\" y=\"105.934239\" style=\"stroke: #000000; stroke-width: 0.8\"/>\n      </g>\n     </g>\n     <g id=\"text_14\">\n      <!-- 300 -->\n      <g transform=\"translate(18.245938 109.353536)scale(0.09 -0.09)\">\n       <use xlink:href=\"#DejaVuSerif-33\"/>\n       <use xlink:href=\"#DejaVuSerif-30\" x=\"63.623047\"/>\n       <use xlink:href=\"#DejaVuSerif-30\" x=\"127.246094\"/>\n      </g>\n     </g>\n    </g>\n    <g id=\"ytick_5\">\n     <g id=\"line2d_27\">\n      <path d=\"M 42.424688 70.759533 \nL 377.224688 70.759533 \n\" clip-path=\"url(#p2b6a1380ee)\" style=\"fill: none; stroke: #000000; stroke-opacity: 0.3; stroke-width: 0.25; stroke-linecap: square\"/>\n     </g>\n     <g id=\"line2d_28\">\n      <g>\n       <use xlink:href=\"#m6293affa3d\" x=\"42.424688\" y=\"70.759533\" style=\"stroke: #000000; stroke-width: 0.8\"/>\n      </g>\n     </g>\n     <g id=\"text_15\">\n      <!-- 400 -->\n      <g transform=\"translate(18.245938 74.17883)scale(0.09 -0.09)\">\n       <use xlink:href=\"#DejaVuSerif-34\"/>\n       <use xlink:href=\"#DejaVuSerif-30\" x=\"63.623047\"/>\n       <use xlink:href=\"#DejaVuSerif-30\" x=\"127.246094\"/>\n      </g>\n     </g>\n    </g>\n    <g id=\"ytick_6\">\n     <g id=\"line2d_29\">\n      <path d=\"M 42.424688 35.584827 \nL 377.224688 35.584827 \n\" clip-path=\"url(#p2b6a1380ee)\" style=\"fill: none; stroke: #000000; stroke-opacity: 0.3; stroke-width: 0.25; stroke-linecap: square\"/>\n     </g>\n     <g id=\"line2d_30\">\n      <g>\n       <use xlink:href=\"#m6293affa3d\" x=\"42.424688\" y=\"35.584827\" style=\"stroke: #000000; stroke-width: 0.8\"/>\n      </g>\n     </g>\n     <g id=\"text_16\">\n      <!-- 500 -->\n      <g transform=\"translate(18.245938 39.004124)scale(0.09 -0.09)\">\n       <use xlink:href=\"#DejaVuSerif-35\"/>\n       <use xlink:href=\"#DejaVuSerif-30\" x=\"63.623047\"/>\n       <use xlink:href=\"#DejaVuSerif-30\" x=\"127.246094\"/>\n      </g>\n     </g>\n    </g>\n    <g id=\"text_17\">\n     <!-- time (s) -->\n     <g transform=\"translate(11.958281 140.803753)rotate(-90)scale(0.11 -0.11)\">\n      <defs>\n       <path id=\"DejaVuSerif-69\" d=\"M 622 4353 \nQ 622 4497 726 4603 \nQ 831 4709 978 4709 \nQ 1122 4709 1226 4603 \nQ 1331 4497 1331 4353 \nQ 1331 4206 1228 4103 \nQ 1125 4000 978 4000 \nQ 831 4000 726 4103 \nQ 622 4206 622 4353 \nz\nM 1356 331 \nL 1900 331 \nL 1900 0 \nL 231 0 \nL 231 331 \nL 781 331 \nL 781 2988 \nL 231 2988 \nL 231 3322 \nL 1356 3322 \nL 1356 331 \nz\n\" transform=\"scale(0.015625)\"/>\n       <path id=\"DejaVuSerif-20\" transform=\"scale(0.015625)\"/>\n       <path id=\"DejaVuSerif-28\" d=\"M 2041 -997 \nQ 1281 -656 893 83 \nQ 506 822 506 1931 \nQ 506 3044 893 3783 \nQ 1281 4522 2041 4863 \nL 2041 4556 \nQ 1559 4225 1350 3623 \nQ 1141 3022 1141 1931 \nQ 1141 844 1350 242 \nQ 1559 -359 2041 -691 \nL 2041 -997 \nz\n\" transform=\"scale(0.015625)\"/>\n       <path id=\"DejaVuSerif-73\" d=\"M 359 184 \nL 359 959 \nL 691 959 \nQ 703 588 923 403 \nQ 1144 219 1575 219 \nQ 1963 219 2166 364 \nQ 2369 509 2369 788 \nQ 2369 1006 2220 1140 \nQ 2072 1275 1594 1428 \nL 1178 1569 \nQ 750 1706 558 1912 \nQ 366 2119 366 2438 \nQ 366 2894 700 3153 \nQ 1034 3413 1625 3413 \nQ 1888 3413 2178 3344 \nQ 2469 3275 2778 3144 \nL 2778 2419 \nL 2447 2419 \nQ 2434 2741 2221 2922 \nQ 2009 3103 1644 3103 \nQ 1281 3103 1095 2975 \nQ 909 2847 909 2591 \nQ 909 2381 1050 2254 \nQ 1191 2128 1613 1997 \nL 2069 1856 \nQ 2541 1709 2748 1489 \nQ 2956 1269 2956 922 \nQ 2956 450 2595 179 \nQ 2234 -91 1600 -91 \nQ 1278 -91 972 -22 \nQ 666 47 359 184 \nz\n\" transform=\"scale(0.015625)\"/>\n       <path id=\"DejaVuSerif-29\" d=\"M 453 -997 \nL 453 -691 \nQ 934 -359 1145 242 \nQ 1356 844 1356 1931 \nQ 1356 3022 1145 3623 \nQ 934 4225 453 4556 \nL 453 4863 \nQ 1216 4522 1603 3783 \nQ 1991 3044 1991 1931 \nQ 1991 822 1603 83 \nQ 1216 -656 453 -997 \nz\n\" transform=\"scale(0.015625)\"/>\n      </defs>\n      <use xlink:href=\"#DejaVuSerif-74\"/>\n      <use xlink:href=\"#DejaVuSerif-69\" x=\"40.185547\"/>\n      <use xlink:href=\"#DejaVuSerif-6d\" x=\"72.167969\"/>\n      <use xlink:href=\"#DejaVuSerif-65\" x=\"166.992188\"/>\n      <use xlink:href=\"#DejaVuSerif-20\" x=\"226.171875\"/>\n      <use xlink:href=\"#DejaVuSerif-28\" x=\"257.958984\"/>\n      <use xlink:href=\"#DejaVuSerif-73\" x=\"296.972656\"/>\n      <use xlink:href=\"#DejaVuSerif-29\" x=\"348.291016\"/>\n     </g>\n    </g>\n   </g>\n   <g id=\"line2d_31\">\n    <path d=\"M 42.424688 210.662857 \nL 126.124688 203.027656 \nL 209.824688 169.095776 \nL 293.524688 161.871173 \nL 377.224688 71.150127 \n\" clip-path=\"url(#p2b6a1380ee)\" style=\"fill: none; stroke: #0000ff; stroke-width: 1.5; stroke-linecap: square\"/>\n   </g>\n   <g id=\"line2d_32\">\n    <path d=\"M 42.424688 210.648252 \nL 126.124688 209.730479 \nL 209.824688 196.175082 \nL 293.524688 154.66976 \nL 377.224688 27.880256 \n\" clip-path=\"url(#p2b6a1380ee)\" style=\"fill: none; stroke: #ff0000; stroke-width: 1.5; stroke-linecap: square\"/>\n   </g>\n   <g id=\"line2d_33\">\n    <path d=\"M 42.424688 210.858659 \nL 126.124688 203.731112 \nL 209.824688 175.274564 \nL 293.524688 171.813785 \nL 377.224688 100.456899 \n\" clip-path=\"url(#p2b6a1380ee)\" style=\"fill: none; stroke: #000000; stroke-width: 1.5; stroke-linecap: square\"/>\n   </g>\n   <g id=\"line2d_34\">\n    <path d=\"M 42.424688 211.122874 \nL 126.124688 210.040724 \nL 209.824688 198.002572 \nL 293.524688 160.163428 \nL 377.224688 41.141794 \n\" clip-path=\"url(#p2b6a1380ee)\" style=\"fill: none; stroke: #ffa500; stroke-width: 1.5; stroke-linecap: square\"/>\n   </g>\n   <g id=\"patch_3\">\n    <path d=\"M 42.424688 220.285005 \nL 42.424688 18.718125 \n\" style=\"fill: none; stroke: #000000; stroke-width: 0.8; stroke-linejoin: miter; stroke-linecap: square\"/>\n   </g>\n   <g id=\"patch_4\">\n    <path d=\"M 377.224688 220.285005 \nL 377.224688 18.718125 \n\" style=\"fill: none; stroke: #000000; stroke-width: 0.8; stroke-linejoin: miter; stroke-linecap: square\"/>\n   </g>\n   <g id=\"patch_5\">\n    <path d=\"M 42.424688 220.285005 \nL 377.224688 220.285005 \n\" style=\"fill: none; stroke: #000000; stroke-width: 0.8; stroke-linejoin: miter; stroke-linecap: square\"/>\n   </g>\n   <g id=\"patch_6\">\n    <path d=\"M 42.424688 18.718125 \nL 377.224688 18.718125 \n\" style=\"fill: none; stroke: #000000; stroke-width: 0.8; stroke-linejoin: miter; stroke-linecap: square\"/>\n   </g>\n   <g id=\"text_18\">\n    <!-- RF off exection time vs maxtem -->\n    <g transform=\"translate(113.559375 12.718125)scale(0.12 -0.12)\">\n     <defs>\n      <path id=\"DejaVuSerif-52\" d=\"M 3066 2316 \nQ 3284 2256 3442 2114 \nQ 3600 1972 3725 1716 \nL 4403 331 \nL 4972 331 \nL 4972 0 \nL 3872 0 \nL 3144 1484 \nQ 2934 1916 2759 2042 \nQ 2584 2169 2278 2169 \nL 1581 2169 \nL 1581 331 \nL 2241 331 \nL 2241 0 \nL 353 0 \nL 353 331 \nL 947 331 \nL 947 4331 \nL 353 4331 \nL 353 4666 \nL 2719 4666 \nQ 3400 4666 3770 4341 \nQ 4141 4016 4141 3419 \nQ 4141 2938 3870 2661 \nQ 3600 2384 3066 2316 \nz\nM 1581 2503 \nL 2503 2503 \nQ 2975 2503 3200 2726 \nQ 3425 2950 3425 3419 \nQ 3425 3888 3200 4109 \nQ 2975 4331 2503 4331 \nL 1581 4331 \nL 1581 2503 \nz\n\" transform=\"scale(0.015625)\"/>\n      <path id=\"DejaVuSerif-46\" d=\"M 353 0 \nL 353 331 \nL 947 331 \nL 947 4331 \nL 353 4331 \nL 353 4666 \nL 4172 4666 \nL 4172 3628 \nL 3788 3628 \nL 3788 4281 \nL 1581 4281 \nL 1581 2719 \nL 3175 2719 \nL 3175 3303 \nL 3559 3303 \nL 3559 1753 \nL 3175 1753 \nL 3175 2338 \nL 1581 2338 \nL 1581 331 \nL 2328 331 \nL 2328 0 \nL 353 0 \nz\n\" transform=\"scale(0.015625)\"/>\n      <path id=\"DejaVuSerif-6f\" d=\"M 1925 219 \nQ 2388 219 2623 584 \nQ 2859 950 2859 1663 \nQ 2859 2375 2623 2739 \nQ 2388 3103 1925 3103 \nQ 1463 3103 1227 2739 \nQ 991 2375 991 1663 \nQ 991 950 1228 584 \nQ 1466 219 1925 219 \nz\nM 1925 -91 \nQ 1200 -91 759 389 \nQ 319 869 319 1663 \nQ 319 2456 758 2934 \nQ 1197 3413 1925 3413 \nQ 2653 3413 3092 2934 \nQ 3531 2456 3531 1663 \nQ 3531 869 3092 389 \nQ 2653 -91 1925 -91 \nz\n\" transform=\"scale(0.015625)\"/>\n      <path id=\"DejaVuSerif-66\" d=\"M 2753 4078 \nL 2450 4078 \nQ 2447 4313 2317 4434 \nQ 2188 4556 1941 4556 \nQ 1619 4556 1487 4379 \nQ 1356 4203 1356 3750 \nL 1356 3322 \nL 2284 3322 \nL 2284 2988 \nL 1356 2988 \nL 1356 331 \nL 2094 331 \nL 2094 0 \nL 231 0 \nL 231 331 \nL 781 331 \nL 781 2988 \nL 231 2988 \nL 231 3322 \nL 781 3322 \nL 781 3738 \nQ 781 4294 1070 4578 \nQ 1359 4863 1919 4863 \nQ 2128 4863 2337 4825 \nQ 2547 4788 2753 4709 \nL 2753 4078 \nz\n\" transform=\"scale(0.015625)\"/>\n      <path id=\"DejaVuSerif-63\" d=\"M 3291 997 \nQ 3169 466 2822 187 \nQ 2475 -91 1925 -91 \nQ 1200 -91 759 389 \nQ 319 869 319 1663 \nQ 319 2459 759 2936 \nQ 1200 3413 1925 3413 \nQ 2241 3413 2553 3339 \nQ 2866 3266 3181 3116 \nL 3181 2266 \nL 2847 2266 \nQ 2781 2703 2561 2903 \nQ 2341 3103 1931 3103 \nQ 1466 3103 1228 2742 \nQ 991 2381 991 1663 \nQ 991 944 1227 581 \nQ 1463 219 1931 219 \nQ 2303 219 2525 412 \nQ 2747 606 2828 997 \nL 3291 997 \nz\n\" transform=\"scale(0.015625)\"/>\n      <path id=\"DejaVuSerif-6e\" d=\"M 263 0 \nL 263 331 \nL 781 331 \nL 781 2988 \nL 231 2988 \nL 231 3322 \nL 1356 3322 \nL 1356 2731 \nQ 1516 3069 1770 3241 \nQ 2025 3413 2363 3413 \nQ 2913 3413 3172 3097 \nQ 3431 2781 3431 2113 \nL 3431 331 \nL 3944 331 \nL 3944 0 \nL 2356 0 \nL 2356 331 \nL 2853 331 \nL 2853 1931 \nQ 2853 2541 2703 2767 \nQ 2553 2994 2175 2994 \nQ 1775 2994 1565 2701 \nQ 1356 2409 1356 1850 \nL 1356 331 \nL 1856 331 \nL 1856 0 \nL 263 0 \nz\n\" transform=\"scale(0.015625)\"/>\n      <path id=\"DejaVuSerif-76\" d=\"M 1581 0 \nL 359 2988 \nL -19 2988 \nL -19 3322 \nL 1509 3322 \nL 1509 2988 \nL 978 2988 \nL 1913 703 \nL 2847 2988 \nL 2350 2988 \nL 2350 3322 \nL 3597 3322 \nL 3597 2988 \nL 3225 2988 \nL 2003 0 \nL 1581 0 \nz\n\" transform=\"scale(0.015625)\"/>\n     </defs>\n     <use xlink:href=\"#DejaVuSerif-52\"/>\n     <use xlink:href=\"#DejaVuSerif-46\" x=\"75.292969\"/>\n     <use xlink:href=\"#DejaVuSerif-20\" x=\"144.677734\"/>\n     <use xlink:href=\"#DejaVuSerif-6f\" x=\"176.464844\"/>\n     <use xlink:href=\"#DejaVuSerif-66\" x=\"236.669922\"/>\n     <use xlink:href=\"#DejaVuSerif-66\" x=\"273.681641\"/>\n     <use xlink:href=\"#DejaVuSerif-20\" x=\"310.693359\"/>\n     <use xlink:href=\"#DejaVuSerif-65\" x=\"342.480469\"/>\n     <use xlink:href=\"#DejaVuSerif-78\" x=\"401.660156\"/>\n     <use xlink:href=\"#DejaVuSerif-65\" x=\"458.056641\"/>\n     <use xlink:href=\"#DejaVuSerif-63\" x=\"517.236328\"/>\n     <use xlink:href=\"#DejaVuSerif-74\" x=\"573.242188\"/>\n     <use xlink:href=\"#DejaVuSerif-69\" x=\"613.427734\"/>\n     <use xlink:href=\"#DejaVuSerif-6f\" x=\"645.410156\"/>\n     <use xlink:href=\"#DejaVuSerif-6e\" x=\"705.615234\"/>\n     <use xlink:href=\"#DejaVuSerif-20\" x=\"770.019531\"/>\n     <use xlink:href=\"#DejaVuSerif-74\" x=\"801.806641\"/>\n     <use xlink:href=\"#DejaVuSerif-69\" x=\"841.992188\"/>\n     <use xlink:href=\"#DejaVuSerif-6d\" x=\"873.974609\"/>\n     <use xlink:href=\"#DejaVuSerif-65\" x=\"968.798828\"/>\n     <use xlink:href=\"#DejaVuSerif-20\" x=\"1027.978516\"/>\n     <use xlink:href=\"#DejaVuSerif-76\" x=\"1059.765625\"/>\n     <use xlink:href=\"#DejaVuSerif-73\" x=\"1116.259766\"/>\n     <use xlink:href=\"#DejaVuSerif-20\" x=\"1167.578125\"/>\n     <use xlink:href=\"#DejaVuSerif-6d\" x=\"1199.365234\"/>\n     <use xlink:href=\"#DejaVuSerif-61\" x=\"1294.189453\"/>\n     <use xlink:href=\"#DejaVuSerif-78\" x=\"1353.808594\"/>\n     <use xlink:href=\"#DejaVuSerif-74\" x=\"1410.205078\"/>\n     <use xlink:href=\"#DejaVuSerif-65\" x=\"1450.390625\"/>\n     <use xlink:href=\"#DejaVuSerif-6d\" x=\"1509.570312\"/>\n    </g>\n   </g>\n   <g id=\"legend_1\">\n    <g id=\"patch_7\">\n     <path d=\"M 48.724688 79.015313 \nL 129.85125 79.015313 \nQ 131.65125 79.015313 131.65125 77.215313 \nL 131.65125 25.018125 \nQ 131.65125 23.218125 129.85125 23.218125 \nL 48.724688 23.218125 \nQ 46.924688 23.218125 46.924688 25.018125 \nL 46.924688 77.215313 \nQ 46.924688 79.015313 48.724688 79.015313 \nz\n\" style=\"fill: #ffffff; opacity: 0.8; stroke: #cccccc; stroke-linejoin: miter\"/>\n    </g>\n    <g id=\"line2d_35\">\n     <path d=\"M 50.524688 30.506719 \nL 59.524688 30.506719 \nL 68.524687 30.506719 \n\" style=\"fill: none; stroke: #0000ff; stroke-width: 1.5; stroke-linecap: square\"/>\n    </g>\n    <g id=\"text_19\">\n     <!-- sgen -->\n     <g transform=\"translate(75.724688 33.656719)scale(0.09 -0.09)\">\n      <defs>\n       <path id=\"DejaVuSerif-67\" d=\"M 3359 2988 \nL 3359 72 \nQ 3359 -644 2965 -1033 \nQ 2572 -1422 1844 -1422 \nQ 1516 -1422 1216 -1362 \nQ 916 -1303 641 -1184 \nL 641 -488 \nL 941 -488 \nQ 997 -813 1206 -963 \nQ 1416 -1113 1806 -1113 \nQ 2313 -1113 2548 -827 \nQ 2784 -541 2784 72 \nL 2784 519 \nQ 2616 206 2355 57 \nQ 2094 -91 1709 -91 \nQ 1097 -91 708 395 \nQ 319 881 319 1663 \nQ 319 2444 706 2928 \nQ 1094 3413 1709 3413 \nQ 2094 3413 2355 3264 \nQ 2616 3116 2784 2803 \nL 2784 3322 \nL 3909 3322 \nL 3909 2988 \nL 3359 2988 \nz\nM 2784 1825 \nQ 2784 2422 2554 2737 \nQ 2325 3053 1888 3053 \nQ 1444 3053 1217 2703 \nQ 991 2353 991 1663 \nQ 991 975 1217 622 \nQ 1444 269 1888 269 \nQ 2325 269 2554 583 \nQ 2784 897 2784 1497 \nL 2784 1825 \nz\n\" transform=\"scale(0.015625)\"/>\n      </defs>\n      <use xlink:href=\"#DejaVuSerif-73\"/>\n      <use xlink:href=\"#DejaVuSerif-67\" x=\"51.318359\"/>\n      <use xlink:href=\"#DejaVuSerif-65\" x=\"115.332031\"/>\n      <use xlink:href=\"#DejaVuSerif-6e\" x=\"174.511719\"/>\n     </g>\n    </g>\n    <g id=\"line2d_36\">\n     <path d=\"M 50.524688 43.845 \nL 59.524688 43.845 \nL 68.524687 43.845 \n\" style=\"fill: none; stroke: #ff0000; stroke-width: 1.5; stroke-linecap: square\"/>\n    </g>\n    <g id=\"text_20\">\n     <!-- sgen RF off -->\n     <g transform=\"translate(75.724688 46.995)scale(0.09 -0.09)\">\n      <use xlink:href=\"#DejaVuSerif-73\"/>\n      <use xlink:href=\"#DejaVuSerif-67\" x=\"51.318359\"/>\n      <use xlink:href=\"#DejaVuSerif-65\" x=\"115.332031\"/>\n      <use xlink:href=\"#DejaVuSerif-6e\" x=\"174.511719\"/>\n      <use xlink:href=\"#DejaVuSerif-20\" x=\"238.916016\"/>\n      <use xlink:href=\"#DejaVuSerif-52\" x=\"270.703125\"/>\n      <use xlink:href=\"#DejaVuSerif-46\" x=\"345.996094\"/>\n      <use xlink:href=\"#DejaVuSerif-20\" x=\"415.380859\"/>\n      <use xlink:href=\"#DejaVuSerif-6f\" x=\"447.167969\"/>\n      <use xlink:href=\"#DejaVuSerif-66\" x=\"507.373047\"/>\n      <use xlink:href=\"#DejaVuSerif-66\" x=\"544.384766\"/>\n     </g>\n    </g>\n    <g id=\"line2d_37\">\n     <path d=\"M 50.524688 57.183281 \nL 59.524688 57.183281 \nL 68.524687 57.183281 \n\" style=\"fill: none; stroke: #000000; stroke-width: 1.5; stroke-linecap: square\"/>\n    </g>\n    <g id=\"text_21\">\n     <!-- FR -->\n     <g transform=\"translate(75.724688 60.333281)scale(0.09 -0.09)\">\n      <use xlink:href=\"#DejaVuSerif-46\"/>\n      <use xlink:href=\"#DejaVuSerif-52\" x=\"69.384766\"/>\n     </g>\n    </g>\n    <g id=\"line2d_38\">\n     <path d=\"M 50.524688 70.393594 \nL 59.524688 70.393594 \nL 68.524687 70.393594 \n\" style=\"fill: none; stroke: #ffa500; stroke-width: 1.5; stroke-linecap: square\"/>\n    </g>\n    <g id=\"text_22\">\n     <!-- FR RF off -->\n     <g transform=\"translate(75.724688 73.543594)scale(0.09 -0.09)\">\n      <use xlink:href=\"#DejaVuSerif-46\"/>\n      <use xlink:href=\"#DejaVuSerif-52\" x=\"69.384766\"/>\n      <use xlink:href=\"#DejaVuSerif-20\" x=\"144.677734\"/>\n      <use xlink:href=\"#DejaVuSerif-52\" x=\"176.464844\"/>\n      <use xlink:href=\"#DejaVuSerif-46\" x=\"251.757812\"/>\n      <use xlink:href=\"#DejaVuSerif-20\" x=\"321.142578\"/>\n      <use xlink:href=\"#DejaVuSerif-6f\" x=\"352.929688\"/>\n      <use xlink:href=\"#DejaVuSerif-66\" x=\"413.134766\"/>\n      <use xlink:href=\"#DejaVuSerif-66\" x=\"450.146484\"/>\n     </g>\n    </g>\n   </g>\n  </g>\n </g>\n <defs>\n  <clipPath id=\"p2b6a1380ee\">\n   <rect x=\"42.424688\" y=\"18.718125\" width=\"334.8\" height=\"201.56688\"/>\n  </clipPath>\n </defs>\n</svg>\n",
      "text/plain": [
       "<Figure size 576x355.968 with 1 Axes>"
      ]
     },
     "metadata": {},
     "output_type": "display_data"
    }
   ],
   "source": [
    "plot = plt.plot(maxtems, runs)\n",
    "plt.legend(iter(plot), ('sgen', 'sgen RF off', 'FR', 'FR RF off'))\n",
    "plt.title('RF off exection time vs maxtem')\n",
    "plt.ylabel('time (s)')\n",
    "plt.xlabel('maxtem')"
   ]
  },
  {
   "cell_type": "code",
   "execution_count": null,
   "metadata": {},
   "outputs": [],
   "source": []
  }
 ],
 "metadata": {
  "kernelspec": {
   "display_name": "Python 3.9.7 ('f3')",
   "language": "python",
   "name": "python3"
  },
  "language_info": {
   "codemirror_mode": {
    "name": "ipython",
    "version": 3
   },
   "file_extension": ".py",
   "mimetype": "text/x-python",
   "name": "python",
   "nbconvert_exporter": "python",
   "pygments_lexer": "ipython3",
   "version": "3.9.7"
  },
  "orig_nbformat": 4,
  "vscode": {
   "interpreter": {
    "hash": "e63bc18e93140e24cd570e2b209b6587cfe707b0bcc83b254b0fbf45eb9a9a15"
   }
  }
 },
 "nbformat": 4,
 "nbformat_minor": 2
}
