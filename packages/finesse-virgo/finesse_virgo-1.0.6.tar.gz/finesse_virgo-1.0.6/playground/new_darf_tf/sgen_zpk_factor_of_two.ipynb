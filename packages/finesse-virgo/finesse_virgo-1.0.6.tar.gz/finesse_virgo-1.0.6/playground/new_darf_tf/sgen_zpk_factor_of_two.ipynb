{
 "cells": [
  {
   "cell_type": "code",
   "execution_count": 2,
   "metadata": {},
   "outputs": [],
   "source": [
    "import finesse.virgo\n",
    "\n",
    "from finesse.analysis.actions import FrequencyResponse\n",
    "\n",
    "import numpy as np"
   ]
  },
  {
   "cell_type": "markdown",
   "metadata": {},
   "source": [
    "When using zpk filters to drive mirrors for a FrequencyResponse simulation, there is an additional factor of 2 when compared to driving a DOF (see `Virgo.get_DARM()`)."
   ]
  },
  {
   "cell_type": "code",
   "execution_count": null,
   "metadata": {},
   "outputs": [],
   "source": [
    "# TODO: produces an extra factor of 2 compared with dof driven FrequencyResponse (see get_DARM())\n",
    "def get_DARM3(self, force=False, axis=[0.5, 1000, 201]):\n",
    "    model = self.model.deepcopy()\n",
    "\n",
    "    model.parse('''\n",
    "    fsig(1)\n",
    "\n",
    "    zpk input [] [] 1\n",
    "    zpk driving_NE [] [] -1 \n",
    "    zpk driving_WE [] [] 1\n",
    "\n",
    "    wire wire2 input.p2 driving_NE.p1\n",
    "    wire wire1 input.p2 driving_WE.p1\n",
    "\n",
    "    link(driving_NE.p1, NE.mech.F_z)\n",
    "    link(driving_WE.p2, WE.mech.F_z)\n",
    "    ''')\n",
    "\n",
    "    return model.run(FrequencyResponse(\n",
    "        np.geomspace(*axis),\n",
    "        ['input.p1.i'],\n",
    "        ['B1p_56.I']\n",
    "    ))"
   ]
  }
 ],
 "metadata": {
  "kernelspec": {
   "display_name": "Python 3.9.7 ('f3')",
   "language": "python",
   "name": "python3"
  },
  "language_info": {
   "codemirror_mode": {
    "name": "ipython",
    "version": 3
   },
   "file_extension": ".py",
   "mimetype": "text/x-python",
   "name": "python",
   "nbconvert_exporter": "python",
   "pygments_lexer": "ipython3",
   "version": "3.9.7"
  },
  "orig_nbformat": 4,
  "vscode": {
   "interpreter": {
    "hash": "e63bc18e93140e24cd570e2b209b6587cfe707b0bcc83b254b0fbf45eb9a9a15"
   }
  }
 },
 "nbformat": 4,
 "nbformat_minor": 2
}
