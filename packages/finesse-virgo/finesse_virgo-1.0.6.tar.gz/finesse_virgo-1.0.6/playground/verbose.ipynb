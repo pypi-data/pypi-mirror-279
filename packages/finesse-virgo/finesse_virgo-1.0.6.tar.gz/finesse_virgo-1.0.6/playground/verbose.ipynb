{
 "cells": [
  {
   "cell_type": "code",
   "execution_count": 1,
   "metadata": {},
   "outputs": [],
   "source": [
    "import finesse.virgo\n",
    "\n",
    "finesse.configure(progress_bars=False)"
   ]
  },
  {
   "cell_type": "code",
   "execution_count": 2,
   "metadata": {},
   "outputs": [
    {
     "name": "stdout",
     "output_type": "stream",
     "text": [
      "Lock('CARM_lock')\n"
     ]
    }
   ],
   "source": [
    "# no verbose\n",
    "virgo = finesse.virgo.Virgo()\n",
    "print(virgo.model.get('CARM_lock'))\n",
    "# virgo.make()"
   ]
  },
  {
   "cell_type": "code",
   "execution_count": 3,
   "metadata": {},
   "outputs": [
    {
     "name": "stdout",
     "output_type": "stream",
     "text": [
      "Parsing common katfile...\n",
      "Parsing additional katscript...\n",
      "Adjusting recycling cavity lengths...\n",
      "--  adjusting PRC length\n",
      "    adjusting lPOP_BS.L by 0.0004736 m\n",
      "--  adjusting SRC length\n",
      "    adjusting lsr.L by 0.000883 m\n",
      "Pretuning...\n",
      "--  dof tunings\n",
      "    NE_z: 0.0\n",
      "    WE_z: 0.0\n",
      "    MICH: -0.0369\n",
      "    PRCL: 0.05\n",
      "    SRCL: -87.521\n",
      "Optimizing demodulation phases...\n",
      "--  Optimized demodulation phases:\n",
      "    PRCL     B2_8_I    : phase= -3.4664\n",
      "    MICH     B2_56_Q   : phase= 26.7843\n",
      "    CARM     B2_6_I    : phase= -9.6502\n",
      "    DARM     B1p_56_I  : phase= 41.7514\n",
      "    SRCL     B2_56_I   : phase=-63.2157\n",
      "--  Suggested lock gains:\n",
      "    PRCL     B2_8_I    :   0.015689\n",
      "    MICH     B2_56_Q   : -0.00050727\n",
      "    CARM     B2_6_I    :      6.198\n",
      "    DARM     B1p_56_I  :     151.85\n",
      "    SRCL     B2_56_I   : 0.00026104\n",
      "Optimizing lock gains...\n",
      "--  Optimized lock gains:\n",
      "    PRCL     B2_8_I    :    -63.741\n",
      "    MICH     B2_56_Q   :     1971.3\n",
      "    CARM     B2_6_I    :   -0.16134\n",
      "    DARM     B1p_56_I  : -0.0065856\n",
      "    SRCL     B2_56_I   :    -3830.8\n",
      "Running RF locks...\n",
      "--  DOFs before locking:\n",
      "    PRCL: 0.049999999999999996\n",
      "    MICH: -0.0369\n",
      "    CARM: 0.0\n",
      "    DARM: 0.0\n",
      "    SRCL: -87.52099999999999\n",
      "--  DOFs after locking:\n",
      "    PRCL: 0.05009362860966751\n",
      "    MICH: -0.04187517361122037\n",
      "    CARM: 2.940526417134734e-06\n",
      "    DARM: 1.7653648700967507e-05\n",
      "    SRCL: -87.5316074240922\n",
      "Switching to DARM DC lock...\n",
      "--  DOFs before locking:\n",
      "    PRCL: 0.05009362860966751\n",
      "    MICH: -0.04187517361122037\n",
      "    CARM: 2.940526417134734e-06\n",
      "    DARM: 1.7653648700967507e-05\n",
      "    SRCL: -87.5316074240922\n",
      "--  DOFs after locking:\n",
      "    PRCL: 0.05009362860966751\n",
      "    MICH: -0.04187517361122037\n",
      "    CARM: 2.940526417134734e-06\n",
      "    DARM: 0.00046292887711708164\n",
      "    SRCL: -87.5316074240922\n",
      "Done.\n"
     ]
    }
   ],
   "source": [
    "# with verbose\n",
    "virgo = finesse.virgo.Virgo(verbose=True)\n",
    "virgo.make()"
   ]
  },
  {
   "cell_type": "code",
   "execution_count": 4,
   "metadata": {},
   "outputs": [
    {
     "name": "stdout",
     "output_type": "stream",
     "text": [
      "┌─────────────────────────────────────────────────┐\n",
      "│- Arm lengths [m]:                               │\n",
      "│  LN   = 2999.8180   LW = 2999.7880              │\n",
      "├─────────────────────────────────────────────────┤\n",
      "│- Michelson and recycling lengths [m]:           │\n",
      "│  ln   = 6.0152      lw       = 5.7851           │\n",
      "│  lpr  = 6.0518      lsr      = 6.0518           │\n",
      "│  lMI  = 5.9001      lSchnupp = 0.2301           │\n",
      "│  lPRC = 11.9520     lSRC     = 11.9520          │\n",
      "├─────────────────────────────────────────────────┤\n",
      "│- Associated cavity frequencies [Hz]:            │\n",
      "│  fsrN   = 49968.44    fsrW   = 49968.94         │\n",
      "│  fsrPRC = 12541554.00 fsrSRC = 12541554.00      │\n",
      "│                                                 │\n",
      "│- Modulation sideband frequencies [MHz]:         │\n",
      "│  f6     = 6.270777     f8     = 8.361036        │\n",
      "│  f56     = 56.436993                            │\n",
      "├─────────────────────────────────────────────────┤\n",
      "│- Check frequency match [MHz]:                   │\n",
      "│  125.5*fsrN-300 = 6.270739                      │\n",
      "│  0.5*fsrPRC     = 6.270777                      │\n",
      "│  0.5*fsrSRC     = 6.270777                      │\n",
      "│  9*f6           = 56.436993                     │\n",
      "└─────────────────────────────────────────────────┘\n",
      "\n",
      "┌───────────────────────────┐\n",
      "│ Thermal                   │\n",
      "│ Parameter  :  Value       │\n",
      "├───────────────────────────┤\n",
      "│ PR.Rcx     :  -1469.00    │\n",
      "│ PR.Rcy     :  -1469.00    │\n",
      "│ SR.Rcx     :  1443.00     │\n",
      "│ SR.Rcy     :  1443.00     │\n",
      "│ f_CPN_TL   :  62636.00    │\n",
      "│ f_CPW_TL   :  60625.00    │\n",
      "└───────────────────────────┘\n",
      "\n",
      "┌────────────────────────┐\n",
      "│ Optic     Tuning (deg) │\n",
      "├────────────────────────┤\n",
      "│ NE  :        0.0414152 │\n",
      "│ WE  :       -0.0414093 │\n",
      "│ NI  :        0.0418752 │\n",
      "│ WI  :       -0.0418752 │\n",
      "│ PR  :        0.0500936 │\n",
      "│ SR  :          87.5316 │\n",
      "└────────────────────────┘\n",
      "\n",
      "┌────────────────────────────────────────┐\n",
      "│ Detector         Power [W]  Pow. ratio │\n",
      "├────────────────────────────────────────┤\n",
      "│ CAR_AMP_PRin  :         40          1  │\n",
      "│ CAR_AMP_N     :  2.484e+05       6209  │\n",
      "│ CAR_AMP_W     :  2.466e+05       6164  │\n",
      "│ CAR_AMP_BS    :       1753      43.81  │\n",
      "│ CAR_AMP_AS    :   0.004219  0.0001055  │\n",
      "└────────────────────────────────────────┘\n"
     ]
    }
   ],
   "source": [
    "virgo.print_info()"
   ]
  }
 ],
 "metadata": {
  "kernelspec": {
   "display_name": "Python 3.9.7 ('f3')",
   "language": "python",
   "name": "python3"
  },
  "language_info": {
   "codemirror_mode": {
    "name": "ipython",
    "version": 3
   },
   "file_extension": ".py",
   "mimetype": "text/x-python",
   "name": "python",
   "nbconvert_exporter": "python",
   "pygments_lexer": "ipython3",
   "version": "3.9.7"
  },
  "orig_nbformat": 4,
  "vscode": {
   "interpreter": {
    "hash": "e63bc18e93140e24cd570e2b209b6587cfe707b0bcc83b254b0fbf45eb9a9a15"
   }
  }
 },
 "nbformat": 4,
 "nbformat_minor": 2
}
