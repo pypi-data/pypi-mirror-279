{
 "cells": [
  {
   "cell_type": "code",
   "execution_count": 1,
   "metadata": {},
   "outputs": [],
   "source": [
    "import finesse.virgo\n",
    "import finesse.analysis.actions as fa\n",
    "from finesse.virgo.actions import DARM_RF_to_DC"
   ]
  },
  {
   "cell_type": "code",
   "execution_count": 2,
   "metadata": {},
   "outputs": [
    {
     "name": "stdout",
     "output_type": "stream",
     "text": [
      "Adjusting recycling cavity lengths...\n",
      "Pretuning...\n",
      "Optimizing demodulation phases...\n",
      "Optimizing lock gains...\n",
      "Running RF locks...\n",
      "show_progress_bars= False\n",
      "Switching to DARM DC lock...\n",
      "show_progress_bars= False\n",
      "show_progress_bars= False\n",
      "Done.\n"
     ]
    }
   ],
   "source": [
    "# simple make, can be configured, returns Finesse model\n",
    "model = finesse.virgo.make_virgo(\n",
    "    maxtem=\"off\",\n",
    "    thermal_state=\"design-matched\",\n",
    "    use_3f_error_signals=False,\n",
    "    with_apertures=False,\n",
    "    x_scale=1,\n",
    "    zero_k00=False,\n",
    "    display_plots=False,\n",
    "    verbose=False,\n",
    ")"
   ]
  },
  {
   "cell_type": "code",
   "execution_count": 3,
   "metadata": {},
   "outputs": [
    {
     "name": "stdout",
     "output_type": "stream",
     "text": [
      "Adjusting recycling cavity lengths...\n",
      "Pretuning...\n",
      "Optimizing demodulation phases...\n",
      "Optimizing lock gains...\n",
      "Running RF locks...\n",
      "show_progress_bars= False\n",
      "Switching to DARM DC lock...\n",
      "show_progress_bars= False\n",
      "show_progress_bars= False\n",
      "Done.\n",
      "test = 1.0\n"
     ]
    }
   ],
   "source": [
    "# can also make from a modified model\n",
    "virgo = finesse.virgo.Virgo()\n",
    "virgo.model.parse(\"var test 1\")\n",
    "virgo.make()\n",
    "print('test =', virgo.model.test.value)"
   ]
  },
  {
   "cell_type": "code",
   "execution_count": 4,
   "metadata": {},
   "outputs": [
    {
     "name": "stdout",
     "output_type": "stream",
     "text": [
      "show_progress_bars= False\n",
      "show_progress_bars= False\n",
      "show_progress_bars= False\n",
      "state = 3.0\n"
     ]
    }
   ],
   "source": [
    "# or make step by step\n",
    "virgo = finesse.virgo.Virgo()\n",
    "virgo.model.parse(\"var state 0\")\n",
    "# virgo.adjust_recycling_cavities()\n",
    "virgo.adjust_recycling_cavity_length(\"PRC\", \"lPRC\", \"lPOP_BS\")\n",
    "virgo.adjust_recycling_cavity_length(\"SRC\", \"lSRC\", \"lsr\")\n",
    "virgo.pretune() # now in pretuned state\n",
    "\n",
    "# and modify the model in between\n",
    "virgo.model.state.value += 1\n",
    "\n",
    "virgo.apply_dc_offset()\n",
    "virgo.optimize_demodulation_phase()\n",
    "virgo.model.run(fa.RunLocks(method=\"newton\"))\n",
    "virgo.model.state.value += 1\n",
    "\n",
    "virgo.model.run(DARM_RF_to_DC()) # now in dc locked state\n",
    "virgo.model.state.value += 1\n",
    "\n",
    "print('state =', virgo.model.state.value)"
   ]
  },
  {
   "cell_type": "code",
   "execution_count": 5,
   "metadata": {},
   "outputs": [
    {
     "name": "stdout",
     "output_type": "stream",
     "text": [
      "Adjusting recycling cavity lengths...\n",
      "Pretuning...\n",
      "Optimizing demodulation phases...\n",
      "Optimizing lock gains...\n",
      "Running RF locks...\n",
      "show_progress_bars= False\n"
     ]
    },
    {
     "name": "stderr",
     "output_type": "stream",
     "text": [
      "regeneration of original KatScript for operations not implemented yet\n",
      "regeneration of original KatScript for operations not implemented yet\n"
     ]
    },
    {
     "name": "stdout",
     "output_type": "stream",
     "text": [
      "Switching to DARM DC lock...\n",
      "show_progress_bars= False\n",
      "show_progress_bars= False\n",
      "Done.\n",
      "None\n"
     ]
    },
    {
     "name": "stderr",
     "output_type": "stream",
     "text": [
      "regeneration of original KatScript for operations not implemented yet\n",
      "regeneration of original KatScript for operations not implemented yet\n",
      "regeneration of original KatScript for operations not implemented yet\n",
      "regeneration of original KatScript for operations not implemented yet\n",
      "regeneration of original KatScript for operations not implemented yet\n",
      "regeneration of original KatScript for nonsingular commands not implemented yet\n",
      "regeneration of original KatScript for operations not implemented yet\n",
      "regeneration of original KatScript for operations not implemented yet\n",
      "regeneration of original KatScript for operations not implemented yet\n",
      "regeneration of original KatScript for nonsingular commands not implemented yet\n",
      "regeneration of original KatScript for operations not implemented yet\n",
      "regeneration of original KatScript for operations not implemented yet\n",
      "regeneration of original KatScript for operations not implemented yet\n",
      "regeneration of original KatScript for operations not implemented yet\n",
      "regeneration of original KatScript for operations not implemented yet\n",
      "regeneration of original KatScript for operations not implemented yet\n",
      "regeneration of original KatScript for operations not implemented yet\n",
      "regeneration of original KatScript for operations not implemented yet\n",
      "regeneration of original KatScript for operations not implemented yet\n",
      "regeneration of original KatScript for operations not implemented yet\n",
      "regeneration of original KatScript for operations not implemented yet\n",
      "regeneration of original KatScript for operations not implemented yet\n",
      "regeneration of original KatScript for operations not implemented yet\n",
      "regeneration of original KatScript for operations not implemented yet\n",
      "regeneration of original KatScript for operations not implemented yet\n",
      "regeneration of original KatScript for operations not implemented yet\n",
      "regeneration of original KatScript for operations not implemented yet\n",
      "regeneration of original KatScript for operations not implemented yet\n",
      "regeneration of original KatScript for operations not implemented yet\n",
      "regeneration of original KatScript for operations not implemented yet\n",
      "regeneration of original KatScript for operations not implemented yet\n",
      "regeneration of original KatScript for operations not implemented yet\n",
      "regeneration of original KatScript for operations not implemented yet\n",
      "regeneration of original KatScript for operations not implemented yet\n",
      "regeneration of original KatScript for operations not implemented yet\n",
      "regeneration of original KatScript for operations not implemented yet\n",
      "regeneration of original KatScript for operations not implemented yet\n",
      "regeneration of original KatScript for operations not implemented yet\n",
      "regeneration of original KatScript for operations not implemented yet\n",
      "regeneration of original KatScript for operations not implemented yet\n",
      "regeneration of original KatScript for operations not implemented yet\n",
      "regeneration of original KatScript for operations not implemented yet\n",
      "regeneration of original KatScript for operations not implemented yet\n",
      "regeneration of original KatScript for operations not implemented yet\n",
      "regeneration of original KatScript for operations not implemented yet\n",
      "regeneration of original KatScript for operations not implemented yet\n",
      "regeneration of original KatScript for operations not implemented yet\n"
     ]
    },
    {
     "data": {
      "text/html": [
       "<table><tbody>\n",
       "<tr><th style=\"text-align:center;\">Coupling</th><th style=\"text-align:center;\">Mismatch (x)</th><th style=\"text-align:center;\">Mismatch (y)</th></tr>\n",
       "<tr><th style=\"text-align:center;\">BS.p1.i -&gt; BS.p2.o</th><td style=\"text-align:right;\">0.0000</td><td style=\"text-align:right;\">0.0000</td></tr>\n",
       "<tr><th style=\"text-align:center;\">BS.p2.i -&gt; BS.p1.o</th><td style=\"text-align:right;\">0.0000</td><td style=\"text-align:right;\">0.0000</td></tr>\n",
       "<tr><th style=\"text-align:center;\">BS.p2.i -&gt; BS.p4.o</th><td style=\"text-align:right;\">0.0044</td><td style=\"text-align:right;\">0.0044</td></tr>\n",
       "<tr><th style=\"text-align:center;\">BS.p3.i -&gt; BS.p4.o</th><td style=\"text-align:right;\">0.0042</td><td style=\"text-align:right;\">0.0042</td></tr>\n",
       "<tr><th style=\"text-align:center;\">BS.p4.i -&gt; BS.p3.o</th><td style=\"text-align:right;\">0.0042</td><td style=\"text-align:right;\">0.0042</td></tr>\n",
       "<tr><th style=\"text-align:center;\">BS.p4.i -&gt; BS.p2.o</th><td style=\"text-align:right;\">0.0044</td><td style=\"text-align:right;\">0.0044</td></tr>\n",
       "<tr><th style=\"text-align:center;\">NI.p1.i -&gt; NI.p2.o</th><td style=\"text-align:right;\">0.0065</td><td style=\"text-align:right;\">0.0065</td></tr>\n",
       "<tr><th style=\"text-align:center;\">NI.p1.i -&gt; NI.p1.o</th><td style=\"text-align:right;\">0.0131</td><td style=\"text-align:right;\">0.0131</td></tr>\n",
       "<tr><th style=\"text-align:center;\">NI.p2.i -&gt; NI.p1.o</th><td style=\"text-align:right;\">0.0065</td><td style=\"text-align:right;\">0.0065</td></tr>\n",
       "<tr><th style=\"text-align:center;\">NIAR.p1.i -&gt; NIAR.p1.o</th><td style=\"text-align:right;\">0.0133</td><td style=\"text-align:right;\">0.0133</td></tr>\n",
       "<tr><th style=\"text-align:center;\">NIAR.p2.i -&gt; NIAR.p2.o</th><td style=\"text-align:right;\">0.0133</td><td style=\"text-align:right;\">0.0133</td></tr>\n",
       "<tr><th style=\"text-align:center;\">OMC1_1.p1.i -&gt; OMC1_1.p3.o</th><td style=\"text-align:right;\">0.0011</td><td style=\"text-align:right;\">0.0010</td></tr>\n",
       "<tr><th style=\"text-align:center;\">OMC1_1.p2.i -&gt; OMC1_1.p4.o</th><td style=\"text-align:right;\">0.0011</td><td style=\"text-align:right;\">0.0010</td></tr>\n",
       "<tr><th style=\"text-align:center;\">OMC1_1.p3.i -&gt; OMC1_1.p1.o</th><td style=\"text-align:right;\">0.0011</td><td style=\"text-align:right;\">0.0010</td></tr>\n",
       "<tr><th style=\"text-align:center;\">OMC1_1.p4.i -&gt; OMC1_1.p2.o</th><td style=\"text-align:right;\">0.0011</td><td style=\"text-align:right;\">0.0010</td></tr>\n",
       "<tr><th style=\"text-align:center;\">WI.p1.i -&gt; WI.p2.o</th><td style=\"text-align:right;\">0.0064</td><td style=\"text-align:right;\">0.0064</td></tr>\n",
       "<tr><th style=\"text-align:center;\">WI.p1.i -&gt; WI.p1.o</th><td style=\"text-align:right;\">0.0131</td><td style=\"text-align:right;\">0.0131</td></tr>\n",
       "<tr><th style=\"text-align:center;\">WI.p2.i -&gt; WI.p1.o</th><td style=\"text-align:right;\">0.0064</td><td style=\"text-align:right;\">0.0064</td></tr>\n",
       "<tr><th style=\"text-align:center;\">WIAR.p1.i -&gt; WIAR.p1.o</th><td style=\"text-align:right;\">0.0133</td><td style=\"text-align:right;\">0.0133</td></tr>\n",
       "<tr><th style=\"text-align:center;\">WIAR.p2.i -&gt; WIAR.p2.o</th><td style=\"text-align:right;\">0.0133</td><td style=\"text-align:right;\">0.0133</td></tr>\n",
       "</tbody></table>"
      ],
      "text/plain": [
       "<finesse.utilities.tables.NumberTable at 0x7f1dd3c96c70>"
      ]
     },
     "execution_count": 5,
     "metadata": {},
     "output_type": "execute_result"
    }
   ],
   "source": [
    "# the model is accessible and can be replaced, but this breaks state\n",
    "#   meaning configurable settings are potentially wrong\n",
    "#   and would need to be set manually\n",
    "virgo = finesse.virgo.Virgo()\n",
    "virgo.print_thermal_values()\n",
    "\n",
    "virgo.model = finesse.virgo.make_virgo(thermal_state=\"cold\")\n",
    "virgo.print_thermal_values()\n",
    "\n",
    "print(virgo.thermal_state) # should be \"cold\"\n",
    "virgo.thermal_state = \"cold\"\n",
    "\n",
    "virgo.model.parse(\"var test 1\")\n",
    "virgo.model.unparse()\n",
    "virgo.model.mismatches_table()"
   ]
  },
  {
   "cell_type": "code",
   "execution_count": 6,
   "metadata": {},
   "outputs": [
    {
     "name": "stderr",
     "output_type": "stream",
     "text": [
      "/home/jon/miniconda3/envs/f3/lib/python3.9/site-packages/matplotlib/cbook/__init__.py:1298: ComplexWarning: Casting complex values to real discards the imaginary part\n",
      "  return np.asarray(x, float)\n",
      "/home/jon/miniconda3/envs/f3/lib/python3.9/site-packages/matplotlib/cbook/__init__.py:1298: ComplexWarning: Casting complex values to real discards the imaginary part\n",
      "  return np.asarray(x, float)\n"
     ]
    },
    {
     "data": {
      "image/png": "[encoded data removed]",
      "text/plain": [
       "<Figure size 432x288 with 1 Axes>"
      ]
     },
     "metadata": {
      "needs_background": "light"
     },
     "output_type": "display_data"
    },
    {
     "name": "stdout",
     "output_type": "stream",
     "text": [
      "Adjusting recycling cavity lengths...\n",
      "Pretuning...\n",
      "Optimizing demodulation phases...\n",
      "Optimizing lock gains...\n",
      "Running RF locks...\n",
      "show_progress_bars= False\n",
      "Switching to DARM DC lock...\n",
      "show_progress_bars= False\n",
      "show_progress_bars= False\n",
      "Done.\n"
     ]
    },
    {
     "name": "stderr",
     "output_type": "stream",
     "text": [
      "/home/jon/miniconda3/envs/f3/lib/python3.9/site-packages/matplotlib/cbook/__init__.py:1298: ComplexWarning: Casting complex values to real discards the imaginary part\n",
      "  return np.asarray(x, float)\n",
      "/home/jon/miniconda3/envs/f3/lib/python3.9/site-packages/matplotlib/cbook/__init__.py:1298: ComplexWarning: Casting complex values to real discards the imaginary part\n",
      "  return np.asarray(x, float)\n"
     ]
    },
    {
     "data": {
      "image/png": "[encoded data removed]",
      "text/plain": [
       "<Figure size 432x288 with 1 Axes>"
      ]
     },
     "metadata": {
      "needs_background": "light"
     },
     "output_type": "display_data"
    }
   ],
   "source": [
    "virgo = finesse.virgo.Virgo()\n",
    "virgo.plot_QNLS()\n",
    "virgo.make()\n",
    "virgo.plot_QNLS()"
   ]
  },
  {
   "cell_type": "code",
   "execution_count": 8,
   "metadata": {},
   "outputs": [
    {
     "name": "stdout",
     "output_type": "stream",
     "text": [
      "Parsing common katfile...\n",
      "Parsing additional katscript...\n",
      "Adjusting recycling cavity lengths...\n",
      "--  adjusting PRC length\n",
      "    adjusting lPOP_BS.L by 0.0004736 m\n",
      "--  adjusting SRC length\n",
      "    adjusting lsr.L by 0.000883 m\n",
      "Pretuning...\n",
      "--  dof tunings\n",
      "    NE_z: 0.0\n",
      "    WE_z: 0.0\n",
      "    MICH: -0.0369\n",
      "    PRCL: 0.05\n",
      "    SRCL: -87.521\n",
      "Optimizing demodulation phases...\n",
      "--  Optimized demodulation phases:\n",
      "    PRCL     B2_8_I    : phase= -3.4664\n",
      "    MICH     B2_56_Q   : phase= 26.7843\n",
      "    CARM     B2_6_I    : phase= -9.6502\n",
      "    DARM     B1p_56_I  : phase= 41.7514\n",
      "    SRCL     B2_56_I   : phase=-63.2157\n",
      "--  Suggested lock gains:\n",
      "    PRCL     B2_8_I    :   0.015689\n",
      "    MICH     B2_56_Q   : -0.00050727\n",
      "    CARM     B2_6_I    :      6.198\n",
      "    DARM     B1p_56_I  :     151.85\n",
      "    SRCL     B2_56_I   : 0.00026104\n",
      "Optimizing lock gains...\n",
      "--  Optimized lock gains:\n",
      "    PRCL     B2_8_I    :    -63.741\n",
      "    MICH     B2_56_Q   :     1971.3\n",
      "    CARM     B2_6_I    :   -0.16134\n",
      "    DARM     B1p_56_I  : -0.0065856\n",
      "    SRCL     B2_56_I   :    -3830.8\n",
      "Running RF locks...\n",
      "--  DOFs before locking:\n",
      "    PRCL: 0.049999999999999996\n",
      "    MICH: -0.0369\n",
      "    CARM: 0.0\n",
      "    DARM: 0.0\n",
      "    SRCL: -87.52099999999999\n",
      "show_progress_bars= False\n",
      "--  DOFs after locking:\n",
      "    PRCL: 0.05009362860966751\n",
      "    MICH: -0.04187517361122037\n",
      "    CARM: 2.940526417134734e-06\n",
      "    DARM: 1.7653648700967507e-05\n",
      "    SRCL: -87.5316074240922\n",
      "Switching to DARM DC lock...\n",
      "--  DOFs before locking:\n",
      "    PRCL: 0.05009362860966751\n",
      "    MICH: -0.04187517361122037\n",
      "    CARM: 2.940526417134734e-06\n",
      "    DARM: 1.7653648700967507e-05\n",
      "    SRCL: -87.5316074240922\n",
      "show_progress_bars= False\n",
      "show_progress_bars= False\n",
      "--  DOFs after locking:\n",
      "    PRCL: 0.05009362860966751\n",
      "    MICH: -0.04187517361122037\n",
      "    CARM: 2.940526417134734e-06\n",
      "    DARM: 0.00046292887711708164\n",
      "    SRCL: -87.5316074240922\n",
      "Done.\n"
     ]
    }
   ],
   "source": [
    "# can be more verbose and display plots\n",
    "virgo = finesse.virgo.Virgo(verbose=True, display_plots=True)\n",
    "virgo.make()"
   ]
  },
  {
   "cell_type": "code",
   "execution_count": 12,
   "metadata": {},
   "outputs": [
    {
     "name": "stdout",
     "output_type": "stream",
     "text": [
      "--  dof tunings\n",
      "    NE_z: 0.0\n",
      "    WE_z: 0.0\n",
      "    MICH: -0.0369\n",
      "    PRCL: 0.05\n",
      "    SRCL: -87.521\n",
      "show_progress_bars= False\n",
      "show_progress_bars= False\n",
      "show_progress_bars= False\n"
     ]
    },
    {
     "name": "stderr",
     "output_type": "stream",
     "text": [
      "/home/jon/miniconda3/envs/f3/lib/python3.9/site-packages/matplotlib/cbook/__init__.py:1298: ComplexWarning: Casting complex values to real discards the imaginary part\n",
      "  return np.asarray(x, float)\n",
      "/home/jon/miniconda3/envs/f3/lib/python3.9/site-packages/matplotlib/cbook/__init__.py:1298: ComplexWarning: Casting complex values to real discards the imaginary part\n",
      "  return np.asarray(x, float)\n"
     ]
    },
    {
     "data": {
      "image/png": "[encoded data removed]",
      "text/plain": [
       "<Figure size 432x288 with 1 Axes>"
      ]
     },
     "metadata": {
      "needs_background": "light"
     },
     "output_type": "display_data"
    }
   ],
   "source": [
    "# individual steps can also be made verbose\n",
    "# TODO: can improve verbosity\n",
    "virgo = finesse.virgo.Virgo()\n",
    "\n",
    "# adjust the recycling cavity lengths\n",
    "virgo.adjust_PRC_length()\n",
    "virgo.adjust_SRC_length()\n",
    "\n",
    "# pretune by maximizing cavity power and minimizing dark fringe\n",
    "virgo.pretune(verbose=True) # now in pretuned state\n",
    "\n",
    "# prepare to run the locks\n",
    "virgo.optimize_demodulation_phase()\n",
    "virgo.optimize_lock_gains()\n",
    "\n",
    "# run the locks\n",
    "virgo.model.run(fa.RunLocks(method=\"newton\")) # now in rf locked state\n",
    "\n",
    "# switch DARM to a DC lock with offset\n",
    "virgo.model.run(DARM_RF_to_DC()) # now in dc locked state\n",
    "\n",
    "virgo.plot_QNLS()"
   ]
  },
  {
   "cell_type": "code",
   "execution_count": 13,
   "metadata": {},
   "outputs": [
    {
     "name": "stdout",
     "output_type": "stream",
     "text": [
      "virgo1.test = 0.0\n",
      "virgo2.test = 1.0\n"
     ]
    }
   ],
   "source": [
    "# similar to a Finesse model, Virgo can also be deepcopied for branching purposes.\n",
    "virgo1 = finesse.virgo.Virgo()\n",
    "virgo1.model.parse('var test 0')\n",
    "\n",
    "virgo2 = virgo1.deepcopy()\n",
    "virgo2.model.test.value = 1\n",
    "\n",
    "print('virgo1.test =', virgo1.model.get('test').value)\n",
    "print('virgo2.test =', virgo2.model.get('test').value)"
   ]
  },
  {
   "cell_type": "code",
   "execution_count": null,
   "metadata": {},
   "outputs": [],
   "source": []
  }
 ],
 "metadata": {
  "interpreter": {
   "hash": "e63bc18e93140e24cd570e2b209b6587cfe707b0bcc83b254b0fbf45eb9a9a15"
  },
  "kernelspec": {
   "display_name": "Python 3 (ipykernel)",
   "language": "python",
   "name": "python3"
  },
  "language_info": {
   "codemirror_mode": {
    "name": "ipython",
    "version": 3
   },
   "file_extension": ".py",
   "mimetype": "text/x-python",
   "name": "python",
   "nbconvert_exporter": "python",
   "pygments_lexer": "ipython3",
   "version": "3.9.7"
  }
 },
 "nbformat": 4,
 "nbformat_minor": 4
}
