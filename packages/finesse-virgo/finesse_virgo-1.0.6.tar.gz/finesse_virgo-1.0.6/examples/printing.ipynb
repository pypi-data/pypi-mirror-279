{
 "cells": [
  {
   "cell_type": "code",
   "execution_count": 1,
   "metadata": {},
   "outputs": [],
   "source": [
    "import finesse.virgo"
   ]
  },
  {
   "cell_type": "markdown",
   "metadata": {},
   "source": [
    "# Printing Examples\n",
    "\n",
    "1. Print settings\n",
    "2. Print lengths and frequencies\n",
    "3. Print powers\n",
    "4. Print DOFs\n",
    "5. Print locks\n",
    "6. Print tunings\n",
    "7. Print thermal values"
   ]
  },
  {
   "cell_type": "code",
   "execution_count": 2,
   "metadata": {},
   "outputs": [
    {
     "name": "stdout",
     "output_type": "stream",
     "text": [
      "Adjusting recycling cavity lengths...\n",
      "Pretuning...\n",
      "Optimizing demodulation phases...\n",
      "Optimizing lock gains...\n",
      "Running RF locks...\n",
      "Switching to DARM DC lock...\n",
      "Done.\n"
     ]
    }
   ],
   "source": [
    "# create a tuned Virgo model to use for this notebook.\n",
    "virgo = finesse.virgo.Virgo()\n",
    "virgo.make()"
   ]
  },
  {
   "cell_type": "markdown",
   "metadata": {},
   "source": [
    "## 1. Print Model Settings"
   ]
  },
  {
   "cell_type": "code",
   "execution_count": 3,
   "metadata": {},
   "outputs": [
    {
     "name": "stdout",
     "output_type": "stream",
     "text": [
      "┌──────────╥───────┐\n",
      "│ Setting  ║ Value │\n",
      "╞══════════╬═══════╡\n",
      "│ modes    ║  None │\n",
      "│ maxtem   ║     0 │\n",
      "│ zero_k00 ║ False │\n",
      "│ x_scale  ║   1.0 │\n",
      "└──────────╨───────┘\n",
      "\n"
     ]
    }
   ],
   "source": [
    "virgo.print_settings()"
   ]
  },
  {
   "cell_type": "markdown",
   "metadata": {},
   "source": [
    "## 2. Print Lengths and Frequencies"
   ]
  },
  {
   "cell_type": "code",
   "execution_count": 4,
   "metadata": {},
   "outputs": [
    {
     "name": "stdout",
     "output_type": "stream",
     "text": [
      "┌─────────────────────────────────────────────────┐\n",
      "│- Arm lengths [m]:                               │\n",
      "│  LN   = 2999.8180   LW = 2999.7880              │\n",
      "├─────────────────────────────────────────────────┤\n",
      "│- Michelson and recycling lengths [m]:           │\n",
      "│  ln   = 6.0152      lw       = 5.7851           │\n",
      "│  lpr  = 6.0518      lsr      = 6.0518           │\n",
      "│  lMI  = 5.9001      lSchnupp = 0.2301           │\n",
      "│  lPRC = 11.9520     lSRC     = 11.9520          │\n",
      "├─────────────────────────────────────────────────┤\n",
      "│- Associated cavity frequencies [Hz]:            │\n",
      "│  fsrN   = 49968.44    fsrW   = 49968.94         │\n",
      "│  fsrPRC = 12541554.00 fsrSRC = 12541554.00      │\n",
      "│                                                 │\n",
      "│- Modulation sideband frequencies [MHz]:         │\n",
      "│  f6     = 6.270777     f8     = 8.361036        │\n",
      "│  f56     = 56.436993                            │\n",
      "├─────────────────────────────────────────────────┤\n",
      "│- Check frequency match [MHz]:                   │\n",
      "│  125.5*fsrN-300 = 6.270739                      │\n",
      "│  0.5*fsrPRC     = 6.270777                      │\n",
      "│  0.5*fsrSRC     = 6.270777                      │\n",
      "│  9*f6           = 56.436993                     │\n",
      "└─────────────────────────────────────────────────┘\n"
     ]
    }
   ],
   "source": [
    "virgo.print_lengths()"
   ]
  },
  {
   "cell_type": "markdown",
   "metadata": {},
   "source": [
    "## 3. Print Carrier Powers"
   ]
  },
  {
   "cell_type": "code",
   "execution_count": 5,
   "metadata": {},
   "outputs": [
    {
     "name": "stdout",
     "output_type": "stream",
     "text": [
      "┌──────────────╥───────────┬────────────┐\n",
      "│   Detector   ║ Power [W] │ Pow. ratio │\n",
      "╞══════════════╬═══════════╪════════════╡\n",
      "│ CAR_AMP_PRin ║        40 │          1 │\n",
      "│  CAR_AMP_N   ║ 2.484e+05 │       6209 │\n",
      "│  CAR_AMP_W   ║ 2.466e+05 │       6164 │\n",
      "│  CAR_AMP_BS  ║      1753 │      43.81 │\n",
      "│  CAR_AMP_AS  ║  0.004219 │  0.0001055 │\n",
      "└──────────────╨───────────┴────────────┘\n",
      "\n"
     ]
    }
   ],
   "source": [
    "virgo.print_powers()"
   ]
  },
  {
   "cell_type": "markdown",
   "metadata": {},
   "source": [
    "## 4. Print DOF Values"
   ]
  },
  {
   "cell_type": "code",
   "execution_count": 6,
   "metadata": {},
   "outputs": [
    {
     "name": "stdout",
     "output_type": "stream",
     "text": [
      "--  DOFs :\n",
      "    PRCL: 0.05009362888168843\n",
      "    MICH: -0.041875157147075785\n",
      "    CARM: 2.9405271774630097e-06\n",
      "    DARM: 0.00046292881936051193\n",
      "    SRCL: -87.53160755189529\n"
     ]
    }
   ],
   "source": [
    "virgo.print_dofs()"
   ]
  },
  {
   "cell_type": "markdown",
   "metadata": {},
   "source": [
    "## 5. Print Locks"
   ]
  },
  {
   "cell_type": "code",
   "execution_count": 7,
   "metadata": {},
   "outputs": [
    {
     "name": "stdout",
     "output_type": "stream",
     "text": [
      "PRCL_lock B2_8_I PRCL.DC gain=-63.740578780580684 disabled=False\n",
      "MICH_lock B2_56_Q MICH.DC gain=1971.349791647314 disabled=False\n",
      "CARM_lock B2_6_I CARM.DC gain=-0.16134345833268993 disabled=False\n",
      "DARM_rf_lock B1p_56_I DARM.DC gain=-0.006585599156798293 disabled=True\n",
      "DARM_dc_lock B1_DC DARM.DC gain=-0.01 disabled=False\n",
      "SRCL_lock B2_56_I SRCL.DC gain=-3830.806852288948 disabled=False\n"
     ]
    }
   ],
   "source": [
    "virgo.print_locks()"
   ]
  },
  {
   "cell_type": "markdown",
   "metadata": {},
   "source": [
    "## 6. Print Tunings"
   ]
  },
  {
   "cell_type": "code",
   "execution_count": 8,
   "metadata": {},
   "outputs": [
    {
     "name": "stdout",
     "output_type": "stream",
     "text": [
      "┌───────────┬─────────────────┬─────────────────┐\n",
      "│ Optic/DOF │    Tuning [deg] │      Tuning [m] │\n",
      "╞═══════════╪═════════════════╪═════════════════╡\n",
      "│ NE        │       0.0414152 │     1.22405e-10 │\n",
      "│ WE        │      -0.0414093 │    -1.22387e-10 │\n",
      "│ NI        │       0.0418752 │     1.23764e-10 │\n",
      "│ WI        │      -0.0418752 │    -1.23764e-10 │\n",
      "│ PR        │       0.0500936 │     1.48055e-10 │\n",
      "│ SR        │         87.5316 │     2.58705e-07 │\n",
      "│ DARM      │     0.000462929 │     1.36821e-12 │\n",
      "│ CARM      │     2.94053e-06 │     8.69089e-15 │\n",
      "│ MICH      │      -0.0418752 │    -1.23764e-10 │\n",
      "│ PRCL      │       0.0500936 │     1.48055e-10 │\n",
      "│ SRCL      │        -87.5316 │    -2.58705e-07 │\n",
      "└───────────┴─────────────────┴─────────────────┘\n",
      "\n"
     ]
    }
   ],
   "source": [
    "virgo.print_tunings()"
   ]
  },
  {
   "cell_type": "markdown",
   "metadata": {},
   "source": [
    "## 7. Print Thermal Values"
   ]
  },
  {
   "cell_type": "code",
   "execution_count": 9,
   "metadata": {},
   "outputs": [
    {
     "name": "stdout",
     "output_type": "stream",
     "text": [
      "┌───────────────────╥─────────────┐\n",
      "│ Thermal Parameter ║    Value    │\n",
      "╞═══════════════════╬═════════════╡\n",
      "│      PR.Rcx       ║    -1469.00 │\n",
      "│      PR.Rcy       ║    -1469.00 │\n",
      "│      SR.Rcx       ║     1443.00 │\n",
      "│      SR.Rcy       ║     1443.00 │\n",
      "│     f_CPN_TL      ║    62636.00 │\n",
      "│     f_CPW_TL      ║    60625.00 │\n",
      "└───────────────────╨─────────────┘\n",
      "\n"
     ]
    }
   ],
   "source": [
    "virgo.print_thermal_values()"
   ]
  }
 ],
 "metadata": {
  "kernelspec": {
   "display_name": "Python 3.9.7 ('f3')",
   "language": "python",
   "name": "python3"
  },
  "language_info": {
   "codemirror_mode": {
    "name": "ipython",
    "version": 3
   },
   "file_extension": ".py",
   "mimetype": "text/x-python",
   "name": "python",
   "nbconvert_exporter": "python",
   "pygments_lexer": "ipython3",
   "version": "3.9.7"
  },
  "orig_nbformat": 4,
  "vscode": {
   "interpreter": {
    "hash": "e63bc18e93140e24cd570e2b209b6587cfe707b0bcc83b254b0fbf45eb9a9a15"
   }
  }
 },
 "nbformat": 4,
 "nbformat_minor": 2
}
