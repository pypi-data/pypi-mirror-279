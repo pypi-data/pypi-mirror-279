{
 "cells": [
  {
   "cell_type": "code",
   "execution_count": 7,
   "metadata": {},
   "outputs": [],
   "source": [
    "import finesse.virgo"
   ]
  },
  {
   "cell_type": "markdown",
   "metadata": {},
   "source": [
    "# Creating a Virgo Model\n",
    "\n",
    "The Virgo model in Finesse 3 uses two main katscript files: the common Virgo file which contains the main interferometer definition, and an additional katscript file which contains extra variables, dofs, and detectors used in the pre-tuning process.\n",
    "\n",
    "There are several ways to create a Virgo model depending upon which input is provided:\n",
    "\n",
    "1. **Default**: Providing no input parses the default files.\n",
    "2. **File**: if passing a file, only that file will be parsed. It is assumed to be a tuned file (with the locks). If providing only a modified common file, the additional katscript file can be parsed explicitly using the `parse_additional_katscript` flag.\n",
    "3. **Directory**: Passing a directory will parse all kat files within the directory."
   ]
  },
  {
   "cell_type": "markdown",
   "metadata": {},
   "source": [
    "For this notebook, so we have some files to work with, we'll start by creating local copies of the katfiles. See `examples/utilities.ipynb` for additional information and examples."
   ]
  },
  {
   "cell_type": "code",
   "execution_count": 8,
   "metadata": {},
   "outputs": [
    {
     "name": "stdout",
     "output_type": "stream",
     "text": [
      "Destination directory found: /home/jon/Repos/ligo/finesse/finesse-virgo/examples/custom_katscript\n",
      "Copying input file: 00_virgo_common_file.kat\n",
      "File `/home/jon/Repos/ligo/finesse/finesse-virgo/examples/custom_katscript/00_virgo_common_file.kat` already exists.\n",
      "Overwrite with `copy_virgo_file(overwrite=True)`.\n",
      "Copying input file: 01_additional_katscript.kat\n",
      "File `/home/jon/Repos/ligo/finesse/finesse-virgo/examples/custom_katscript/01_additional_katscript.kat` already exists.\n",
      "Overwrite with `copy_virgo_file(overwrite=True)`.\n"
     ]
    }
   ],
   "source": [
    "# copy katfiles into a local directory\n",
    "finesse.virgo.copy_input_files('custom_katscript')"
   ]
  },
  {
   "cell_type": "markdown",
   "metadata": {},
   "source": [
    "## 1. Providing no input files\n",
    "\n",
    "Providing no input will parse the current common file and additional katscript found within the `katscript` directory.\n",
    "\n",
    "Caution: This is quick and dirty. The parameters contained within the common file are expected to change over time, so using this option will potentially produce different results depending on when it is used. Use a local file to increase the reliability of your code."
   ]
  },
  {
   "cell_type": "code",
   "execution_count": 9,
   "metadata": {},
   "outputs": [
    {
     "name": "stdout",
     "output_type": "stream",
     "text": [
      "Adjusting recycling cavity lengths...\n",
      "Pretuning...\n",
      "Optimizing demodulation phases...\n",
      "Optimizing lock gains...\n",
      "Running RF locks...\n"
     ]
    },
    {
     "name": "stderr",
     "output_type": "stream",
     "text": [
      "regeneration of original KatScript for operations not implemented yet\n",
      "regeneration of original KatScript for operations not implemented yet\n",
      "regeneration of original KatScript for operations not implemented yet\n",
      "regeneration of original KatScript for operations not implemented yet\n",
      "regeneration of original KatScript for operations not implemented yet\n",
      "regeneration of original KatScript for operations not implemented yet\n",
      "regeneration of original KatScript for operations not implemented yet\n",
      "regeneration of original KatScript for nonsingular commands not implemented yet\n",
      "regeneration of original KatScript for operations not implemented yet\n",
      "regeneration of original KatScript for operations not implemented yet\n",
      "regeneration of original KatScript for operations not implemented yet\n",
      "regeneration of original KatScript for nonsingular commands not implemented yet\n",
      "regeneration of original KatScript for operations not implemented yet\n",
      "regeneration of original KatScript for operations not implemented yet\n",
      "regeneration of original KatScript for operations not implemented yet\n",
      "regeneration of original KatScript for operations not implemented yet\n",
      "regeneration of original KatScript for operations not implemented yet\n",
      "regeneration of original KatScript for operations not implemented yet\n",
      "regeneration of original KatScript for operations not implemented yet\n"
     ]
    },
    {
     "name": "stdout",
     "output_type": "stream",
     "text": [
      "Switching to DARM DC lock...\n",
      "Done.\n"
     ]
    },
    {
     "name": "stderr",
     "output_type": "stream",
     "text": [
      "regeneration of original KatScript for operations not implemented yet\n",
      "regeneration of original KatScript for operations not implemented yet\n",
      "regeneration of original KatScript for operations not implemented yet\n",
      "regeneration of original KatScript for operations not implemented yet\n",
      "regeneration of original KatScript for operations not implemented yet\n",
      "regeneration of original KatScript for operations not implemented yet\n",
      "regeneration of original KatScript for operations not implemented yet\n",
      "regeneration of original KatScript for operations not implemented yet\n",
      "regeneration of original KatScript for operations not implemented yet\n",
      "regeneration of original KatScript for operations not implemented yet\n",
      "regeneration of original KatScript for operations not implemented yet\n",
      "regeneration of original KatScript for operations not implemented yet\n",
      "regeneration of original KatScript for operations not implemented yet\n",
      "regeneration of original KatScript for operations not implemented yet\n",
      "regeneration of original KatScript for operations not implemented yet\n",
      "regeneration of original KatScript for operations not implemented yet\n",
      "regeneration of original KatScript for operations not implemented yet\n",
      "regeneration of original KatScript for operations not implemented yet\n",
      "regeneration of original KatScript for operations not implemented yet\n",
      "regeneration of original KatScript for operations not implemented yet\n",
      "regeneration of original KatScript for operations not implemented yet\n",
      "regeneration of original KatScript for operations not implemented yet\n",
      "regeneration of original KatScript for operations not implemented yet\n",
      "regeneration of original KatScript for operations not implemented yet\n",
      "regeneration of original KatScript for operations not implemented yet\n",
      "regeneration of original KatScript for operations not implemented yet\n",
      "regeneration of original KatScript for operations not implemented yet\n",
      "regeneration of original KatScript for operations not implemented yet\n",
      "regeneration of original KatScript for operations not implemented yet\n",
      "regeneration of original KatScript for operations not implemented yet\n"
     ]
    }
   ],
   "source": [
    "# create a Virgo model using the current common files\n",
    "virgo = finesse.virgo.Virgo()\n",
    "\n",
    "# pretune and save to use later in the notebook\n",
    "virgo.make()\n",
    "virgo.model.unparse_file('custom_katscript/virgo_pretuned.kat.skip')"
   ]
  },
  {
   "cell_type": "markdown",
   "metadata": {},
   "source": [
    "## 2. Providing an input file\n",
    "\n",
    "Two types of files are accepted: a pre-tuned/unparsed file and a modified common file.\n",
    "\n",
    "1. **Pre-tuned file**: (often generated by unparsing a tuned model) the file is simply parsed but will also try to parse the locks if they have not already been added.\n",
    "\n",
    "2. **Common file**: the additional katscript will still need to be parsed, so `parse_additional_katscript=True` needs to be provided before the model is ready to be tuned."
   ]
  },
  {
   "cell_type": "code",
   "execution_count": 10,
   "metadata": {},
   "outputs": [],
   "source": [
    "# create a Virgo model using pretuned file from previous example\n",
    "virgo = finesse.virgo.Virgo('custom_katscript/virgo_pretuned.kat.skip')"
   ]
  },
  {
   "cell_type": "code",
   "execution_count": 11,
   "metadata": {},
   "outputs": [],
   "source": [
    "# create a Virgo model using a modified common file\n",
    "virgo = finesse.virgo.Virgo(\n",
    "    'custom_katscript/00_virgo_common_file.kat', \n",
    "    parse_additional_katscript=True\n",
    ")"
   ]
  },
  {
   "cell_type": "markdown",
   "metadata": {},
   "source": [
    "## 3. Providing a directory\n",
    "\n",
    "It is also an option to provide an entire directory. Using this option will parse all katfiles found within the directory. This option pairs well when using `copy_input_files`."
   ]
  },
  {
   "cell_type": "code",
   "execution_count": 12,
   "metadata": {},
   "outputs": [],
   "source": [
    "# create Virgo using the directory created earlier in the notebook\n",
    "virgo = finesse.virgo.Virgo('custom_katscript')"
   ]
  }
 ],
 "metadata": {
  "kernelspec": {
   "display_name": "Python 3 (ipykernel)",
   "language": "python",
   "name": "python3"
  },
  "language_info": {
   "codemirror_mode": {
    "name": "ipython",
    "version": 3
   },
   "file_extension": ".py",
   "mimetype": "text/x-python",
   "name": "python",
   "nbconvert_exporter": "python",
   "pygments_lexer": "ipython3",
   "version": "3.9.7"
  },
  "vscode": {
   "interpreter": {
    "hash": "e63bc18e93140e24cd570e2b209b6587cfe707b0bcc83b254b0fbf45eb9a9a15"
   }
  }
 },
 "nbformat": 4,
 "nbformat_minor": 4
}
