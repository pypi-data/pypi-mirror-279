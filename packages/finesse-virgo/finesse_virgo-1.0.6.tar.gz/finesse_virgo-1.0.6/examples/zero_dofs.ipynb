{
 "cells": [
  {
   "cell_type": "code",
   "execution_count": 1,
   "metadata": {},
   "outputs": [],
   "source": [
    "import finesse.virgo"
   ]
  },
  {
   "cell_type": "code",
   "execution_count": 6,
   "metadata": {},
   "outputs": [
    {
     "name": "stdout",
     "output_type": "stream",
     "text": [
      "--  DOFs :\n",
      "    PRCL: 0.0\n",
      "    MICH: 0.0\n",
      "    CARM: 0.0\n",
      "    DARM: 0.0\n",
      "    SRCL: 0.0\n",
      "\n",
      "┌────────────────────────┐\n",
      "│ Optic     Tuning (deg) │\n",
      "├────────────────────────┤\n",
      "│ NE  :                0 │\n",
      "│ WE  :                0 │\n",
      "│ NI  :                0 │\n",
      "│ WI  :                0 │\n",
      "│ PR  :                0 │\n",
      "│ SR  :                0 │\n",
      "└────────────────────────┘\n",
      "--  DOFs :\n",
      "    PRCL: 0.0499\n",
      "    MICH: -0.0369\n",
      "    CARM: 0.0\n",
      "    DARM: 0.0\n",
      "    SRCL: -87.522\n",
      "\n",
      "┌────────────────────────┐\n",
      "│ Optic     Tuning (deg) │\n",
      "├────────────────────────┤\n",
      "│ NE  :           0.0369 │\n",
      "│ WE  :          -0.0369 │\n",
      "│ NI  :           0.0369 │\n",
      "│ WI  :          -0.0369 │\n",
      "│ PR  :           0.0499 │\n",
      "│ SR  :           87.522 │\n",
      "└────────────────────────┘\n",
      "--  DOFs :\n",
      "    PRCL: 0.0\n",
      "    MICH: 0.0\n",
      "    CARM: 0.0\n",
      "    DARM: 0.0\n",
      "    SRCL: 0.0\n",
      "\n",
      "┌────────────────────────┐\n",
      "│ Optic     Tuning (deg) │\n",
      "├────────────────────────┤\n",
      "│ NE  :           0.0369 │\n",
      "│ WE  :          -0.0369 │\n",
      "│ NI  :           0.0369 │\n",
      "│ WI  :          -0.0369 │\n",
      "│ PR  :           0.0499 │\n",
      "│ SR  :           87.522 │\n",
      "└────────────────────────┘\n"
     ]
    }
   ],
   "source": [
    "# create new Virgo, show everything is zero\n",
    "virgo = finesse.virgo.Virgo()\n",
    "virgo.print_dofs()\n",
    "virgo.print_tunings()\n",
    "\n",
    "# change dofs by pretuning and show dofs and tunings change as expected\n",
    "virgo.pretune()\n",
    "virgo.print_dofs()\n",
    "virgo.print_tunings()\n",
    "\n",
    "# zero the dofs and show the dofs are zero but the tunings remain\n",
    "virgo.zero_dofs()\n",
    "virgo.print_dofs()\n",
    "virgo.print_tunings()"
   ]
  },
  {
   "cell_type": "code",
   "execution_count": null,
   "metadata": {},
   "outputs": [],
   "source": []
  }
 ],
 "metadata": {
  "kernelspec": {
   "display_name": "Python 3.9.7 ('f3')",
   "language": "python",
   "name": "python3"
  },
  "language_info": {
   "codemirror_mode": {
    "name": "ipython",
    "version": 3
   },
   "file_extension": ".py",
   "mimetype": "text/x-python",
   "name": "python",
   "nbconvert_exporter": "python",
   "pygments_lexer": "ipython3",
   "version": "3.9.7"
  },
  "orig_nbformat": 4,
  "vscode": {
   "interpreter": {
    "hash": "e63bc18e93140e24cd570e2b209b6587cfe707b0bcc83b254b0fbf45eb9a9a15"
   }
  }
 },
 "nbformat": 4,
 "nbformat_minor": 2
}
