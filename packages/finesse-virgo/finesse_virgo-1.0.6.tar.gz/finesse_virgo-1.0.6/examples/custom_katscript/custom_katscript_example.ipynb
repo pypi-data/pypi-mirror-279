{
 "cells": [
  {
   "cell_type": "code",
   "execution_count": 5,
   "metadata": {},
   "outputs": [],
   "source": [
    "import finesse.virgo"
   ]
  },
  {
   "cell_type": "markdown",
   "metadata": {},
   "source": [
    "# Using custom katscript with the Virgo model\n",
    "\n",
    "This is an example which shows the workflow to use custom katscript with the Virgo model."
   ]
  },
  {
   "cell_type": "code",
   "execution_count": 6,
   "metadata": {},
   "outputs": [
    {
     "name": "stdout",
     "output_type": "stream",
     "text": [
      "Destination directory found: /home/jon/Repos/ligo/finesse/finesse-virgo/examples/custom_katscript/custom_katscript\n",
      "Copying input file: 00_virgo_common_file.kat\n",
      "Input file `00_virgo_common_file.kat` saved to `/home/jon/Repos/ligo/finesse/finesse-virgo/examples/custom_katscript/custom_katscript/00_virgo_common_file.kat`.\n",
      "Copying input file: 01_additional_katscript.kat\n",
      "Input file `01_additional_katscript.kat` saved to `/home/jon/Repos/ligo/finesse/finesse-virgo/examples/custom_katscript/custom_katscript/01_additional_katscript.kat`.\n"
     ]
    }
   ],
   "source": [
    "# export all katscript into new directory using `copy_input_files(directory_name)`\n",
    "    # this will save all input files to your working directory under the provided directory name\n",
    "        # the directory will be created if it does not exist\n",
    "    # set `overwrite` if you want to overwrite any existing files (otherwise nothing will happen if the file already exists)\n",
    "\n",
    "# This example will save the input files to a directory called `custom_katscript` and overwrite any existing files\n",
    "finesse.virgo.copy_input_files('custom_katscript', overwrite=True)"
   ]
  },
  {
   "cell_type": "code",
   "execution_count": 10,
   "metadata": {},
   "outputs": [
    {
     "name": "stdout",
     "output_type": "stream",
     "text": [
      "Adjusting recycling cavity lengths...\n",
      "Pretuning...\n",
      "Optimizing demodulation phases...\n",
      "Optimizing lock gains...\n",
      "Running RF locks...\n",
      "Switching to DARM DC lock...\n",
      "Done.\n"
     ]
    },
    {
     "data": {
      "text/plain": [
       "finesse.model.Model"
      ]
     },
     "execution_count": 10,
     "metadata": {},
     "output_type": "execute_result"
    }
   ],
   "source": [
    "# this will return a tuned virgo model using the custom katscript\n",
    "model = finesse.virgo.make_virgo(file_to_parse='custom_katscript')\n",
    "type(model)"
   ]
  },
  {
   "cell_type": "code",
   "execution_count": 11,
   "metadata": {},
   "outputs": [
    {
     "name": "stdout",
     "output_type": "stream",
     "text": [
      "Adjusting recycling cavity lengths...\n",
      "Pretuning...\n",
      "Optimizing demodulation phases...\n",
      "Optimizing lock gains...\n",
      "Running RF locks...\n",
      "Switching to DARM DC lock...\n",
      "Done.\n"
     ]
    },
    {
     "data": {
      "text/plain": [
       "finesse_virgo.virgo.Virgo"
      ]
     },
     "execution_count": 11,
     "metadata": {},
     "output_type": "execute_result"
    }
   ],
   "source": [
    "# this will return an initialized Virgo object using the custom katscript directory\n",
    "virgo = finesse.virgo.Virgo('custom_katscript')\n",
    "type(virgo)"
   ]
  },
  {
   "cell_type": "code",
   "execution_count": null,
   "metadata": {},
   "outputs": [],
   "source": []
  }
 ],
 "metadata": {
  "interpreter": {
   "hash": "e63bc18e93140e24cd570e2b209b6587cfe707b0bcc83b254b0fbf45eb9a9a15"
  },
  "kernelspec": {
   "display_name": "Python 3.9.7 ('f3')",
   "language": "python",
   "name": "python3"
  },
  "language_info": {
   "codemirror_mode": {
    "name": "ipython",
    "version": 3
   },
   "file_extension": ".py",
   "mimetype": "text/x-python",
   "name": "python",
   "nbconvert_exporter": "python",
   "pygments_lexer": "ipython3",
   "version": "3.9.7"
  }
 },
 "nbformat": 4,
 "nbformat_minor": 2
}
