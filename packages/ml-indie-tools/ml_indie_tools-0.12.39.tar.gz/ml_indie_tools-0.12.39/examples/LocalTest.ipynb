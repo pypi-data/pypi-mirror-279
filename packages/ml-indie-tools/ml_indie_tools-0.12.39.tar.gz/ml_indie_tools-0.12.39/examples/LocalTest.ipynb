{
 "cells": [
  {
   "cell_type": "code",
   "execution_count": 1,
   "id": "d8570f4a-ae94-4c7d-8cfd-30397459d090",
   "metadata": {},
   "outputs": [],
   "source": [
    "%load_ext autoreload\n",
    "%autoreload 2"
   ]
  },
  {
   "cell_type": "code",
   "execution_count": 2,
   "id": "14a8e822-346d-4e6e-8885-d488055dc8c2",
   "metadata": {},
   "outputs": [],
   "source": [
    "import sys\n",
    "sys.path.append('../src/ml_indie_tools')  # Point to local module source"
   ]
  },
  {
   "cell_type": "code",
   "execution_count": 3,
   "id": "4ee64338-a79b-4bf2-9cb3-4777545a3890",
   "metadata": {},
   "outputs": [],
   "source": [
    "from env_tools import MLEnv"
   ]
  },
  {
   "cell_type": "code",
   "execution_count": 4,
   "id": "aee4ecf2-6c4c-4338-97dd-7512f85f7a56",
   "metadata": {},
   "outputs": [
    {
     "data": {
      "text/plain": [
       "'OS: Darwin, Python: 3.12.2, Jupyter Notebook Pytorch: 2.2.1, GPU: MPS Metal accelerator (system memory)'"
      ]
     },
     "execution_count": 4,
     "metadata": {},
     "output_type": "execute_result"
    }
   ],
   "source": [
    "ml=MLEnv(platform='pt', accelerator='gpu')\n",
    "ml.describe()"
   ]
  },
  {
   "cell_type": "code",
   "execution_count": 5,
   "id": "00a3323b-e3bc-44e2-a84e-287f0d63e6ca",
   "metadata": {},
   "outputs": [],
   "source": [
    "import logging\n",
    "logging.basicConfig(encoding='utf-8', level=logging.INFO)\n",
    "from Gutenberg_Dataset import Gutenberg_Dataset"
   ]
  },
  {
   "cell_type": "code",
   "execution_count": 6,
   "id": "eab38dc3-a202-4a20-aa56-1ddb68999d36",
   "metadata": {},
   "outputs": [],
   "source": [
    "# simply remove root_url parameter, if no local Gutenberg mirror is available, files are then downloaded on-demand\n",
    "gd=Gutenberg_Dataset()\n",
    "gd.load_index()"
   ]
  },
  {
   "cell_type": "code",
   "execution_count": 7,
   "id": "41c279fe-1fdd-4b1a-85c8-09c4e6b8fe78",
   "metadata": {},
   "outputs": [
    {
     "data": {
      "text/plain": [
       "\u001b[0;31mSignature:\u001b[0m \u001b[0mgd\u001b[0m\u001b[0;34m.\u001b[0m\u001b[0msearch\u001b[0m\u001b[0;34m(\u001b[0m\u001b[0msearch_dict\u001b[0m\u001b[0;34m)\u001b[0m\u001b[0;34m\u001b[0m\u001b[0;34m\u001b[0m\u001b[0m\n",
       "\u001b[0;31mDocstring:\u001b[0m\n",
       "Search for book record with key specific key values\n",
       "For a list of valid keys, use `get_record_keys()`\n",
       "Standard keys are: `ebook_id`, `author`, `language`, `title`\n",
       "\n",
       "*Note:* :func:`~Gutenberg_Dataset.Gutenberg_Dataset.load_index` needs to be called once before this function can be used.\n",
       "\n",
       "Example: `search({\"title\": [\"philosoph\",\"phenomen\",\"physic\",\"hermeneu\",\"logic\"], \"language\":\"english\"})`\n",
       "Find all books whose titles contain at least one of the keywords, language english. Search keys can either be\n",
       "search for a single keyword (e.g. english), or an array of keywords.\n",
       "\n",
       ":returns: list of records\n",
       "\u001b[0;31mFile:\u001b[0m      ~/gith/domschl/ml-indie-tools/src/ml_indie_tools/Gutenberg_Dataset.py\n",
       "\u001b[0;31mType:\u001b[0m      method"
      ]
     },
     "metadata": {},
     "output_type": "display_data"
    }
   ],
   "source": [
    "gd.search?"
   ]
  },
  {
   "cell_type": "code",
   "execution_count": 8,
   "id": "1e17f0c8-3e05-42f3-94c5-9fb3f485f220",
   "metadata": {},
   "outputs": [
    {
     "name": "stdout",
     "output_type": "stream",
     "text": [
      "9 books found.\n"
     ]
    }
   ],
   "source": [
    "sl=gd.search({'title': ['prole', 'hermen']})\n",
    "print(f\"{len(sl)} books found.\")"
   ]
  },
  {
   "cell_type": "code",
   "execution_count": 9,
   "id": "406c1e93-fc9c-4ea9-be6c-850ea7a53261",
   "metadata": {},
   "outputs": [],
   "source": [
    "sl2=gd.insert_book_texts(sl)"
   ]
  },
  {
   "cell_type": "code",
   "execution_count": 10,
   "id": "39af153d-6ea2-4ce1-9e0d-91923f04565e",
   "metadata": {},
   "outputs": [],
   "source": [
    "from Text_Dataset import *"
   ]
  },
  {
   "cell_type": "code",
   "execution_count": 11,
   "id": "27252f30-fbad-426c-a110-18b9cdd32456",
   "metadata": {},
   "outputs": [
    {
     "name": "stderr",
     "output_type": "stream",
     "text": [
      "INFO:Datasets:Loaded 9 texts\n"
     ]
    }
   ],
   "source": [
    "tl = Text_Dataset(sl2)"
   ]
  },
  {
   "cell_type": "code",
   "execution_count": 12,
   "id": "5a1e3c51-00ca-4a3c-a504-fbed2ada0ff8",
   "metadata": {},
   "outputs": [
    {
     "data": {
      "text/plain": [
       "9"
      ]
     },
     "execution_count": 12,
     "metadata": {},
     "output_type": "execute_result"
    }
   ],
   "source": [
    "len(tl.text_list)"
   ]
  },
  {
   "cell_type": "code",
   "execution_count": 13,
   "id": "2b66dd30-b8b3-45c6-ab6b-1345869364ef",
   "metadata": {},
   "outputs": [],
   "source": [
    "tl.init_getitem(sample_length=80)"
   ]
  },
  {
   "cell_type": "code",
   "execution_count": 14,
   "id": "69805c0b-3584-45e1-bd2c-0032822eb2cd",
   "metadata": {},
   "outputs": [
    {
     "name": "stdout",
     "output_type": "stream",
     "text": [
      "son for the distinction can only lie in a\n",
      "consciousness of the more recent origi\n",
      "\n",
      "tation I made use of the metaphor\n",
      "of a boundary, in order to establish the limit\n",
      "\n",
      "common nature--some\n",
      "elementary being--which runs through an infinite gamut of nu\n",
      "\n"
     ]
    }
   ],
   "source": [
    "for i in range(3):\n",
    "    txt = tl.get_random_item()\n",
    "    print(txt)\n",
    "    print()"
   ]
  },
  {
   "cell_type": "code",
   "execution_count": 15,
   "id": "16c4f3d8-5e97-43ce-a791-d5f98d743d71",
   "metadata": {},
   "outputs": [
    {
     "data": {
      "text/plain": [
       "58958"
      ]
     },
     "execution_count": 15,
     "metadata": {},
     "output_type": "execute_result"
    }
   ],
   "source": [
    "len(gd.records)"
   ]
  },
  {
   "cell_type": "code",
   "execution_count": 16,
   "id": "a43d32e9-c2ca-4485-8d23-5d3b2a503c63",
   "metadata": {},
   "outputs": [],
   "source": [
    "lang={}\n",
    "for r in gd.records:\n",
    "    if 'language' in r:\n",
    "        l=r['language']\n",
    "    else:\n",
    "        l='<undefined>'\n",
    "    if l in lang:\n",
    "        lang[l]=lang[l]+1\n",
    "    else:\n",
    "        lang[l]=1"
   ]
  },
  {
   "cell_type": "code",
   "execution_count": 17,
   "id": "9c6a6814-0198-4fe4-966f-9c55db50488d",
   "metadata": {},
   "outputs": [
    {
     "data": {
      "text/plain": [
       "{'English': 47263,\n",
       " 'Finnish': 2451,\n",
       " 'Dutch': 719,\n",
       " 'French': 2875,\n",
       " 'German': 1888,\n",
       " 'Italian': 850,\n",
       " 'Slovenian': 3,\n",
       " 'Spanish': 680,\n",
       " 'Catalan': 29,\n",
       " 'Latin': 81,\n",
       " 'Hungarian': 491,\n",
       " 'Portuguese': 450,\n",
       " 'Swedish': 198,\n",
       " 'Afrikaans': 13,\n",
       " 'Esperanto': 98,\n",
       " 'Czech': 6,\n",
       " 'Chinese': 401,\n",
       " 'Welsh': 10,\n",
       " 'Danish': 61,\n",
       " 'Galician': 2,\n",
       " 'Romanian': 4,\n",
       " 'Englilsh': 1,\n",
       " 'Low German': 1,\n",
       " 'Frisian': 4,\n",
       " 'Hebrew': 5,\n",
       " 'Norwegian': 15,\n",
       " 'Greek': 193,\n",
       " 'English and French': 2,\n",
       " 'Pennsylvania Dutch': 1,\n",
       " 'Irish': 2,\n",
       " 'Telugu': 6,\n",
       " 'Scots': 1,\n",
       " 'Cebuano': 2,\n",
       " 'Tagalog': 39,\n",
       " 'Latin and English side by side': 1,\n",
       " 'Estonian': 1,\n",
       " 'Arabic': 1,\n",
       " 'Japanese': 19,\n",
       " 'Ojibwa': 1,\n",
       " 'Scots Gaelic': 1,\n",
       " 'Polish': 17,\n",
       " 'Russian': 5,\n",
       " 'Friulian': 6,\n",
       " 'Portuguese & French': 1,\n",
       " 'English English': 1,\n",
       " 'Arapaho': 2,\n",
       " 'Bagobo and Spanish': 1,\n",
       " 'Inuktitut': 1,\n",
       " 'English, Latin, Spanish, and Italian': 1,\n",
       " 'Zh (Chinese)': 2,\n",
       " 'Zh': 1,\n",
       " 'Latin and English': 4,\n",
       " 'Czech and Esperanto': 1,\n",
       " 'Icelandic': 6,\n",
       " 'Venetian': 1,\n",
       " 'Kamilaroi and English': 1,\n",
       " 'Iloko, Spanish': 1,\n",
       " 'Spanish and English': 3,\n",
       " 'Interlingua': 1,\n",
       " 'Serbian': 2,\n",
       " 'French and English': 1,\n",
       " 'English, Spanish': 1,\n",
       " 'Iloko': 1,\n",
       " 'Latin and French': 1,\n",
       " 'Ilocano': 1,\n",
       " 'Spanish and Tagalog': 1,\n",
       " 'Quiche': 1,\n",
       " 'German and French': 1,\n",
       " 'Dutch and Flemish': 1,\n",
       " 'Nahuatl and English': 1,\n",
       " 'Latin with English and Greek (ancient)': 1,\n",
       " 'English and Old English': 1,\n",
       " 'Slovak': 1,\n",
       " 'Yiddish': 1,\n",
       " 'English/Spanish': 1,\n",
       " 'Aleut': 1,\n",
       " 'Latin, French and English': 1,\n",
       " 'Sanskrit': 1,\n",
       " 'German, with English comments': 1,\n",
       " 'Swedish with English notes': 1,\n",
       " 'English and Latin': 2,\n",
       " 'Middle English and Latin': 1,\n",
       " 'Latin (with accompanying translation into English': 1,\n",
       " 'Latin, with notes in English': 1,\n",
       " 'English with some French': 1,\n",
       " 'Bulgarian': 5}"
      ]
     },
     "execution_count": 17,
     "metadata": {},
     "output_type": "execute_result"
    }
   ],
   "source": [
    "lang"
   ]
  },
  {
   "cell_type": "code",
   "execution_count": 18,
   "id": "48862f3c-1acd-4b6b-a999-342033d3ab3f",
   "metadata": {},
   "outputs": [
    {
     "data": {
      "text/plain": [
       "[0.19963244997377333,\n",
       " 0.26552420199251736,\n",
       " 0.455426304624203,\n",
       " 0.5198253417167064,\n",
       " 0.5420875361184492,\n",
       " 0.5662896394371029,\n",
       " 0.6090908466392752,\n",
       " 0.9283979929011832,\n",
       " 1.0]"
      ]
     },
     "execution_count": 18,
     "metadata": {},
     "output_type": "execute_result"
    }
   ],
   "source": [
    "tl.tcum[:10]"
   ]
  },
  {
   "cell_type": "code",
   "execution_count": 19,
   "id": "ef34dae3-87f8-4538-9ad4-37959016b784",
   "metadata": {},
   "outputs": [
    {
     "data": {
      "text/html": [
       "Wenn wir irgendwas schreiben, daß Teil aus der Source enthält, so wie: Das ist ihr Wahlspruch, dann erfolgt ein Highlight"
      ],
      "text/plain": [
       "<IPython.core.display.HTML object>"
      ]
     },
     "metadata": {},
     "output_type": "display_data"
    }
   ],
   "source": [
    "tl.source_highlight(\"Wenn wir irgendwas schreiben, daß Teil aus der Source enthält, so wie: Das ist ihr Wahlspruch, dann erfolgt ein Highlight\")"
   ]
  },
  {
   "cell_type": "code",
   "execution_count": 20,
   "id": "04839d8d-1499-46f8-96e7-d7a205df71cd",
   "metadata": {},
   "outputs": [
    {
     "data": {
      "text/html": [
       "If we writ<span style=\"background-color:#d0ece7;\">e anything t</span><sup>[8]</sup><span style=\"background-color:#d8daef;\">hat contains </span><sup>[1]</sup><span style=\"background-color:#d0ece7;\">parts of the s</span><sup>[8]</sup>ources, like<span style=\"background-color:#d8daef;\">: that is t</span><sup>[1]</sup><span style=\"background-color:#d0ece7;\">heir motto</span><sup>[8]</sup>, then a highligh<span style=\"background-color:#eadbd8;\">t will be a</span><sup>[3]</sup>pplied."
      ],
      "text/plain": [
       "<IPython.core.display.HTML object>"
      ]
     },
     "metadata": {},
     "output_type": "display_data"
    },
    {
     "data": {
      "text/html": [
       "<small><p style=\"text-align:right;\">Sources: <span style=\"background-color:#d0ece7;\">Julius Wellhausen: Prolegomena to the History of Israel</span><sup>[8]</sup>, <span style=\"background-color:#d8daef;\">Arthur John Booth: The discovery and decipherment of the trilingual cuneiform inscriptions</span><sup>[1]</sup>, <span style=\"background-color:#eadbd8;\">William Wallace and G. W. F. Hegel: Prolegomena to the Study of Hegel's Philosophy</span><sup>[3]</sup></p></small>"
      ],
      "text/plain": [
       "<IPython.core.display.HTML object>"
      ]
     },
     "metadata": {},
     "output_type": "display_data"
    }
   ],
   "source": [
    "tl.source_highlight(\"If we write anything that contains parts of the sources, like: that is their motto, then a highlight will be applied.\")"
   ]
  },
  {
   "cell_type": "code",
   "execution_count": 21,
   "id": "f3cb766b-1860-427d-bc72-1e9fcf784920",
   "metadata": {},
   "outputs": [
    {
     "name": "stderr",
     "output_type": "stream",
     "text": [
      "INFO:Datasets:Starting tokenizer on 9 texts...\n",
      "INFO:Datasets:Extracting ngrams of length 1..5 from text_list, selecting 5000 most used ngrams.\n"
     ]
    },
    {
     "name": "stdout",
     "output_type": "stream",
     "text": [
      "Text length 81, That would be a valid argument if we hadn't defeated it's assumptions way before.\n"
     ]
    },
    {
     "name": "stderr",
     "output_type": "stream",
     "text": [
      "INFO:Datasets:Encoding text corpora\n",
      "INFO:Datasets:Encoding larger text The discovery and decipherment of the trilingual cuneiform inscriptions...\n",
      "INFO:Datasets:Encoding larger text Prolegomena to the Study of Hegel's Philosophy...\n",
      "INFO:Datasets:Encoding larger text Prolegomena to the History of Israel...\n",
      "INFO:Datasets:Encoding text corpora done.\n"
     ]
    },
    {
     "name": "stdout",
     "output_type": "stream",
     "text": [
      "Token-count: 27, [1603, 4098, 1915, 1615, 1253, 2643, 2915, 1213, 2797, 2229, 4536, 2255, 1885, 9, 230, 2993, 4386, 2438, 1192, 3797, 2177, 2228, 1969, 1675, 2176, 2996, 2043]\n"
     ]
    }
   ],
   "source": [
    "test_text=\"That would be a valid argument if we hadn't defeated it's assumptions way before.\"\n",
    "print(f\"Text length {len(test_text)}, {test_text}\")\n",
    "tokenizer='ngram'\n",
    "tl.init_tokenizer(tokenizer=tokenizer)\n",
    "st = tl.tokenize(test_text)\n",
    "print(f\"Token-count: {len(st)}, {st}\")"
   ]
  },
  {
   "cell_type": "code",
   "execution_count": 22,
   "id": "489412be-911f-48d8-84df-70e3949a69c1",
   "metadata": {},
   "outputs": [
    {
     "name": "stdout",
     "output_type": "stream",
     "text": [
      "Text length 84, ðƒ That would be a valid argument if we hadn't defeated it's assumptions way before.\n",
      "Token-count: 29, [0, 0, 1546, 4098, 1915, 1615, 1253, 2643, 2915, 1213, 2797, 2229, 4536, 2255, 1885, 9, 230, 2993, 4386, 2438, 1192, 3797, 2177, 2228, 1969, 1675, 2176, 2996, 2043]\n"
     ]
    }
   ],
   "source": [
    "test2=\"ðƒ \"+test_text\n",
    "print(f\"Text length {len(test2)}, {test2}\")\n",
    "el=tl.encode(test2)\n",
    "print(f\"Token-count: {len(el)}, {el}\")"
   ]
  },
  {
   "cell_type": "code",
   "execution_count": 23,
   "id": "45249215-fba0-4643-a6e1-a9ab782ce899",
   "metadata": {},
   "outputs": [
    {
     "data": {
      "text/plain": [
       "\"<unk><unk> Th_at w_ould _be _a _val_id _ar_gu_ment _if _we _had_n_'_t d_efe_ated _it_'s _ass_um_ption_s w_ay _befor_e._\""
      ]
     },
     "execution_count": 23,
     "metadata": {},
     "output_type": "execute_result"
    }
   ],
   "source": [
    "tl.decode(el, mark_separator=True)"
   ]
  },
  {
   "cell_type": "markdown",
   "id": "875bd979-7002-4118-9f37-9bcbf0f4b609",
   "metadata": {},
   "source": [
    "## Pandas and Huggingface datasets\n",
    "\n",
    "`!pip install transformer` or `conda install transformers`\n",
    "`!pip install datasets` or `conda install datasets`"
   ]
  },
  {
   "cell_type": "code",
   "execution_count": 24,
   "id": "6349ce59-dc19-41ff-a25f-0ca50a9e777a",
   "metadata": {},
   "outputs": [
    {
     "data": {
      "text/plain": [
       "dict_keys(['title', 'ebook_id', 'author', 'language', 'text', 'index', 'probability_weight', 'records', 'text_encoded'])"
      ]
     },
     "execution_count": 24,
     "metadata": {},
     "output_type": "execute_result"
    }
   ],
   "source": [
    "sl2[1].keys()"
   ]
  },
  {
   "cell_type": "code",
   "execution_count": 25,
   "id": "4d89c3c7-e9dc-4bd7-90ed-afd08d3de692",
   "metadata": {},
   "outputs": [],
   "source": [
    "import pandas as pd"
   ]
  },
  {
   "cell_type": "code",
   "execution_count": 26,
   "id": "0ad67b7c-a814-4203-af16-50c871e44e4a",
   "metadata": {},
   "outputs": [],
   "source": [
    "df = pd.DataFrame(sl2)"
   ]
  },
  {
   "cell_type": "code",
   "execution_count": 27,
   "id": "11deaf3d-ebee-43ff-bc58-238d3d657234",
   "metadata": {},
   "outputs": [
    {
     "data": {
      "text/html": [
       "<div>\n",
       "<style scoped>\n",
       "    .dataframe tbody tr th:only-of-type {\n",
       "        vertical-align: middle;\n",
       "    }\n",
       "\n",
       "    .dataframe tbody tr th {\n",
       "        vertical-align: top;\n",
       "    }\n",
       "\n",
       "    .dataframe thead th {\n",
       "        text-align: right;\n",
       "    }\n",
       "</style>\n",
       "<table border=\"1\" class=\"dataframe\">\n",
       "  <thead>\n",
       "    <tr style=\"text-align: right;\">\n",
       "      <th></th>\n",
       "      <th>title</th>\n",
       "      <th>ebook_id</th>\n",
       "      <th>author</th>\n",
       "      <th>language</th>\n",
       "      <th>text</th>\n",
       "      <th>index</th>\n",
       "      <th>probability_weight</th>\n",
       "      <th>records</th>\n",
       "      <th>text_encoded</th>\n",
       "      <th>subtitle</th>\n",
       "      <th>translator</th>\n",
       "    </tr>\n",
       "  </thead>\n",
       "  <tbody>\n",
       "    <tr>\n",
       "      <th>0</th>\n",
       "      <td>The discovery and decipherment of the trilingu...</td>\n",
       "      <td>71905</td>\n",
       "      <td>Arthur John Booth</td>\n",
       "      <td>English</td>\n",
       "      <td>Transcriber’s Note: For this book you will nee...</td>\n",
       "      <td>1</td>\n",
       "      <td>0.199632</td>\n",
       "      <td>90085</td>\n",
       "      <td>[6, 3157, 2164, 3206, 15, 1155, 17, 2354, 2520...</td>\n",
       "      <td>NaN</td>\n",
       "      <td>NaN</td>\n",
       "    </tr>\n",
       "    <tr>\n",
       "      <th>1</th>\n",
       "      <td>Kant prolegomenái minden leendő metafizikához</td>\n",
       "      <td>68216</td>\n",
       "      <td>Immanuel Kant</td>\n",
       "      <td>Hungarian</td>\n",
       "      <td>FILOZÓFIAI IRÓK TÁRA.\\n\\nVIII.\\n\\nKANT PROLEGO...</td>\n",
       "      <td>2</td>\n",
       "      <td>0.065892</td>\n",
       "      <td>29734</td>\n",
       "      <td>[21, 38, 51, 56, 92, 212, 21, 38, 55, 4141, 38...</td>\n",
       "      <td>NaN</td>\n",
       "      <td>NaN</td>\n",
       "    </tr>\n",
       "    <tr>\n",
       "      <th>2</th>\n",
       "      <td>Prolegomena to the Study of Hegel's Philosophy</td>\n",
       "      <td>54992</td>\n",
       "      <td>William Wallace and G. W. F. Hegel</td>\n",
       "      <td>English</td>\n",
       "      <td>PROLEGOMENA\\n\\nTO THE STUDY OF\\n\\nHEGEL'S PHIL...</td>\n",
       "      <td>3</td>\n",
       "      <td>0.189902</td>\n",
       "      <td>85695</td>\n",
       "      <td>[47, 53, 56, 51, 52, 54, 56, 50, 52, 17, 55, 1...</td>\n",
       "      <td>and Especially of his Logic</td>\n",
       "      <td>NaN</td>\n",
       "    </tr>\n",
       "    <tr>\n",
       "      <th>3</th>\n",
       "      <td>Kant's Prolegomena</td>\n",
       "      <td>52821</td>\n",
       "      <td>Immanuel Kant</td>\n",
       "      <td>English</td>\n",
       "      <td>Contents\\n\\nPUBLISHERS' PREFACE.\\nINTRODUCTION...</td>\n",
       "      <td>4</td>\n",
       "      <td>0.064399</td>\n",
       "      <td>29060</td>\n",
       "      <td>[4060, 1733, 2541, 1465, 47, 44, 66, 51, 38, 4...</td>\n",
       "      <td>To Any Future Metaphysics</td>\n",
       "      <td>NaN</td>\n",
       "    </tr>\n",
       "    <tr>\n",
       "      <th>4</th>\n",
       "      <td>The Cornish Fishermen's Watch Night and Other ...</td>\n",
       "      <td>42568</td>\n",
       "      <td>Annonymous</td>\n",
       "      <td>English</td>\n",
       "      <td>[Illustration: Open boat surrounded by fisherm...</td>\n",
       "      <td>5</td>\n",
       "      <td>0.022262</td>\n",
       "      <td>10046</td>\n",
       "      <td>[46, 38, 1309, 2265, 2860, 9, 2520, 56, 3275, ...</td>\n",
       "      <td>NaN</td>\n",
       "      <td>NaN</td>\n",
       "    </tr>\n",
       "    <tr>\n",
       "      <th>5</th>\n",
       "      <td>El proletario en Espa? el Negro en Cuba</td>\n",
       "      <td>39930</td>\n",
       "      <td>Ram?. Espinosa</td>\n",
       "      <td>Spanish</td>\n",
       "      <td>Nota del transcriptor: En esta edición se han ...</td>\n",
       "      <td>6</td>\n",
       "      <td>0.024202</td>\n",
       "      <td>10921</td>\n",
       "      <td>[17, 1310, 4000, 2029, 2919, 2539, 1196, 2520,...</td>\n",
       "      <td>NaN</td>\n",
       "      <td>NaN</td>\n",
       "    </tr>\n",
       "    <tr>\n",
       "      <th>6</th>\n",
       "      <td>Achter de schermen</td>\n",
       "      <td>30592</td>\n",
       "      <td>Joseph J. Sch?nn</td>\n",
       "      <td>Dutch</td>\n",
       "      <td>Note: Project Gutenberg also has an HTML versi...</td>\n",
       "      <td>7</td>\n",
       "      <td>0.042801</td>\n",
       "      <td>19314</td>\n",
       "      <td>[17, 2354, 2520, 47, 1291, 2293, 2969, 2882, 9...</td>\n",
       "      <td>NaN</td>\n",
       "      <td>J. H. v. d. Hoeven</td>\n",
       "    </tr>\n",
       "    <tr>\n",
       "      <th>7</th>\n",
       "      <td>Prolegomena to the History of Israel</td>\n",
       "      <td>4732</td>\n",
       "      <td>Julius Wellhausen</td>\n",
       "      <td>English</td>\n",
       "      <td>Our author, who since 1878 had been largely en...</td>\n",
       "      <td>8</td>\n",
       "      <td>0.319307</td>\n",
       "      <td>144090</td>\n",
       "      <td>[56, 2913, 2695, 1699, 1953, 3188, 2984, 1472,...</td>\n",
       "      <td>NaN</td>\n",
       "      <td>NaN</td>\n",
       "    </tr>\n",
       "    <tr>\n",
       "      <th>8</th>\n",
       "      <td>Legge Prolegomena</td>\n",
       "      <td>3100</td>\n",
       "      <td>James Legge</td>\n",
       "      <td>English</td>\n",
       "      <td>THE CHINESE CLASSICS\\n\\nwith a translation, cr...</td>\n",
       "      <td>9</td>\n",
       "      <td>0.071602</td>\n",
       "      <td>32311</td>\n",
       "      <td>[6, 49, 52, 2083, 49, 38, 17, 52, 41, 52, 2083...</td>\n",
       "      <td>NaN</td>\n",
       "      <td>NaN</td>\n",
       "    </tr>\n",
       "  </tbody>\n",
       "</table>\n",
       "</div>"
      ],
      "text/plain": [
       "                                               title ebook_id  \\\n",
       "0  The discovery and decipherment of the trilingu...    71905   \n",
       "1      Kant prolegomenái minden leendő metafizikához    68216   \n",
       "2     Prolegomena to the Study of Hegel's Philosophy    54992   \n",
       "3                                 Kant's Prolegomena    52821   \n",
       "4  The Cornish Fishermen's Watch Night and Other ...    42568   \n",
       "5            El proletario en Espa? el Negro en Cuba    39930   \n",
       "6                                 Achter de schermen    30592   \n",
       "7               Prolegomena to the History of Israel     4732   \n",
       "8                                  Legge Prolegomena     3100   \n",
       "\n",
       "                               author   language  \\\n",
       "0                   Arthur John Booth    English   \n",
       "1                       Immanuel Kant  Hungarian   \n",
       "2  William Wallace and G. W. F. Hegel    English   \n",
       "3                       Immanuel Kant    English   \n",
       "4                          Annonymous    English   \n",
       "5                      Ram?. Espinosa    Spanish   \n",
       "6                    Joseph J. Sch?nn      Dutch   \n",
       "7                   Julius Wellhausen    English   \n",
       "8                         James Legge    English   \n",
       "\n",
       "                                                text  index  \\\n",
       "0  Transcriber’s Note: For this book you will nee...      1   \n",
       "1  FILOZÓFIAI IRÓK TÁRA.\\n\\nVIII.\\n\\nKANT PROLEGO...      2   \n",
       "2  PROLEGOMENA\\n\\nTO THE STUDY OF\\n\\nHEGEL'S PHIL...      3   \n",
       "3  Contents\\n\\nPUBLISHERS' PREFACE.\\nINTRODUCTION...      4   \n",
       "4  [Illustration: Open boat surrounded by fisherm...      5   \n",
       "5  Nota del transcriptor: En esta edición se han ...      6   \n",
       "6  Note: Project Gutenberg also has an HTML versi...      7   \n",
       "7  Our author, who since 1878 had been largely en...      8   \n",
       "8  THE CHINESE CLASSICS\\n\\nwith a translation, cr...      9   \n",
       "\n",
       "   probability_weight  records  \\\n",
       "0            0.199632    90085   \n",
       "1            0.065892    29734   \n",
       "2            0.189902    85695   \n",
       "3            0.064399    29060   \n",
       "4            0.022262    10046   \n",
       "5            0.024202    10921   \n",
       "6            0.042801    19314   \n",
       "7            0.319307   144090   \n",
       "8            0.071602    32311   \n",
       "\n",
       "                                        text_encoded  \\\n",
       "0  [6, 3157, 2164, 3206, 15, 1155, 17, 2354, 2520...   \n",
       "1  [21, 38, 51, 56, 92, 212, 21, 38, 55, 4141, 38...   \n",
       "2  [47, 53, 56, 51, 52, 54, 56, 50, 52, 17, 55, 1...   \n",
       "3  [4060, 1733, 2541, 1465, 47, 44, 66, 51, 38, 4...   \n",
       "4  [46, 38, 1309, 2265, 2860, 9, 2520, 56, 3275, ...   \n",
       "5  [17, 1310, 4000, 2029, 2919, 2539, 1196, 2520,...   \n",
       "6  [17, 2354, 2520, 47, 1291, 2293, 2969, 2882, 9...   \n",
       "7  [56, 2913, 2695, 1699, 1953, 3188, 2984, 1472,...   \n",
       "8  [6, 49, 52, 2083, 49, 38, 17, 52, 41, 52, 2083...   \n",
       "\n",
       "                      subtitle          translator  \n",
       "0                          NaN                 NaN  \n",
       "1                          NaN                 NaN  \n",
       "2  and Especially of his Logic                 NaN  \n",
       "3    To Any Future Metaphysics                 NaN  \n",
       "4                          NaN                 NaN  \n",
       "5                          NaN                 NaN  \n",
       "6                          NaN  J. H. v. d. Hoeven  \n",
       "7                          NaN                 NaN  \n",
       "8                          NaN                 NaN  "
      ]
     },
     "execution_count": 27,
     "metadata": {},
     "output_type": "execute_result"
    }
   ],
   "source": [
    "df"
   ]
  },
  {
   "cell_type": "code",
   "execution_count": null,
   "id": "1c0a64c4-e566-45cb-8896-4e6605b5e41d",
   "metadata": {},
   "outputs": [],
   "source": []
  },
  {
   "cell_type": "code",
   "execution_count": null,
   "id": "d7bee7c3-ba98-467b-a8c7-cddd73654d8e",
   "metadata": {},
   "outputs": [],
   "source": []
  }
 ],
 "metadata": {
  "interpreter": {
   "hash": "65f4aab08c62330dab9a6da6865afb8d3706c114778798997f6b2f9c40d9bc3b"
  },
  "kernelspec": {
   "display_name": "Python 3 (ipykernel)",
   "language": "python",
   "name": "python3"
  },
  "language_info": {
   "codemirror_mode": {
    "name": "ipython",
    "version": 3
   },
   "file_extension": ".py",
   "mimetype": "text/x-python",
   "name": "python",
   "nbconvert_exporter": "python",
   "pygments_lexer": "ipython3",
   "version": "3.12.3"
  }
 },
 "nbformat": 4,
 "nbformat_minor": 5
}
