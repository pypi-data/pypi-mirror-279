{
 "cells": [
  {
   "cell_type": "markdown",
   "metadata": {},
   "source": [
    "# Sample QOCT calculations"
   ]
  },
  {
   "cell_type": "code",
   "execution_count": null,
   "metadata": {},
   "outputs": [],
   "source": [
    "try:\n",
    "    get_ipython\n",
    "    isnotebook = True\n",
    "except:\n",
    "    isnotebook = False\n",
    "\n",
    "import os\n",
    "import sys\n",
    "import numpy as np\n",
    "import scipy as sp\n",
    "import matplotlib\n",
    "if not isnotebook:\n",
    "    matplotlib.use('Agg')\n",
    "import matplotlib.pyplot as plt\n",
    "import nlopt\n",
    "import qutip as qt\n",
    "from qutip_qip.operations import toffoli"
   ]
  },
  {
   "cell_type": "code",
   "execution_count": null,
   "metadata": {},
   "outputs": [],
   "source": [
    "import qocttools\n",
    "import qocttools.models.GdW30 as GdW30\n",
    "import qocttools.hamiltonians as hamiltonians\n",
    "import qocttools.math_extra as math_extra\n",
    "import qocttools.pulses as pulses\n",
    "import qocttools.qoct as qoct\n",
    "import qocttools.solvers as solvers\n",
    "import qocttools.target as target"
   ]
  },
  {
   "cell_type": "code",
   "execution_count": null,
   "metadata": {},
   "outputs": [],
   "source": [
    "qocttools.about()"
   ]
  },
  {
   "cell_type": "code",
   "execution_count": null,
   "metadata": {},
   "outputs": [],
   "source": [
    "data = []"
   ]
  },
  {
   "cell_type": "markdown",
   "metadata": {},
   "source": [
    "# Introduction"
   ]
  },
  {
   "cell_type": "markdown",
   "metadata": {},
   "source": [
    "In this notebook we show some simple examples of optimization done with QOCT, using the math_extra.maximize routine."
   ]
  },
  {
   "cell_type": "markdown",
   "metadata": {},
   "source": [
    "# Model"
   ]
  },
  {
   "cell_type": "markdown",
   "metadata": {},
   "source": [
    "The model is defined by the Hamiltonian:\n",
    "\n",
    "\\begin{equation}\n",
    "        \\hat{H}(t) = \\hat{H}_0 + f(t)\\hat{V}\n",
    "\\end{equation}\n",
    "where the time-independent part is given by:\n",
    "\\begin{equation}\n",
    "        \\hat{H}_0 = D\\bigg[\\hat{S}_z^2 - \\frac{1}{3}S(S + 1)\\bigg] + E[\\hat{S}_x^2 - \\hat{S}_y^2] - g\\mu_B\\hat{\\vec{S}}\\cdot\\vec{H}\n",
    "\\end{equation}\n",
    "and the time-dependent part is:\n",
    "\\begin{equation}\n",
    "        \\hat{H}(t) = \\hat{H}_0 + f(t)\\hat{V}\n",
    "\\end{equation}\n",
    "The perturbation is a magnetic field:\n",
    "\\begin{equation}\n",
    "        \\hat{V} = -g\\mu_B\\hat{\\vec{S}}\\cdot\\vec{H}_m \n",
    "\\end{equation}"
   ]
  },
  {
   "cell_type": "markdown",
   "metadata": {},
   "source": [
    "In this case:\n",
    "\n",
    "* $S = 7/2$\n",
    "\n",
    "* $D$ = 1281 MHz\n",
    "\n",
    "* $E$ = 294 MHz\n",
    "\n",
    "* $\\vec{H} = (0.15, 0.0, 0.0)$ T\n",
    "\n",
    "* $\\vec{H}_m = (0, 0.001, 0.0)$ T"
   ]
  },
  {
   "cell_type": "code",
   "execution_count": null,
   "metadata": {},
   "outputs": [],
   "source": [
    "S = 7/2 # spin\n",
    "E = 294 # value in MHz\n",
    "D = 1281 # value in MHz\n",
    "dim = int(2*S + 1) #matrix dim"
   ]
  },
  {
   "cell_type": "code",
   "execution_count": null,
   "metadata": {},
   "outputs": [],
   "source": [
    "H = np.array([0.15, 0, 0.0], dtype = float) #magnetic field in T\n",
    "H_m = np.array([0, 0.001, 0], dtype = float) #only in presence of perturbation (T)\n",
    "H0 = GdW30.hGdW30(D, E, H)\n",
    "V = GdW30.vGdW30(H_m)"
   ]
  },
  {
   "cell_type": "code",
   "execution_count": null,
   "metadata": {},
   "outputs": [],
   "source": [
    "eigenvalues, eigenstates = H0.eigenstates()\n",
    "H0 = H0.transform(eigenstates) - eigenvalues[0]"
   ]
  },
  {
   "cell_type": "code",
   "execution_count": null,
   "metadata": {},
   "outputs": [],
   "source": [
    "# In principle, we could just transform V with the recently obtained eigenstates. Unfortunately, that\n",
    "# would make the test results different in different computers, as the eigenstates can have different phases.\n",
    "# Therefore, we use the V that was computed once, and stored in file \"V\". The commented code was used\n",
    "# to generate and store V.\n",
    "#V = V.transform(eigenstates)\n",
    "#fileio.file_data_store(\"V\", V, numformat = 'exp')\n",
    "V = qt.Qobj(qt.fileio.file_data_read(\"V\"))"
   ]
  },
  {
   "cell_type": "code",
   "execution_count": null,
   "metadata": {},
   "outputs": [],
   "source": [
    "H = hamiltonians.hamiltonian(H0, [V])"
   ]
  },
  {
   "cell_type": "code",
   "execution_count": null,
   "metadata": {},
   "outputs": [],
   "source": [
    "w = np.zeros(dim-1)\n",
    "taui = np.zeros(dim-1)\n",
    "for i in range(dim-1):\n",
    "    w[i] = eigenvalues[i+1] - eigenvalues[i]\n",
    "    taui[i] = 2.0*np.pi/w[i]\n",
    "    print(\"Transition {:d}: w = {:f} MHz, tau = {:f} ns\".format(i, w[i], 1000.0*taui[i]/(2.0*np.pi)))"
   ]
  },
  {
   "cell_type": "markdown",
   "metadata": {},
   "source": [
    "# Time array definition"
   ]
  },
  {
   "cell_type": "code",
   "execution_count": null,
   "metadata": {},
   "outputs": [],
   "source": [
    "T = 5*taui[0]\n",
    "print(\"T = {:f} us*2*pi = {:f} ns\".format(T, 1000*T/(2.0*np.pi)))\n",
    "time = math_extra.timegrid(H0, T, 2.0)\n",
    "print('#Time steps =', time.shape[0])"
   ]
  },
  {
   "cell_type": "markdown",
   "metadata": {},
   "source": [
    "# Control function"
   ]
  },
  {
   "cell_type": "markdown",
   "metadata": {},
   "source": [
    "The control function is parametrized with the Fourier expansion as follow:\n",
    "\\begin{equation}\n",
    "    f(u, t) = \\frac{1}{\\sqrt{T}}u_0 + \\frac{2}{\\sqrt{T}}\\sum_{k = 1}^{M}u_{2k}\\cos(\\omega_kt) + \\frac{2}{\\sqrt{T}}\\sum_{k = 1}^{M}u_{2k + 1}\\sin(\\omega_kt),\n",
    "\\end{equation}\n",
    "where $u_0\\dots u_{2M + 1}$ are the control parameters. This way, we can compute the derivate respect any control parameter as\n",
    "\\begin{equation}\n",
    "    \\frac{\\partial f}{\\partial u_m}(u, t) = f(e_m, t),\n",
    "\\end{equation}\n",
    "where $e_m$ is the set of parameters where all of them are zero except the m-th ane, that is equal to one.\n",
    "\n",
    "This pulse parametrization is included in the typical_pulses.py file as pulse class."
   ]
  },
  {
   "cell_type": "code",
   "execution_count": null,
   "metadata": {},
   "outputs": [],
   "source": [
    "M = 10\n",
    "\n",
    "omega = np.zeros(M+1)\n",
    "omega[0] = 0.0\n",
    "for k in range(1, M+1):\n",
    "    omega[k] = (2.0*np.pi/T) * k\n",
    "    print(\"omega[{:d}] = {:f} MHz\".format(k, omega[k]))\n",
    "\n",
    "# u = 1.0*np.random.rand((2*M + 1))\n",
    "u = np.zeros(2*M+1)\n",
    "u[2] = 1.0\n",
    "u[3] = 1.0\n",
    "f = pulses.pulse(\"fourier\", T, u = u)\n",
    "\n",
    "print(\"Amplitudes:\")\n",
    "print(\"{:f} mT\".format(u[0]/np.sqrt(T)))\n",
    "for m in range(1, 2*M+1):\n",
    "    print(\"{:f} mT\".format(2.0*u[m]/(np.sqrt(T))))"
   ]
  },
  {
   "cell_type": "code",
   "execution_count": null,
   "metadata": {},
   "outputs": [],
   "source": [
    "fig, ax = plt.subplots()\n",
    "\n",
    "ax.plot(time * 1000/(2.0*np.pi), f.fu(time, u))\n",
    "ax.set_xlabel(\"Time (ns)\")\n",
    "ax.set_xlim(left = 0.0, right = time[-1]*1000/(2.0*np.pi))\n",
    "ax.set_ylabel(\"f(t) (mT)\")\n",
    "if isnotebook:\n",
    "    plt.show()\n",
    "else:\n",
    "    fig.savefig(\"pulse.pdf\")"
   ]
  },
  {
   "cell_type": "code",
   "execution_count": null,
   "metadata": {},
   "outputs": [],
   "source": [
    "fig, ax = plt.subplots()\n",
    "\n",
    "fw, ws = f.fw(time, u)\n",
    "#fw = f.fw(time, u, w = omega)\n",
    "#ws = omega\n",
    "fwabs = np.abs(fw)\n",
    "ax.plot(ws[:M+1]/omega[1], fwabs[:M+1], marker = 'o')\n",
    "\n",
    "if isnotebook:\n",
    "    plt.show()\n",
    "else:\n",
    "    fig.savefig(\"pulse.pdf\")"
   ]
  },
  {
   "cell_type": "markdown",
   "metadata": {},
   "source": [
    "# State optimization "
   ]
  },
  {
   "cell_type": "markdown",
   "metadata": {},
   "source": [
    "The target will be the population of the first excited state.\n",
    "\\begin{equation}\n",
    "T(\\psi(T)) = \\vert \\psi(T)\\vert 1\\rangle\\vert^2\n",
    "\\end{equation}\n",
    "We will use a penalty function:\n",
    "\\begin{equation}\n",
    "P(u) = -\\lambda \\int_0^T\\!\\!{\\rm d}t\\; f^2(u, t)\\,,\n",
    "\\end{equation}\n",
    "where the $\\lambda$ penalty factor is set to:\n",
    "\\begin{equation}\n",
    "\\lambda = \\frac{0.1}{\\int_0^T\\!\\!{\\rm d}t\\; f^2(u^0, t)}\\,.\n",
    "\\end{equation}\n",
    "where $u^0$ are the parameteres of the initial guess pulse.\n",
    "\n",
    "Therefore, the target functionl is:\n",
    "\\begin{equation}\n",
    "F(\\psi(T), u) = T(\\psi(T)) + P(u)\\,.\n",
    "\\end{equation}"
   ]
  },
  {
   "cell_type": "markdown",
   "metadata": {},
   "source": [
    "## QOCT target function definition"
   ]
  },
  {
   "cell_type": "code",
   "execution_count": null,
   "metadata": {},
   "outputs": [],
   "source": [
    "target_level = 1\n",
    "\n",
    "lambda_ = 0.1 / sp.integrate.simps(f.fu(time)*f.fu(time), time)\n",
    "\n",
    "def Pfunction(u):\n",
    "    return - lambda_ * sp.integrate.simps(f.fu(time, u) * f.fu(time, u), time)\n",
    "\n",
    "def dFdu(u, m):\n",
    "    return - 2.0 * lambda_ * sp.integrate.simps(f.dfu(time, m, u) * f.fu(time, u), time)\n",
    "\n",
    "def Fyu(y, u):\n",
    "    return qt.expect(qt.fock_dm(dim, target_level), y) + Pfunction(u)\n",
    "\n",
    "def dFdy(y, u):\n",
    "    return qt.fock_dm(dim, target_level) * y\n",
    "\n",
    "state_0 = qt.basis(dim, 0)"
   ]
  },
  {
   "cell_type": "code",
   "execution_count": null,
   "metadata": {},
   "outputs": [],
   "source": [
    "#tg = target.Target('expectationvalue', dFdu = dFdu, operator = fock_dm(dim, target_level), Pu = Pfunction)\n",
    "tg = target.Target('generic', Fyu = Fyu, dFdy = dFdy, dFdu = dFdu)\n",
    "\n",
    "opt = qoct.Qoct(H, T, time.shape[0], tg, f, state_0,\n",
    "                interaction_picture = True)"
   ]
  },
  {
   "cell_type": "code",
   "execution_count": null,
   "metadata": {},
   "outputs": [],
   "source": [
    "derqoct, dernum, error, elapsed_time = opt.check_grad(u, 3)\n",
    "print(\"QOCT calculation: \\t{}\".format(derqoct))\n",
    "print(\"Ridders calculation: \\t{} +- {}\".format(dernum, error))\n",
    "data.append(derqoct)"
   ]
  },
  {
   "cell_type": "code",
   "execution_count": null,
   "metadata": {},
   "outputs": [],
   "source": [
    "x, optval, res = opt.maximize(maxeval = 20,verbose = True)\n",
    "data.append(optval)"
   ]
  },
  {
   "cell_type": "code",
   "execution_count": null,
   "metadata": {},
   "outputs": [],
   "source": [
    "f.set_parameters(x)\n",
    "result = solvers.solve('sesolve', hamiltonians.hamiltonian(H0, V), f, state_0, time,\n",
    "               returnQoutput = True, interaction_picture = True)\n",
    "Gval = tg.Fyu(result[-1], x)"
   ]
  },
  {
   "cell_type": "code",
   "execution_count": null,
   "metadata": {},
   "outputs": [],
   "source": [
    "print('Gval =', Gval)\n",
    "print('Tval =', Gval - Pfunction(x))"
   ]
  },
  {
   "cell_type": "code",
   "execution_count": null,
   "metadata": {},
   "outputs": [],
   "source": [
    "fig, ax = plt.subplots(1, 2)\n",
    "\n",
    "occ = np.zeros_like(time)\n",
    "for j in range(time.size):\n",
    "    #occ[j] = Tfunction(result.states[j])\n",
    "    occ[j] = tg.Fyu(result[j], x) - Pfunction(x)\n",
    "ax[0].plot(time * 1000/(2.0*np.pi), f.fu(time, u), label = 'initial guess'),\n",
    "ax[0].plot(time * 1000/(2.0*np.pi), f.fu(time, x), label = 'optimal pulse')\n",
    "ax[0].set_xlabel(\"Time (ns)\")\n",
    "ax[0].set_xlim(left = 0.0, right = time[-1]*1000/(2.0*np.pi))\n",
    "ax[0].set_ylabel(\"f(t) (mT)\")\n",
    "ax[0].legend()\n",
    "\n",
    "ax[1].plot(time * 1000/(2.0*np.pi), occ)\n",
    "ax[1].set_xlabel(\"Time (ns)\")\n",
    "ax[1].set_ylabel(\"P$_1$(t)\")\n",
    "ax[1].set_ylim(bottom = 0, top = 1)\n",
    "ax[1].set_xlim(left = 0.0, right = time[-1]*1000/(2.0*np.pi))\n",
    "if isnotebook:\n",
    "    plt.show()\n",
    "else:\n",
    "    fig.savefig(\"pulse.pdf\")"
   ]
  },
  {
   "cell_type": "markdown",
   "metadata": {},
   "source": [
    "# Gate optimization"
   ]
  },
  {
   "cell_type": "markdown",
   "metadata": {},
   "source": [
    "Now, the target will be the creation of the Toffoli quantum gate. We will not use a penalty function, but set bounds for the coefficients values."
   ]
  },
  {
   "cell_type": "markdown",
   "metadata": {},
   "source": [
    "## QOCT target function definition"
   ]
  },
  {
   "cell_type": "code",
   "execution_count": null,
   "metadata": {},
   "outputs": [],
   "source": [
    "U_target = qt.Qobj(toffoli().full())\n",
    "U_0 = qt.qeye(dim) #initial state"
   ]
  },
  {
   "cell_type": "markdown",
   "metadata": {},
   "source": [
    "We will ask each frequency component not to be larger than 30 mT."
   ]
  },
  {
   "cell_type": "code",
   "execution_count": null,
   "metadata": {},
   "outputs": [],
   "source": [
    "maxhval = 30.0\n",
    "kappa = maxhval*np.sqrt(T)/2.0\n",
    "print(u, kappa)"
   ]
  },
  {
   "cell_type": "code",
   "execution_count": null,
   "metadata": {},
   "outputs": [],
   "source": [
    "tg = target.Target('evolutionoperator', Utarget = U_target)\n",
    "\n",
    "opt = qoct.Qoct(H, T, time.shape[0], tg, f, U_0,\n",
    "                interaction_picture = True)"
   ]
  },
  {
   "cell_type": "code",
   "execution_count": null,
   "metadata": {},
   "outputs": [],
   "source": [
    "derqoct, dernum, error, elapsed_time = opt.check_grad(u, 3)\n",
    "print(\"QOCT calculation: \\t{}\".format(derqoct))\n",
    "print(\"Ridders calculation: \\t{} +- {}\".format(dernum, error))"
   ]
  },
  {
   "cell_type": "code",
   "execution_count": null,
   "metadata": {},
   "outputs": [],
   "source": [
    "x, optval, res = opt.maximize(maxeval = 50,\n",
    "                              verbose = True,\n",
    "                              algorithm = nlopt.LD_SLSQP,\n",
    "                              upper_bounds = kappa * np.ones_like(u),\n",
    "                              lower_bounds = -kappa * np.ones_like(u))\n",
    "data.append(optval)"
   ]
  },
  {
   "cell_type": "code",
   "execution_count": null,
   "metadata": {},
   "outputs": [],
   "source": [
    "with open(\"data\", \"w\") as f:\n",
    "    for i in data:\n",
    "        f.write(\"{:.14e}\\n\".format(i))"
   ]
  }
 ],
 "metadata": {
  "kernelspec": {
   "display_name": "Python 3 (ipykernel)",
   "language": "python",
   "name": "python3"
  },
  "language_info": {
   "codemirror_mode": {
    "name": "ipython",
    "version": 3
   },
   "file_extension": ".py",
   "mimetype": "text/x-python",
   "name": "python",
   "nbconvert_exporter": "python",
   "pygments_lexer": "ipython3",
   "version": "3.11.2"
  }
 },
 "nbformat": 4,
 "nbformat_minor": 4
}
