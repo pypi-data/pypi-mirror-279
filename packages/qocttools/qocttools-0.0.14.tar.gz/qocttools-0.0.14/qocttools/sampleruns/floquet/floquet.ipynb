{
 "cells": [
  {
   "cell_type": "markdown",
   "id": "f043397d",
   "metadata": {},
   "source": [
    "# Floquet optimization"
   ]
  },
  {
   "cell_type": "code",
   "execution_count": null,
   "id": "9f0dffa0",
   "metadata": {},
   "outputs": [],
   "source": [
    "try:\n",
    "    get_ipython\n",
    "    isnotebook = True\n",
    "except:\n",
    "    isnotebook = False"
   ]
  },
  {
   "cell_type": "code",
   "execution_count": null,
   "id": "468cfb1b",
   "metadata": {},
   "outputs": [],
   "source": [
    "import os\n",
    "import numpy as np\n",
    "import qutip as qt\n",
    "import nlopt\n",
    "import matplotlib as mpl\n",
    "import matplotlib.pyplot as plt\n",
    "from IPython.display import Image, display\n",
    "if not isnotebook:\n",
    "    def display(args):\n",
    "        pass"
   ]
  },
  {
   "cell_type": "code",
   "execution_count": null,
   "id": "1c31f089",
   "metadata": {},
   "outputs": [],
   "source": [
    "import qocttools\n",
    "import qocttools.pulses as pulses\n",
    "import qocttools.qoct as qoct\n",
    "import qocttools.hamiltonians as hamiltonians\n",
    "import qocttools.floquet as floquet\n",
    "import qocttools.target as target\n",
    "qocttools.about()"
   ]
  },
  {
   "cell_type": "code",
   "execution_count": null,
   "id": "29a81d0b",
   "metadata": {},
   "outputs": [],
   "source": [
    "if \"NP_RANDOM_SEED\" in os.environ:\n",
    "    seed = int(os.environ[\"NP_RANDOM_SEED\"])\n",
    "else:\n",
    "    seed = 1"
   ]
  },
  {
   "cell_type": "code",
   "execution_count": null,
   "id": "e7375fd6",
   "metadata": {},
   "outputs": [],
   "source": [
    "data = []"
   ]
  },
  {
   "cell_type": "markdown",
   "id": "90c00e14",
   "metadata": {},
   "source": [
    "# Model definition"
   ]
  },
  {
   "cell_type": "code",
   "execution_count": null,
   "id": "f4f576b3",
   "metadata": {},
   "outputs": [],
   "source": [
    "Sx = qt.jmat(1, \"x\")\n",
    "Sy = qt.jmat(1, \"y\")\n",
    "Sz = qt.jmat(1, \"z\")\n",
    "Bs = 0.3\n",
    "Nz = 1.00\n",
    "Nxy = 0.05\n",
    "Bd = 0.1\n",
    "omega = 1.00\n",
    "gamma = 0.2\n",
    "beta = 3.0\n",
    "d = 3\n",
    "dim = d**2"
   ]
  },
  {
   "cell_type": "code",
   "execution_count": null,
   "id": "d3bd6ccd",
   "metadata": {},
   "outputs": [],
   "source": [
    "def system_definition():\n",
    "    H0 = -Bs * Sz + Nz * Sz**2 + Nxy * (Sx**2 - Sy**2)\n",
    "    Vx = -Bd * Sx\n",
    "    Vy = -Bd * Sy\n",
    "    A = []\n",
    "    e, psi = H0.eigenstates()\n",
    "    for i in range(d):\n",
    "        for j in range(d):\n",
    "            if j == i:\n",
    "                continue\n",
    "            gammaij = gamma * np.exp(-beta*e[j]) / (np.exp(-beta*e[i])+np.exp(-beta*e[j]))\n",
    "            A.append( np.sqrt(gammaij) * psi[j] * psi[i].dag())\n",
    "    return H0, [Vx, Vy], A, e, psi\n",
    "\n",
    "H0, V, A, e, psi = system_definition()"
   ]
  },
  {
   "cell_type": "code",
   "execution_count": null,
   "id": "eda017de",
   "metadata": {},
   "outputs": [],
   "source": [
    "print(\"Field-free eigenvalues = {}\".format(e))"
   ]
  },
  {
   "cell_type": "markdown",
   "id": "c1203829",
   "metadata": {},
   "source": [
    "# Basic freequency and period"
   ]
  },
  {
   "cell_type": "code",
   "execution_count": null,
   "id": "277ea406",
   "metadata": {},
   "outputs": [],
   "source": [
    "#omega_eV = 2.0\n",
    "#omega = omega_eV / eV\n",
    "omega = 3.0\n",
    "T = (2.0*np.pi/omega)\n",
    "\n",
    "print(\"The periodic driving frequency is {} eV.\".format(omega))\n",
    "print(\"The Floquet period is {} a.u\".format(T))\n"
   ]
  },
  {
   "cell_type": "markdown",
   "id": "affad2cc",
   "metadata": {},
   "source": [
    "# Zero-field calculation"
   ]
  },
  {
   "cell_type": "code",
   "execution_count": null,
   "id": "a3ee7d20",
   "metadata": {},
   "outputs": [],
   "source": [
    "a0 = 0.0\n",
    "\n",
    "def Axref(t, args):\n",
    "    return a0 * np.sin(omega * t)\n",
    "\n",
    "def Ayref(t, args):\n",
    "    return a0 * np.cos(omega * t)"
   ]
  },
  {
   "cell_type": "code",
   "execution_count": null,
   "id": "8a387b22",
   "metadata": {},
   "outputs": [],
   "source": [
    "H = [H0, [V[0], Axref], [V[1], Ayref]]"
   ]
  },
  {
   "cell_type": "code",
   "execution_count": null,
   "id": "69b3ced8-4c70-4b95-97ce-25a8c1558314",
   "metadata": {},
   "outputs": [],
   "source": [
    "#?qt.FloquetBasis"
   ]
  },
  {
   "cell_type": "code",
   "execution_count": null,
   "id": "5cfba5f9",
   "metadata": {},
   "outputs": [],
   "source": [
    "epsilon0 = floquet.epsilon(H, T)\n",
    "print(\"Field-free Floquet pseudoenergies = {}\".format(epsilon0))"
   ]
  },
  {
   "cell_type": "markdown",
   "id": "ff8599ff",
   "metadata": {},
   "source": [
    "# Non-zero field (reference) calculations"
   ]
  },
  {
   "cell_type": "code",
   "execution_count": null,
   "id": "76b6181b",
   "metadata": {},
   "outputs": [],
   "source": [
    "a0 = 5.0"
   ]
  },
  {
   "cell_type": "code",
   "execution_count": null,
   "id": "82ecf1e2",
   "metadata": {},
   "outputs": [],
   "source": [
    "#print(qt.floquet_modes(H, T)[1])\n",
    "epsilon_ref = floquet.epsilon(H, T)\n",
    "print(\"Reference Floquet pseudoenergies = {}\".format(epsilon_ref))\n",
    "print(\"Field-free Floquet pseudoenergies = {}\".format(epsilon0))\n",
    "print(\"Diff with the field-free eigenvalues = {}\".format(epsilon_ref-epsilon0))"
   ]
  },
  {
   "cell_type": "markdown",
   "id": "31f11bbe",
   "metadata": {},
   "source": [
    "# Pulse definitions"
   ]
  },
  {
   "cell_type": "code",
   "execution_count": null,
   "id": "f142722f",
   "metadata": {},
   "outputs": [],
   "source": [
    "times = np.linspace(0, T, 100)\n",
    "maxamp = a0 * np.sqrt(T) / 2\n",
    "\n",
    "read_initial_guess_from_disk = True"
   ]
  },
  {
   "cell_type": "code",
   "execution_count": null,
   "id": "45295c42",
   "metadata": {},
   "outputs": [],
   "source": [
    "if not read_initial_guess_from_disk:\n",
    "    \n",
    "    M = 5\n",
    "    random_initial_pulse = True\n",
    "\n",
    "    if random_initial_pulse:\n",
    "        random_bound = 1.0 * maxamp\n",
    "        u1 = np.zeros(2*M+1)\n",
    "        u1[1:] = np.random.uniform(low = -1.0, high = 1.0, size = 2*M)\n",
    "        u1[1:] = random_bound * u1[1:]\n",
    "        u2 = np.zeros(2*M+1)\n",
    "        u2[1:] = np.random.uniform(low = -1.0, high = 1.0, size = 2*M)\n",
    "        u2[1:] = random_bound * u2[1:]\n",
    "    else:\n",
    "        u1 = np.zeros(2*M+1)\n",
    "        u1[7] = maxamp\n",
    "        u2 = np.zeros(2*M+1)\n",
    "        u2[8] = maxamp\n",
    "    \n",
    "    Ax0 = pulses.pulse(\"fourier\", T, u = u1)\n",
    "    Ay0 = pulses.pulse(\"fourier\", T, u = u2)\n",
    "    Axopt = pulses.pulse(\"fourier\", T, u = u1)\n",
    "    Ayopt = pulses.pulse(\"fourier\", T, u = u2)\n",
    "    #Axr = pulses.pulse(\"fourier\", T, u = u1)\n",
    "    #Ayr = pulses.pulse(\"fourier\", T, u = u2)\n",
    "    #uopt = Axr.fitparams(Axref(times, None), times, u1)\n",
    "    #Axr.set_parameters(uopt)\n",
    "    #uopt = Ayr.fitparams(Ayref(times, None), times, u2)\n",
    "    #Ayr.set_parameters(uopt)\n",
    "    Ax0.print('Ax0')\n",
    "    Ay0.print('Ay0')\n",
    "else:\n",
    "    Ax0 = pulses.read_pulse('Ax0')\n",
    "    Ay0 = pulses.read_pulse('Ay0')\n",
    "    Axopt = pulses.read_pulse('Ax0')\n",
    "    Ayopt = pulses.read_pulse('Ay0')\n",
    "\n",
    "#Axopt.set_constraint('zero_average')\n",
    "#Ayopt.set_constraint('zero_average')"
   ]
  },
  {
   "cell_type": "code",
   "execution_count": null,
   "id": "4fa64be9",
   "metadata": {},
   "outputs": [],
   "source": [
    "fig = plt.figure(figsize=(5,4), facecolor = 'red', frameon = True, edgecolor = 'black', linewidth = 5)\n",
    "ax = fig.add_axes([0.15, 0.15, 0.8, 0.8])\n",
    "\n",
    "times = np.linspace(0, T, 100)\n",
    "\n",
    "ax.plot(times/T, Axref(times, None), label = r\"$A^{\\rm ref}_x(t)$\")\n",
    "ax.plot(times/T, Ayref(times, None), label = r\"$A^{\\rm ref}_y(t)$\")\n",
    "\n",
    "ax.plot(times/T, Ax0.fu(times), label = r\"$A^{\\rm 0}_x(t)$\")\n",
    "ax.plot(times/T, Ay0.fu(times), label = r\"$A^{\\rm 0}_y(t)$\")\n",
    "\n",
    "#ax.plot(times/T, Axref(times, None))\n",
    "#ax.plot(times/T, Ayref(times, None))\n",
    "\n",
    "ax.legend()\n",
    "ax.set_xlim(left = 0, right = 1)\n",
    "\n",
    "fname = 'reference-fields'\n",
    "fig.savefig(fname + '.pdf')\n",
    "fig.savefig(fname + '.png')\n",
    "plt.close(fig)\n",
    "display(Image(fname + '.png'))"
   ]
  },
  {
   "cell_type": "code",
   "execution_count": null,
   "id": "9fdf665a",
   "metadata": {},
   "outputs": [],
   "source": [
    "u0 = pulses.pulse_collection_get_parameters([Ax0, Ay0])"
   ]
  },
  {
   "cell_type": "markdown",
   "id": "49b8775c",
   "metadata": {},
   "source": [
    "# Hamiltonian"
   ]
  },
  {
   "cell_type": "code",
   "execution_count": null,
   "id": "6c6d1d7e",
   "metadata": {},
   "outputs": [],
   "source": [
    "H = hamiltonians.hamiltonian(H0, V)"
   ]
  },
  {
   "cell_type": "code",
   "execution_count": null,
   "id": "78766947",
   "metadata": {},
   "outputs": [],
   "source": [
    "def Hfunc(t, args):\n",
    "    fx = args[\"f\"][0]\n",
    "    fy = args[\"f\"][1]\n",
    "    return H0 + fx(t)*V[0] + fy(t)*V[1]\n",
    "\n",
    "def Vfuncx(t, args):\n",
    "    return V[0]\n",
    "\n",
    "def Vfuncy(t, args):\n",
    "    return V[1]\n",
    "\n",
    "H_ = hamiltonians.hamiltonian(Hfunc, [Vfuncx, Vfuncy])"
   ]
  },
  {
   "cell_type": "markdown",
   "id": "c3136a75",
   "metadata": {},
   "source": [
    "# Initial-guess calculations"
   ]
  },
  {
   "cell_type": "code",
   "execution_count": null,
   "id": "97d6538e",
   "metadata": {},
   "outputs": [],
   "source": [
    "u = u0.copy()"
   ]
  },
  {
   "cell_type": "code",
   "execution_count": null,
   "id": "3fdd5d75",
   "metadata": {},
   "outputs": [],
   "source": [
    "epsilon_ig = floquet.epsilon3(H, [Ax0, Ay0], u, T)\n",
    "print(\"Initial-guess Floquet pseudoenergies = {}\".format(epsilon_ig))\n",
    "print(\"Reference Floquet pseudoenergies = {}\".format(epsilon_ref))\n",
    "print(\"Diff = {}\".format(epsilon_ig-epsilon_ref))"
   ]
  },
  {
   "cell_type": "code",
   "execution_count": null,
   "id": "f4e5e9b5",
   "metadata": {},
   "outputs": [],
   "source": [
    "epsilon_ig = floquet.epsilon3(H_, [Ax0, Ay0], u, T)\n",
    "print(\"Initial-guess Floquet pseudoenergies = {}\".format(epsilon_ig))\n",
    "print(\"Reference Floquet pseudoenergies = {}\".format(epsilon_ref))\n",
    "print(\"Diff = {}\".format(epsilon_ig-epsilon_ref))"
   ]
  },
  {
   "cell_type": "markdown",
   "id": "ffe2cb70",
   "metadata": {},
   "source": [
    "# Target definition"
   ]
  },
  {
   "cell_type": "code",
   "execution_count": null,
   "id": "f58f3bb8",
   "metadata": {},
   "outputs": [],
   "source": [
    "targeteps = epsilon_ref.reshape(1, 3)"
   ]
  },
  {
   "cell_type": "code",
   "execution_count": null,
   "id": "40310fd6",
   "metadata": {},
   "outputs": [],
   "source": [
    "target_def = 0\n",
    "\n",
    "if target_def == 0:\n",
    "    \n",
    "    def f(eps):\n",
    "        cte = 1.0\n",
    "        fval = 0.0\n",
    "        nkpoints = eps.shape[0]\n",
    "        targete = targeteps\n",
    "        dim = eps.shape[1]\n",
    "        fval = 0.0\n",
    "        for k in range(nkpoints):\n",
    "            for alpha in range(dim):\n",
    "                fval = fval - cte * (eps[k, alpha] - targete[k, alpha])**2\n",
    "        return fval\n",
    "    \n",
    "    def dfdepsilon(eps):\n",
    "        cte = 1.0\n",
    "        nkpoints = eps.shape[0]\n",
    "        targete = targeteps\n",
    "        dim = eps.shape[1]\n",
    "        dfval = np.zeros((nkpoints, dim))\n",
    "        for k in range(nkpoints):\n",
    "            for alpha in range(dim):\n",
    "                dfval[k, alpha] = - 2.0 * cte * (eps[k, alpha]-targete[k, alpha])\n",
    "        return dfval\n",
    "    \n",
    "elif target_def == 1:\n",
    "\n",
    "    def f(eps):\n",
    "        fval = 0.0\n",
    "        dim = eps.shape[1]\n",
    "        nkpoints = eps.shape[0]\n",
    "        for k in range(nkpoints):\n",
    "            fval = fval + eps[k, 0]-eps[k, 2]\n",
    "        return fval\n",
    "\n",
    "    def dfdepsilon(eps):\n",
    "        dim = eps.shape[1]\n",
    "        nkpoints = eps.shape[0]\n",
    "        dfval = np.zeros((nkpoints, dim))\n",
    "        for k in range(nkpoints):\n",
    "            dfval[k, 0] = 1.0\n",
    "            dfval[k, 1] = 0.0\n",
    "            dfval[k, 2] = -1.0\n",
    "        return dfval"
   ]
  },
  {
   "cell_type": "markdown",
   "id": "96f220db",
   "metadata": {},
   "source": [
    "# Optimization: Perturbation-theory formula"
   ]
  },
  {
   "cell_type": "code",
   "execution_count": null,
   "id": "8c510b60",
   "metadata": {},
   "outputs": [],
   "source": [
    "u = u0.copy()\n",
    "pulses.pulse_collection_set_parameters([Axopt, Ayopt], u)"
   ]
  },
  {
   "cell_type": "code",
   "execution_count": null,
   "id": "6c0a5751",
   "metadata": {},
   "outputs": [],
   "source": [
    "U0 = qt.qeye(3)\n",
    "U0set = []\n",
    "#for k in range(targetset.nkpoints):\n",
    "U0set.append(U0)"
   ]
  },
  {
   "cell_type": "code",
   "execution_count": null,
   "id": "96705c46",
   "metadata": {},
   "outputs": [],
   "source": [
    "tg = target.Target('floquet', targeteps = targeteps,\n",
    "                   T = T, fepsilon = f, dfdepsilon = dfdepsilon)\n",
    "#tg = target.Target('floquet', targeteps = targeteps, T = T)"
   ]
  },
  {
   "cell_type": "code",
   "execution_count": null,
   "id": "dcf13e43",
   "metadata": {},
   "outputs": [],
   "source": [
    "opt = qoct.Qoct(H, T, times.shape[0], tg, [Axopt, Ayopt], U0set,\n",
    "                floquet_mode = 'pt')\n",
    "print(\"G(u) = {} (initial guess)\".format(opt.gfunc(u)))"
   ]
  },
  {
   "cell_type": "code",
   "execution_count": null,
   "id": "78fda933",
   "metadata": {},
   "outputs": [],
   "source": [
    "check_gradient = True\n",
    "if check_gradient:\n",
    "    #u = pulses.pulse_collection_get_parameters([Axopt, Ayopt])\n",
    "    derqoct, dernum, error, elapsed_time = opt.check_grad(u)\n",
    "    print(\"QOCT calculation: \\t{}\".format(derqoct))\n",
    "    print(\"Ridders calculation: \\t{} +- {}\".format(dernum, error))\n",
    "    data.append(derqoct)\n",
    "\n",
    "optimize = False\n",
    "\n",
    "if optimize:\n",
    "    x, optval, res = opt.maximize(maxeval = 100,\n",
    "                                  verbose = True,\n",
    "                                  #tolerance = -1.0,\n",
    "                                  #algorithm = nlopt.LD_MMA,\n",
    "                                  algorithm = nlopt.LD_SLSQP,\n",
    "                                  #algorithm = nlopt.LN_BOBYQA,\n",
    "                                  #algorithm = nlopt.GD_STOGO,\n",
    "                                  #algorithm = nlopt.LD_LBFGS,\n",
    "                                  upper_bounds = 1 * np.abs(maxamp * np.ones_like(u)),\n",
    "                                  lower_bounds = -1 * np.abs(maxamp * np.ones_like(u)))\n",
    "    data.append(optval)\n",
    "    uopt = pulses.pulse_collection_get_parameters([Axopt, Ayopt])\n",
    "    print(opt.gfunc(uopt))\n",
    "    epsilon_opt1 = floquet.epsilon3(H, [Axopt, Ayopt], uopt, T)\n",
    "    print(\"Optimized Floquet pseudoenergies = {}\".format(epsilon_opt1))\n",
    "    print(\"Reference Floquet pseudoenergies = {}\".format(epsilon_ref))\n",
    "    print(\"Diff = {}\".format(epsilon_opt1-epsilon_ref))"
   ]
  },
  {
   "cell_type": "markdown",
   "id": "91646718",
   "metadata": {},
   "source": [
    "# Optimization: Perturbation-theory formula, Hamiltonian-as-a-function"
   ]
  },
  {
   "cell_type": "code",
   "execution_count": null,
   "id": "735d529d",
   "metadata": {},
   "outputs": [],
   "source": [
    "u = u0.copy()\n",
    "pulses.pulse_collection_set_parameters([Axopt, Ayopt], u)"
   ]
  },
  {
   "cell_type": "code",
   "execution_count": null,
   "id": "662957e4",
   "metadata": {},
   "outputs": [],
   "source": [
    "U0 = qt.qeye(3)\n",
    "U0set = []\n",
    "#for k in range(targetset.nkpoints):\n",
    "U0set.append(U0)"
   ]
  },
  {
   "cell_type": "code",
   "execution_count": null,
   "id": "a38dbb8d",
   "metadata": {},
   "outputs": [],
   "source": [
    "tg = target.Target('floquet', targeteps = targeteps,\n",
    "                   T = T, fepsilon = f, dfdepsilon = dfdepsilon)\n",
    "#tg = target.Target('floquet', targeteps = targeteps, T = T)"
   ]
  },
  {
   "cell_type": "code",
   "execution_count": null,
   "id": "b530a187",
   "metadata": {},
   "outputs": [],
   "source": [
    "opt = qoct.Qoct(H_, T, times.shape[0], tg, [Axopt, Ayopt], U0set,\n",
    "                solve_method = 'sesolve',\n",
    "                floquet_mode = 'pt')\n",
    "print(\"G(u) = {} (initial guess)\".format(opt.gfunc(u)))"
   ]
  },
  {
   "cell_type": "code",
   "execution_count": null,
   "id": "b424f1f3",
   "metadata": {},
   "outputs": [],
   "source": [
    "check_gradient = True\n",
    "if check_gradient:\n",
    "    #u = pulses.pulse_collection_get_parameters([Axopt, Ayopt])\n",
    "    derqoct, dernum, error, elapsed_time = opt.check_grad(u)\n",
    "    print(\"QOCT calculation: \\t{}\".format(derqoct))\n",
    "    print(\"Ridders calculation: \\t{} +- {}\".format(dernum, error))\n",
    "    data.append(derqoct)"
   ]
  },
  {
   "cell_type": "code",
   "execution_count": null,
   "id": "50d4dd74",
   "metadata": {},
   "outputs": [],
   "source": [
    "optimize = False\n",
    "\n",
    "if optimize:\n",
    "    x, optval, res = opt.maximize(maxeval = 100,\n",
    "                                  verbose = True,\n",
    "                                  #tolerance = -1.0,\n",
    "                                  #algorithm = nlopt.LD_MMA,\n",
    "                                  algorithm = nlopt.LD_SLSQP,\n",
    "                                  #algorithm = nlopt.LN_BOBYQA,\n",
    "                                  #algorithm = nlopt.GD_STOGO,\n",
    "                                  #algorithm = nlopt.LD_LBFGS,\n",
    "                                  upper_bounds = 1 * np.abs(maxamp * np.ones_like(u)),\n",
    "                                  lower_bounds = -1 * np.abs(maxamp * np.ones_like(u)))\n",
    "    data.append(optval)\n",
    "    uopt = pulses.pulse_collection_get_parameters([Axopt, Ayopt])\n",
    "    print(opt.gfunc(uopt))\n",
    "    epsilon_opt1 = floquet.epsilon3(H, [Axopt, Ayopt], uopt, T)\n",
    "    print(\"Optimized Floquet pseudoenergies = {}\".format(epsilon_opt1))\n",
    "    print(\"Reference Floquet pseudoenergies = {}\".format(epsilon_ref))\n",
    "    print(\"Diff = {}\".format(epsilon_opt1-epsilon_ref))"
   ]
  },
  {
   "cell_type": "markdown",
   "id": "e44aa0d0",
   "metadata": {},
   "source": [
    "# Optimization: QOCT formula"
   ]
  },
  {
   "cell_type": "code",
   "execution_count": null,
   "id": "f9f24746",
   "metadata": {},
   "outputs": [],
   "source": [
    "u = u0.copy()\n",
    "pulses.pulse_collection_set_parameters([Axopt, Ayopt], u)"
   ]
  },
  {
   "cell_type": "code",
   "execution_count": null,
   "id": "e8acc3d2",
   "metadata": {},
   "outputs": [],
   "source": [
    "U0 = qt.qeye(3)\n",
    "U0set = []\n",
    "#for k in range(targetset.nkpoints):\n",
    "U0set.append(U0)"
   ]
  },
  {
   "cell_type": "code",
   "execution_count": null,
   "id": "780f97c8",
   "metadata": {},
   "outputs": [],
   "source": [
    "#tg = target.Target('floquet', targeteps = targeteps, T = T)\n",
    "tg = target.Target('floquet', targeteps = targeteps,\n",
    "                   T = T, fepsilon = f, dfdepsilon = dfdepsilon)"
   ]
  },
  {
   "cell_type": "code",
   "execution_count": null,
   "id": "8510c992",
   "metadata": {},
   "outputs": [],
   "source": [
    "opt = qoct.Qoct(H, T, times.shape[0], tg, [Axopt, Ayopt], U0set,\n",
    "                floquet_mode = 'qoct')\n",
    "print(\"G(u) = {} (initial guess)\".format(opt.gfunc(u)))"
   ]
  },
  {
   "cell_type": "code",
   "execution_count": null,
   "id": "36064c59",
   "metadata": {},
   "outputs": [],
   "source": [
    "check_gradient = True\n",
    "if check_gradient:\n",
    "    #u = pulses.pulse_collection_get_parameters([Axopt, Ayopt])\n",
    "    derqoct, dernum, error, elapsed_time = opt.check_grad(u)\n",
    "    print(\"QOCT calculation: \\t{}\".format(derqoct))\n",
    "    print(\"Ridders calculation: \\t{} +- {}\".format(dernum, error))\n",
    "    data.append(derqoct)"
   ]
  },
  {
   "cell_type": "code",
   "execution_count": null,
   "id": "4628e20a",
   "metadata": {},
   "outputs": [],
   "source": [
    "optimize = False\n",
    "\n",
    "if optimize:\n",
    "    x, optval, res = opt.maximize(maxeval = 100,\n",
    "                                  verbose = True,\n",
    "                                  #tolerance = -1.0,\n",
    "                                  #algorithm = nlopt.LD_MMA,\n",
    "                                  algorithm = nlopt.LD_SLSQP,\n",
    "                                  #algorithm = nlopt.LN_BOBYQA,\n",
    "                                  #algorithm = nlopt.GD_STOGO,\n",
    "                                  #algorithm = nlopt.LD_LBFGS,\n",
    "                                  upper_bounds = 1 * np.abs(maxamp * np.ones_like(u)),\n",
    "                                  lower_bounds = -1 * np.abs(maxamp * np.ones_like(u)))\n",
    "    data.append(optval)\n",
    "    uopt = pulses.pulse_collection_get_parameters([Axopt, Ayopt])\n",
    "    print(opt.gfunc(uopt))\n",
    "    epsilon_opt2 = floquet.epsilon3(H, [Axopt, Ayopt], uopt, T)\n",
    "    print(\"Optimized Floquet pseudoenergies = {}\".format(epsilon_opt2))\n",
    "    print(\"Reference Floquet pseudoenergies = {}\".format(epsilon_ref))\n",
    "    print(\"Diff = {}\".format(epsilon_opt2-epsilon_ref))"
   ]
  },
  {
   "cell_type": "markdown",
   "id": "6f6c597f",
   "metadata": {},
   "source": [
    "# Optimization: QOCT formula, Hamiltonian-as-a-function"
   ]
  },
  {
   "cell_type": "code",
   "execution_count": null,
   "id": "d408dd3b",
   "metadata": {},
   "outputs": [],
   "source": [
    "u = u0.copy()\n",
    "pulses.pulse_collection_set_parameters([Axopt, Ayopt], u)"
   ]
  },
  {
   "cell_type": "code",
   "execution_count": null,
   "id": "1c5b403c",
   "metadata": {},
   "outputs": [],
   "source": [
    "U0 = qt.qeye(3)\n",
    "U0set = []\n",
    "#for k in range(targetset.nkpoints):\n",
    "U0set.append(U0)"
   ]
  },
  {
   "cell_type": "code",
   "execution_count": null,
   "id": "f94762d5",
   "metadata": {},
   "outputs": [],
   "source": [
    "#tg = target.Target('floquet', targeteps = targeteps, T = T)\n",
    "tg = target.Target('floquet', targeteps = targeteps,\n",
    "                   T = T, fepsilon = f, dfdepsilon = dfdepsilon)"
   ]
  },
  {
   "cell_type": "code",
   "execution_count": null,
   "id": "7e31ad87",
   "metadata": {},
   "outputs": [],
   "source": [
    "opt = qoct.Qoct(H_, T, times.shape[0], tg, [Axopt, Ayopt], U0set,\n",
    "                solve_method = 'sesolve',\n",
    "                floquet_mode = 'qoct')\n",
    "print(\"G(u) = {} (initial guess)\".format(opt.gfunc(u)))"
   ]
  },
  {
   "cell_type": "code",
   "execution_count": null,
   "id": "dd096a63",
   "metadata": {},
   "outputs": [],
   "source": [
    "check_gradient = True\n",
    "if check_gradient:\n",
    "    #u = pulses.pulse_collection_get_parameters([Axopt, Ayopt])\n",
    "    derqoct, dernum, error, elapsed_time = opt.check_grad(u)\n",
    "    print(\"QOCT calculation: \\t{}\".format(derqoct))\n",
    "    print(\"Ridders calculation: \\t{} +- {}\".format(dernum, error))\n",
    "    data.append(derqoct)"
   ]
  },
  {
   "cell_type": "code",
   "execution_count": null,
   "id": "6db2645a",
   "metadata": {},
   "outputs": [],
   "source": [
    "optimize = False\n",
    "\n",
    "if optimize:\n",
    "    x, optval, res = opt.maximize(maxeval = 100,\n",
    "                                  verbose = True,\n",
    "                                  #tolerance = -1.0,\n",
    "                                  #algorithm = nlopt.LD_MMA,\n",
    "                                  algorithm = nlopt.LD_SLSQP,\n",
    "                                  #algorithm = nlopt.LN_BOBYQA,\n",
    "                                  #algorithm = nlopt.GD_STOGO,\n",
    "                                  #algorithm = nlopt.LD_LBFGS,\n",
    "                                  upper_bounds = 1 * np.abs(maxamp * np.ones_like(u)),\n",
    "                                  lower_bounds = -1 * np.abs(maxamp * np.ones_like(u)))\n",
    "    data.append(optval)\n",
    "    uopt = pulses.pulse_collection_get_parameters([Axopt, Ayopt])\n",
    "    print(opt.gfunc(uopt))\n",
    "    epsilon_opt2 = floquet.epsilon3(H, [Axopt, Ayopt], uopt, T)\n",
    "    print(\"Optimized Floquet pseudoenergies = {}\".format(epsilon_opt2))\n",
    "    print(\"Reference Floquet pseudoenergies = {}\".format(epsilon_ref))\n",
    "    print(\"Diff = {}\".format(epsilon_opt2-epsilon_ref))"
   ]
  },
  {
   "cell_type": "markdown",
   "id": "6420896f",
   "metadata": {},
   "source": [
    "# Non-equilibrium steady-states (NESS) optimization"
   ]
  },
  {
   "cell_type": "code",
   "execution_count": null,
   "id": "17598496",
   "metadata": {},
   "outputs": [],
   "source": [
    "Ham = hamiltonians.hamiltonian(H0, V, A)\n",
    "Ham__ = hamiltonians.toliouville(Ham)"
   ]
  },
  {
   "cell_type": "code",
   "execution_count": null,
   "id": "b08284dc",
   "metadata": {},
   "outputs": [],
   "source": [
    "op1 = Sz\n",
    "op2 = Sx*Sy+Sy*Sx\n",
    "target_operator = op1"
   ]
  },
  {
   "cell_type": "code",
   "execution_count": null,
   "id": "e6b62ce4",
   "metadata": {},
   "outputs": [],
   "source": [
    "omega0 = 0.5\n",
    "T = (2.0*np.pi/omega0)\n",
    "nts = 100\n",
    "times = np.linspace(0, T, nts + 1)"
   ]
  },
  {
   "cell_type": "code",
   "execution_count": null,
   "id": "e1e69b56",
   "metadata": {},
   "outputs": [],
   "source": [
    "def pulse_definition(T, p, bound = 4.0, seed = 0):\n",
    "    if seed >= 0:\n",
    "        np.random.seed(seed)\n",
    "        u = (bound-(-bound)) * np.random.random_sample(p) + (-bound)\n",
    "        g1 = pulses.pulse(\"fourier\", T, u)\n",
    "        u = (bound-(-bound)) * np.random.random_sample(p) + (-bound)\n",
    "        g2 = pulses.pulse(\"fourier\", T, u)\n",
    "    else:\n",
    "        #M = p\n",
    "        K = 1\n",
    "        u = np.zeros(p)\n",
    "        u[K] = bound #np.sqrt(T)/2\n",
    "        g1 = pulses.pulse(\"fourier\", T, u)\n",
    "        u = np.zeros(p)\n",
    "        u[K+1] = bound #np.sqrt(T)/2\n",
    "        g2 = pulses.pulse(\"fourier\", T, u)\n",
    "    return [g1, g2]\n",
    "\n",
    "\n",
    "def pulse_set_new(g, bound = 4.0, seed = 0):\n",
    "    np.random.seed(seed)\n",
    "    p = g[0].u.shape[0]\n",
    "    u = (bound-(-bound)) * np.random.random_sample(p) + (-bound)\n",
    "    g[0].set_parameters(u)\n",
    "    u = (bound-(-bound)) * np.random.random_sample(p) + (-bound)\n",
    "    g[1].set_parameters(u)"
   ]
  },
  {
   "cell_type": "code",
   "execution_count": null,
   "id": "40ce9849",
   "metadata": {},
   "outputs": [],
   "source": [
    "M = 4\n",
    "bound = 4.0\n",
    "g = pulse_definition(T, 2*M+1, bound = bound, seed = -1)\n",
    "gref = pulse_definition(T, 2*M+1, bound = bound, seed = -1)\n",
    "u = pulses.pulse_collection_get_parameters(g)\n",
    "pulses.pulse_collection_set_parameters(gref, u)"
   ]
  },
  {
   "cell_type": "code",
   "execution_count": null,
   "id": "819a4c7a",
   "metadata": {},
   "outputs": [],
   "source": [
    "tg = target.Target('floquet', operator = target_operator, T = T)\n",
    "opt = qoct.Qoct(Ham, T, nts, tg, g, None, floquet_mode = 'ness')"
   ]
  },
  {
   "cell_type": "code",
   "execution_count": null,
   "id": "e8ca1623",
   "metadata": {},
   "outputs": [],
   "source": [
    "print(\"G(u) = {}\".format(opt.gfunc(u)))\n",
    "print(\"G(u=0) = {}\".format(opt.gfunc(np.zeros_like(u))))"
   ]
  },
  {
   "cell_type": "code",
   "execution_count": null,
   "id": "088c8dbd",
   "metadata": {},
   "outputs": [],
   "source": [
    "check_gradient = True\n",
    "if check_gradient:\n",
    "    derqoct, dernum, error, elapsed_time = opt.check_grad(u)\n",
    "    print(\"QOCT calculation: \\t{}\".format(derqoct))\n",
    "    print(\"Ridders calculation: \\t{} +- {}\".format(dernum, error))\n",
    "    data.append(derqoct)"
   ]
  },
  {
   "cell_type": "markdown",
   "id": "f65471d8",
   "metadata": {},
   "source": [
    "# Output data"
   ]
  },
  {
   "cell_type": "code",
   "execution_count": null,
   "id": "6badf886",
   "metadata": {},
   "outputs": [],
   "source": [
    "with open(\"data\", \"w\") as datafile:\n",
    "    for i in data:\n",
    "        datafile.write(\"{:.14e}\\n\".format(i))"
   ]
  }
 ],
 "metadata": {
  "kernelspec": {
   "display_name": "Python 3 (ipykernel)",
   "language": "python",
   "name": "python3"
  },
  "language_info": {
   "codemirror_mode": {
    "name": "ipython",
    "version": 3
   },
   "file_extension": ".py",
   "mimetype": "text/x-python",
   "name": "python",
   "nbconvert_exporter": "python",
   "pygments_lexer": "ipython3",
   "version": "3.11.2"
  }
 },
 "nbformat": 4,
 "nbformat_minor": 5
}
