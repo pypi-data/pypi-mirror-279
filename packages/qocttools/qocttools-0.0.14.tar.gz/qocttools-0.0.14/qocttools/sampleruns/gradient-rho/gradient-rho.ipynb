{
 "cells": [
  {
   "cell_type": "markdown",
   "metadata": {},
   "source": [
    "# Check on the accuracy of the calculation of the QOCT gradients: Lindblad equation"
   ]
  },
  {
   "cell_type": "code",
   "execution_count": null,
   "metadata": {},
   "outputs": [],
   "source": [
    "try:\n",
    "    get_ipython\n",
    "    isnotebook = True\n",
    "except:\n",
    "    isnotebook = False\n",
    "\n",
    "import os\n",
    "import sys\n",
    "import numpy as np\n",
    "import scipy as sp\n",
    "import matplotlib\n",
    "if not isnotebook:\n",
    "    matplotlib.use('Agg')\n",
    "import matplotlib.pyplot as plt\n",
    "import time\n",
    "from qutip import *\n",
    "from qutip_qip.operations import toffoli"
   ]
  },
  {
   "cell_type": "code",
   "execution_count": null,
   "metadata": {},
   "outputs": [],
   "source": [
    "import qocttools\n",
    "import qocttools.models.GdW30 as GdW30\n",
    "import qocttools.hamiltonians as hamiltonians\n",
    "import qocttools.math_extra as math_extra\n",
    "import qocttools.pulses as pulses\n",
    "import qocttools.qoct as qoct\n",
    "import qocttools.solvers as solvers\n",
    "import qocttools.target as target"
   ]
  },
  {
   "cell_type": "code",
   "execution_count": null,
   "metadata": {},
   "outputs": [],
   "source": [
    "qocttools.about()"
   ]
  },
  {
   "cell_type": "code",
   "execution_count": null,
   "metadata": {},
   "outputs": [],
   "source": [
    "data = []"
   ]
  },
  {
   "cell_type": "markdown",
   "metadata": {},
   "source": [
    "# Introduction"
   ]
  },
  {
   "cell_type": "markdown",
   "metadata": {},
   "source": [
    "In order to calculate the optimal pulse that induces a given reaction in a quantum system, one defines a function of that pulse that must be optimized. One important ingredient for the optimization is derivative of this function with respect to the control parameters that define the pulse. In this script we check that this gradient or derivative is calculated correctly, for the case in which the Lindblad equation is used for the propagation of the density matrix."
   ]
  },
  {
   "cell_type": "markdown",
   "metadata": {},
   "source": [
    "# Model"
   ]
  },
  {
   "cell_type": "markdown",
   "metadata": {},
   "source": [
    "The model is defined by the Hamiltonian:\n",
    "\n",
    "\\begin{equation}\n",
    "        \\hat{H}(t) = \\hat{H}_0 + f(t)\\hat{V}\n",
    "\\end{equation}\n",
    "where the time-independent part is given by:\n",
    "\\begin{equation}\n",
    "        \\hat{H}_0 = D\\bigg[\\hat{S}_z^2 - \\frac{1}{3}S(S + 1)\\bigg] + E[\\hat{S}_x^2 - \\hat{S}_y^2] - g\\mu_B\\hat{\\vec{S}}\\cdot\\vec{H}\n",
    "\\end{equation}\n",
    "and the time-dependent part is:\n",
    "\\begin{equation}\n",
    "        \\hat{H}(t) = \\hat{H}_0 + f(t)\\hat{V}\n",
    "\\end{equation}\n",
    "The perturbation is a magnetic field:\n",
    "\\begin{equation}\n",
    "        \\hat{V} = -g\\mu_B\\hat{\\vec{S}}\\cdot\\vec{H}_m \n",
    "\\end{equation}"
   ]
  },
  {
   "cell_type": "markdown",
   "metadata": {},
   "source": [
    "In this case:\n",
    "\n",
    "* $S = 7/2$\n",
    "\n",
    "* $D$ = 1281 MHz\n",
    "\n",
    "* $E$ = 294 MHz\n",
    "\n",
    "* $\\vec{H} = (0.15, 0.0, 0.0)$ T\n",
    "\n",
    "* $\\vec{H}_m = (0, 0.001, 0.0)$ T"
   ]
  },
  {
   "cell_type": "code",
   "execution_count": null,
   "metadata": {},
   "outputs": [],
   "source": [
    "S = 7/2 # spin\n",
    "E = 294 # value in MHz\n",
    "D = 1281 # value in MHz\n",
    "dim = int(2*S + 1) #matrix dim"
   ]
  },
  {
   "cell_type": "code",
   "execution_count": null,
   "metadata": {},
   "outputs": [],
   "source": [
    "H = np.array([0.15, 0, 0.0], dtype = float) #magnetic field in T\n",
    "H_m = np.array([0, 0.001, 0], dtype = float) #only in presence of perturbation (T)\n",
    "H0 = GdW30.hGdW30(D, E, H)\n",
    "V = GdW30.vGdW30(H_m)"
   ]
  },
  {
   "cell_type": "code",
   "execution_count": null,
   "metadata": {},
   "outputs": [],
   "source": [
    "eigenvalues, eigenstates = H0.eigenstates()\n",
    "#fileio.qsave(eigenstates, \"eigenstates\")\n",
    "eigenstates = fileio.qload(\"eigenstates\")"
   ]
  },
  {
   "cell_type": "code",
   "execution_count": null,
   "metadata": {},
   "outputs": [],
   "source": [
    "# In principle, we could just transform V with the recently obtained eigenstates. Unfortunately, that\n",
    "# would make the test results different in different computers, as the eigenstates can have different phases.\n",
    "H0 = H0.transform(eigenstates) - eigenvalues[0]\n",
    "V = V.transform(eigenstates)"
   ]
  },
  {
   "cell_type": "code",
   "execution_count": null,
   "metadata": {},
   "outputs": [],
   "source": [
    "target_level = 1\n",
    "P0 = fock_dm(dim, 0)\n",
    "P1 = fock_dm(dim, target_level)"
   ]
  },
  {
   "cell_type": "code",
   "execution_count": null,
   "metadata": {},
   "outputs": [],
   "source": [
    "Sx = jmat(S, \"x\")\n",
    "Sy = jmat(S, \"y\")\n",
    "Sz = jmat(S, \"z\")\n",
    "Sp = (Sx + (1j*Sy))\n",
    "Sm = (Sx - (1j*Sy))"
   ]
  },
  {
   "cell_type": "code",
   "execution_count": null,
   "metadata": {},
   "outputs": [],
   "source": [
    "w = np.zeros(dim-1)\n",
    "taui = np.zeros(dim-1)\n",
    "for i in range(dim-1):\n",
    "    w[i] = eigenvalues[i+1] - eigenvalues[i]\n",
    "    taui[i] = 2.0*np.pi/w[i]\n",
    "    print(\"Transition {:d}: w = {:f} MHz, tau = {:f} ns\".format(i, w[i], 1000.0*taui[i]/(2.0*np.pi)))"
   ]
  },
  {
   "cell_type": "markdown",
   "metadata": {},
   "source": [
    "# Time array definition"
   ]
  },
  {
   "cell_type": "code",
   "execution_count": null,
   "metadata": {},
   "outputs": [],
   "source": [
    "T = 5*taui[0]\n",
    "print(\"T = {:f} us*2*pi = {:f} ns\".format(T, 1000*T/(2.0*np.pi)))\n",
    "time = math_extra.timegrid(H0, T, 4.0)\n",
    "print('# Time steps =', time.shape[0])"
   ]
  },
  {
   "cell_type": "markdown",
   "metadata": {},
   "source": [
    "# Initial state"
   ]
  },
  {
   "cell_type": "code",
   "execution_count": null,
   "metadata": {},
   "outputs": [],
   "source": [
    "state_0 = basis(dim, 0)\n",
    "rho0 = state_0 * state_0.dag()"
   ]
  },
  {
   "cell_type": "markdown",
   "metadata": {},
   "source": [
    "# Control function"
   ]
  },
  {
   "cell_type": "markdown",
   "metadata": {},
   "source": [
    "The control function is parametrized with the Fourier expansion as follow:\n",
    "\\begin{equation}\n",
    "    f(u, t) = \\frac{1}{\\sqrt{T}}u_0 + \\frac{2}{\\sqrt{T}}\\sum_{k = 1}^{M}u_{2k}\\cos(\\omega_kt) + \\frac{2}{\\sqrt{T}}\\sum_{k = 1}^{M}u_{2k + 1}\\sin(\\omega_kt),\n",
    "\\end{equation}\n",
    "where $u_0\\dots u_{2M + 1}$ are the control parameters. This way, we can compute the derivate respect any control parameter as\n",
    "\\begin{equation}\n",
    "    \\frac{\\partial f}{\\partial u_m}(u, t) = f(e_m, t),\n",
    "\\end{equation}\n",
    "where $e_m$ is the set of parameters where all of them are zero except the m-th ane, that is equal to one.\n",
    "\n",
    "This pulse parametrization is included in the typical_pulses.py file as pulse class."
   ]
  },
  {
   "cell_type": "code",
   "execution_count": null,
   "metadata": {},
   "outputs": [],
   "source": [
    "M = 10\n",
    "\n",
    "omega = np.zeros(M+1)\n",
    "omega[0] = 0.0\n",
    "for k in range(1, M+1):\n",
    "    omega[k] = (2.0*np.pi/T) * k\n",
    "    print(\"omega[{:d}] = {:f} MHz\".format(k, omega[k]))\n",
    "\n",
    "# u = 1.0*np.random.rand((2*M + 1))\n",
    "u = np.zeros(2*M+1)\n",
    "u[2] = 1.0\n",
    "u[3] = 1.0\n",
    "f = pulses.pulse(\"fourier\", T, u = u)"
   ]
  },
  {
   "cell_type": "code",
   "execution_count": null,
   "metadata": {},
   "outputs": [],
   "source": [
    "fig, ax = plt.subplots()\n",
    "\n",
    "ax.plot(time * 1000/(2.0*np.pi), f.fu(time, u))\n",
    "ax.set_xlabel(\"Time (ns)\")\n",
    "ax.set_xlim(left = 0.0, right = time[-1]*1000/(2.0*np.pi))\n",
    "ax.set_ylabel(\"f(t) (mT)\")\n",
    "if isnotebook:\n",
    "    plt.show()\n",
    "else:\n",
    "    fig.savefig(\"pulse.pdf\")"
   ]
  },
  {
   "cell_type": "markdown",
   "metadata": {},
   "source": [
    "# Propagation with the reference pulse (Schrödinger equation)"
   ]
  },
  {
   "cell_type": "markdown",
   "metadata": {},
   "source": [
    "First, we do a normal propagation for the pure system using Schrödinger equation."
   ]
  },
  {
   "cell_type": "code",
   "execution_count": null,
   "metadata": {},
   "outputs": [],
   "source": [
    "result = solvers.solve('cfmagnus4', hamiltonians.hamiltonian(H0, V), f, state_0, time,\n",
    "                       returnQoutput = False,\n",
    "                       interaction_picture = False)"
   ]
  },
  {
   "cell_type": "code",
   "execution_count": null,
   "metadata": {},
   "outputs": [],
   "source": [
    "p0 = np.zeros(time.shape[0])\n",
    "p1 = np.zeros(time.shape[0])\n",
    "for j in range(time.shape[0]):\n",
    "    p0[j] = expect(P0, Qobj(result[j]))\n",
    "    p1[j] = expect(P1, Qobj(result[j]))"
   ]
  },
  {
   "cell_type": "code",
   "execution_count": null,
   "metadata": {},
   "outputs": [],
   "source": [
    "data.append(p1[-1])"
   ]
  },
  {
   "cell_type": "code",
   "execution_count": null,
   "metadata": {},
   "outputs": [],
   "source": [
    "fig, ax = plt.subplots()\n",
    "\n",
    "ax.plot(time, p0)\n",
    "ax.plot(time, p1)\n",
    "\n",
    "if isnotebook:\n",
    "    plt.show()"
   ]
  },
  {
   "cell_type": "markdown",
   "metadata": {},
   "source": [
    "# Propagation with the reference pulse (Lindblad equation)"
   ]
  },
  {
   "cell_type": "markdown",
   "metadata": {},
   "source": [
    "Now, we will do a propagation adding dissipation, using Lindbad's equation. First, we define one \"collapse\" or Lindblad operator."
   ]
  },
  {
   "cell_type": "code",
   "execution_count": null,
   "metadata": {},
   "outputs": [],
   "source": [
    "A = 5.0*Sp"
   ]
  },
  {
   "cell_type": "markdown",
   "metadata": {},
   "source": [
    "Now we are going to solve the equation twice, for checking purposes: once, using the qutip native propagator, and once using CFM4."
   ]
  },
  {
   "cell_type": "code",
   "execution_count": null,
   "metadata": {},
   "outputs": [],
   "source": [
    "result_good = solvers.solve('sesolve', hamiltonians.hamiltonian(H0, V, [A]), f, rho0, time,\n",
    "                            returnQoutput = True,\n",
    "                            interaction_picture = False)"
   ]
  },
  {
   "cell_type": "code",
   "execution_count": null,
   "metadata": {},
   "outputs": [],
   "source": [
    "result = solvers.solve('cfmagnus4', hamiltonians.hamiltonian(H0, V, [A]), f, rho0, time,\n",
    "                       returnQoutput = False,\n",
    "                       interaction_picture = False)"
   ]
  },
  {
   "cell_type": "code",
   "execution_count": null,
   "metadata": {},
   "outputs": [],
   "source": [
    "p0d_good = np.zeros(time.shape[0])\n",
    "p1d_good = np.zeros(time.shape[0])\n",
    "for j in range(time.shape[0]):\n",
    "    p0d_good[j] = expect(P0, result_good[j])\n",
    "    p1d_good[j] = expect(P1, result_good[j])"
   ]
  },
  {
   "cell_type": "code",
   "execution_count": null,
   "metadata": {},
   "outputs": [],
   "source": [
    "p0d = np.zeros(time.shape[0])\n",
    "p1d = np.zeros(time.shape[0])\n",
    "for j in range(time.shape[0]):\n",
    "    p0d[j] = expect(P0, Qobj(result[j]))\n",
    "    p1d[j] = expect(P1, Qobj(result[j]))"
   ]
  },
  {
   "cell_type": "code",
   "execution_count": null,
   "metadata": {},
   "outputs": [],
   "source": [
    "data.append(p1d[-1])"
   ]
  },
  {
   "cell_type": "markdown",
   "metadata": {},
   "source": [
    "# Propagation with the reference pulse (Lindblad; superoperator representation)"
   ]
  },
  {
   "cell_type": "markdown",
   "metadata": {},
   "source": [
    "Now, we repeat the propagation using the Lindblad equation. However, now we will use the \"superoperator\" or \"Liouville space\" representation, i.e. we will cast the densities into vectors, and the superoperators that act on the densities will be cast into matrices."
   ]
  },
  {
   "cell_type": "markdown",
   "metadata": {},
   "source": [
    "Convention:\n",
    "\n",
    "* `X` will be the state or operator in the normal representation.\n",
    "* `X_` will be the state or operator in Liouville representation.\n",
    "* `X__` will be the staste or operrator in Liouville representation, although pretending it is just a normal vector or operator."
   ]
  },
  {
   "cell_type": "code",
   "execution_count": null,
   "metadata": {},
   "outputs": [],
   "source": [
    "rho0_ = operator_to_vector(rho0)\n",
    "P0_ = operator_to_vector(P0)\n",
    "P1_ = operator_to_vector(P1)\n",
    "H0_ = (spre(H0)-spost(H0))\n",
    "V_ = (spre(V)-spost(V))"
   ]
  },
  {
   "cell_type": "markdown",
   "metadata": {},
   "source": [
    "Although qutip has a function that explicitly constructs the Liouvillian, we will explicitly build it here in order to compare it. The Liouvillian defined as:\n",
    "\\begin{equation}\n",
    "\\mathcal{L}(\\rho) = -i[H_0,\\rho] + A\\rho A^\\dagger - \\frac{1}{2}\\lbrace A^\\dagger A, \\rho\\rbrace\n",
    "\\end{equation}\n",
    "corresponds, in Liouville space representation, to:\n",
    "\\begin{equation}\n",
    "L = -i I \\otimes H_0 + i H_0 \\otimes I + (A^\\dagger)^T \\otimes A\n",
    "-\\frac{1}{2} I \\otimes A^\\dagger A - \\frac{1}{2} (A^\\dagger A)^T \\otimes I\n",
    "\\end{equation}"
   ]
  },
  {
   "cell_type": "code",
   "execution_count": null,
   "metadata": {},
   "outputs": [],
   "source": [
    "Liouvillian = - 1j * tensor(qeye(dim), H0) + 1j * tensor(H0.trans(), qeye(dim)) \\\n",
    "              + tensor( (A.dag()).trans(), A) \\\n",
    "              - 0.5 * tensor( qeye(dim), A.dag()*A ) - 0.5 * tensor( (A.dag()*A).trans(), qeye(dim) )"
   ]
  },
  {
   "cell_type": "markdown",
   "metadata": {},
   "source": [
    "The Liouvillian that propagates the costate is different (and in fact, we cannot build it with the `liouville` function of qutip:\n",
    "\\begin{equation}\n",
    "L_{\\rm costate} = -i L^\\dagger = -i I \\otimes H_0 + i H_0 \\otimes I - A^T \\otimes A^\\dagger\n",
    "+ \\frac{1}{2} I \\otimes A^\\dagger A + \\frac{1}{2} (A^\\dagger A)^T \\otimes I\n",
    "\\end{equation}\n",
    "It corresponds to:\n",
    "\\begin{equation}\n",
    "\\mathcal{L}_{\\rm costate}(\\rho) = -i[H_0,\\rho] - A^\\dagger\\rho A + \\frac{1}{2}\\lbrace A^\\dagger A, \\rho\\rbrace\n",
    "\\end{equation}"
   ]
  },
  {
   "cell_type": "code",
   "execution_count": null,
   "metadata": {},
   "outputs": [],
   "source": [
    "Liouvillian_costate = - 1j * tensor(qeye(dim), H0) + 1j * tensor(H0.trans(), qeye(dim)) \\\n",
    "                      - tensor( A.trans(), A.dag()) \\\n",
    "                      + 0.5 * tensor( qeye(dim), A.dag()*A ) + 0.5 * tensor( (A.dag()*A).trans(), qeye(dim) )"
   ]
  },
  {
   "cell_type": "markdown",
   "metadata": {},
   "source": [
    "The costate Liouvillian should be equal to minus the adjoint of the state Liouvillian. We compare that now that this is indeed the case."
   ]
  },
  {
   "cell_type": "code",
   "execution_count": null,
   "metadata": {},
   "outputs": [],
   "source": [
    "Liouvillian_costate2 = - Liouvillian.dag()\n",
    "print(np.linalg.norm(Liouvillian_costate.full()-Liouvillian_costate2.full()))"
   ]
  },
  {
   "cell_type": "markdown",
   "metadata": {},
   "source": [
    "Now we build the Liouvillian using the `liouvillian` qutip function. we compare it to the one that we used before."
   ]
  },
  {
   "cell_type": "code",
   "execution_count": null,
   "metadata": {},
   "outputs": [],
   "source": [
    "Liouvillian_superop = liouvillian(H0, [A])\n",
    "print(np.linalg.norm(Liouvillian.full()-Liouvillian_superop.full()))"
   ]
  },
  {
   "cell_type": "markdown",
   "metadata": {},
   "source": [
    "We may assign a Hamiltonian to the superator Liouvillian, in the sense that $L = -i H_0$."
   ]
  },
  {
   "cell_type": "code",
   "execution_count": null,
   "metadata": {},
   "outputs": [],
   "source": [
    "H0_ = 1j*Liouvillian_superop"
   ]
  },
  {
   "cell_type": "code",
   "execution_count": null,
   "metadata": {},
   "outputs": [],
   "source": [
    "rho0__ = Qobj(rho0_.full())\n",
    "P0__ = Qobj(P0_.full())\n",
    "P1__ = Qobj(P1_.full())\n",
    "H0__ = Qobj(H0_.full())\n",
    "V__ = Qobj(V_.full())\n",
    "rho0__ = Qobj(rho0_.full())"
   ]
  },
  {
   "cell_type": "code",
   "execution_count": null,
   "metadata": {},
   "outputs": [],
   "source": [
    "result = solvers.solve('cfmagnus4', hamiltonians.hamiltonian(H0__, V__), f, rho0__, time,\n",
    "                       returnQoutput = False,\n",
    "                       interaction_picture = False)"
   ]
  },
  {
   "cell_type": "code",
   "execution_count": null,
   "metadata": {},
   "outputs": [],
   "source": [
    "p1vd = np.zeros(time.shape[0])\n",
    "for j in range(time.shape[0]):\n",
    "    p1vd[j] = P1__.overlap(Qobj(result[j])).real"
   ]
  },
  {
   "cell_type": "code",
   "execution_count": null,
   "metadata": {},
   "outputs": [],
   "source": [
    "data.append(P1__.overlap(Qobj(result[-1])).real)"
   ]
  },
  {
   "cell_type": "code",
   "execution_count": null,
   "metadata": {},
   "outputs": [],
   "source": [
    "fig, ax = plt.subplots()\n",
    "\n",
    "ax.plot(time, p1, label = 'without dissipation')\n",
    "ax.plot(time, p1d_good, marker = '.', linewidth = 0, label = 'with dissipation, sesolve')\n",
    "ax.plot(time, p1d, label = 'with dissipation, cfmagnus')\n",
    "ax.plot(time, p1vd, label = 'with dissipation, vectorized representation', linewidth = 0.2)\n",
    "ax.legend()\n",
    "\n",
    "if isnotebook:\n",
    "    plt.show()"
   ]
  },
  {
   "cell_type": "markdown",
   "metadata": {},
   "source": [
    "# Gradient calculation for state-to-state transitions (vectorized representation)"
   ]
  },
  {
   "cell_type": "markdown",
   "metadata": {},
   "source": [
    "Now we will check that the computation of the QOCT gradient is correct. First, we will use the Liouville space representation."
   ]
  },
  {
   "cell_type": "markdown",
   "metadata": {},
   "source": [
    "We will choose, as a target function:\n",
    "\\begin{equation}\n",
    "F(\\rho, u) = Tr[P_1 \\rho] = \\langle\\langle P_1 \\vert \\rho\\rangle\\rangle\n",
    "\\end{equation}\n",
    "where we use the $\\langle\\langle\\cdot\\vert\\cdot\\rangle\\rangle$ notation for the inner product in Liouville space. Note that this functional is real due to the Hermitian character of the operators $\\rho$ and $P_1$. However, in order to take functional derivatives, one must be careful, and consider that in fact we are using:\n",
    "\\begin{equation}\n",
    "F(\\rho, u) = \\frac{1}{2}(Tr[P_1^\\dagger \\rho] + Tr[\\rho^\\dagger P_1]) = \n",
    "\\frac{1}{2}(\\langle\\langle P_1 \\vert \\rho\\rangle\\rangle + \\langle\\langle \\rho\\vert P_1\\rangle\\rangle\\,.\n",
    "\\end{equation}"
   ]
  },
  {
   "cell_type": "code",
   "execution_count": null,
   "metadata": {},
   "outputs": [],
   "source": [
    "def Fpsi(rho, u):\n",
    "    return (P1__.dag() * rho).real\n",
    "\n",
    "def dFdpsi(rho, u):\n",
    "    return 0.5 * P1__\n",
    "\n",
    "def dFdu(u, m):\n",
    "    return 0.0"
   ]
  },
  {
   "cell_type": "code",
   "execution_count": null,
   "metadata": {},
   "outputs": [],
   "source": [
    "H__ = hamiltonians.hamiltonian(H0__, [V__])"
   ]
  },
  {
   "cell_type": "code",
   "execution_count": null,
   "metadata": {},
   "outputs": [],
   "source": [
    "tg = target.Target('generic', Fyu = Fpsi, dFdy = dFdpsi)"
   ]
  },
  {
   "cell_type": "code",
   "execution_count": null,
   "metadata": {},
   "outputs": [],
   "source": [
    "opt = qoct.Qoct(H__, T, time.shape[0], tg, f, rho0__,\n",
    "                interaction_picture = False,\n",
    "                solve_method = 'cfmagnus4')"
   ]
  },
  {
   "cell_type": "markdown",
   "metadata": {},
   "source": [
    "First, let us check that the number matches the one that has previously calculated:"
   ]
  },
  {
   "cell_type": "code",
   "execution_count": null,
   "metadata": {},
   "outputs": [],
   "source": [
    "print(opt.gfunc(u))"
   ]
  },
  {
   "cell_type": "code",
   "execution_count": null,
   "metadata": {},
   "outputs": [],
   "source": [
    "derqoct, dernum, error, elapsed_time = opt.check_grad(u, 3)\n",
    "print(\"QOCT calculation: \\t{}\".format(derqoct))\n",
    "print(\"Ridders calculation: \\t{} +- {}\".format(dernum, error))"
   ]
  },
  {
   "cell_type": "code",
   "execution_count": null,
   "metadata": {},
   "outputs": [],
   "source": [
    "data.append(derqoct)"
   ]
  },
  {
   "cell_type": "markdown",
   "metadata": {},
   "source": [
    "# Gradient calculation for state-to-state transitions (\"normal\" representation)"
   ]
  },
  {
   "cell_type": "markdown",
   "metadata": {},
   "source": [
    "Now the same, except that we use the \"normal\" representation for the density matrices."
   ]
  },
  {
   "cell_type": "code",
   "execution_count": null,
   "metadata": {},
   "outputs": [],
   "source": [
    "def Fpsi(rho, u):\n",
    "    return expect(P1, rho)\n",
    "\n",
    "def dFdpsi(rho, u):\n",
    "    return 0.5 * P1"
   ]
  },
  {
   "cell_type": "code",
   "execution_count": null,
   "metadata": {},
   "outputs": [],
   "source": [
    "H = hamiltonians.hamiltonian(H0, [V], [A])"
   ]
  },
  {
   "cell_type": "code",
   "execution_count": null,
   "metadata": {},
   "outputs": [],
   "source": [
    "tg = target.Target('expectationvalue', operator = P1)"
   ]
  },
  {
   "cell_type": "code",
   "execution_count": null,
   "metadata": {},
   "outputs": [],
   "source": [
    "opt = qoct.Qoct(H, T, time.shape[0], tg, f, rho0,\n",
    "                interaction_picture = False,\n",
    "                solve_method = 'cfmagnus4')"
   ]
  },
  {
   "cell_type": "code",
   "execution_count": null,
   "metadata": {},
   "outputs": [],
   "source": [
    "print(opt.gfunc(u))"
   ]
  },
  {
   "cell_type": "code",
   "execution_count": null,
   "metadata": {},
   "outputs": [],
   "source": [
    "derqoct, dernum, error, elapsed_time = opt.check_grad(u, 3)\n",
    "print(\"QOCT calculation: \\t{}\".format(derqoct))\n",
    "print(\"Ridders calculation: \\t{} +- {}\".format(dernum, error))"
   ]
  },
  {
   "cell_type": "code",
   "execution_count": null,
   "metadata": {},
   "outputs": [],
   "source": [
    "data.append(derqoct)"
   ]
  },
  {
   "cell_type": "markdown",
   "metadata": {},
   "source": [
    "# Gradient calculation, multitarget case"
   ]
  },
  {
   "cell_type": "code",
   "execution_count": null,
   "metadata": {},
   "outputs": [],
   "source": [
    "# We choose a toffoli gate as our target, but it could be any.\n",
    "U_target = Qobj(toffoli().data)"
   ]
  },
  {
   "cell_type": "markdown",
   "metadata": {},
   "source": [
    "We will have N=8 initial states $|j\\rangle$, whose corresponding target states will be $|j'\\rangle=U|j\\rangle$."
   ]
  },
  {
   "cell_type": "code",
   "execution_count": null,
   "metadata": {},
   "outputs": [],
   "source": [
    "ket_ini = []\n",
    "ket_target = []\n",
    "rho_ini = []\n",
    "rho_target = []\n",
    "\n",
    "for i in range (0, dim):\n",
    "    ket_ini.append(basis(dim,i))\n",
    "    ket_target.append(U_target*ket_ini[i])\n",
    "\n",
    "    rho_ini.append(fock_dm(dim,i))\n",
    "    rho_target.append(U_target.dag()*rho_ini[i]*U_target)\n",
    "    \n",
    "rho=rho_ini #This will be the array of states that we will propagate."
   ]
  },
  {
   "cell_type": "code",
   "execution_count": null,
   "metadata": {},
   "outputs": [],
   "source": [
    "tg = target.Target('expectationvalue', operator = rho_target)\n",
    "\n",
    "opt = qoct.Qoct(H, T, time.shape[0], tg, f, rho_ini,\n",
    "                interaction_picture = True,\n",
    "                solve_method = 'cfmagnus4')"
   ]
  },
  {
   "cell_type": "code",
   "execution_count": null,
   "metadata": {},
   "outputs": [],
   "source": [
    "derqoct, dernum, error, elapsed_time = opt.check_grad(u)\n",
    "print(\"QOCT calculation: \\t{}\".format(derqoct))\n",
    "print(\"Ridders calculation: \\t{} +- {}\".format(dernum, error))\n",
    "data.append(derqoct)"
   ]
  },
  {
   "cell_type": "markdown",
   "metadata": {},
   "source": [
    "# Datafile"
   ]
  },
  {
   "cell_type": "code",
   "execution_count": null,
   "metadata": {},
   "outputs": [],
   "source": [
    "with open(\"data\", \"w\") as f:\n",
    "    for i in data:\n",
    "        f.write(\"{:.14e}\\n\".format(i))"
   ]
  }
 ],
 "metadata": {
  "kernelspec": {
   "display_name": "Python 3 (ipykernel)",
   "language": "python",
   "name": "python3"
  },
  "language_info": {
   "codemirror_mode": {
    "name": "ipython",
    "version": 3
   },
   "file_extension": ".py",
   "mimetype": "text/x-python",
   "name": "python",
   "nbconvert_exporter": "python",
   "pygments_lexer": "ipython3"
  }
 },
 "nbformat": 4,
 "nbformat_minor": 4
}
