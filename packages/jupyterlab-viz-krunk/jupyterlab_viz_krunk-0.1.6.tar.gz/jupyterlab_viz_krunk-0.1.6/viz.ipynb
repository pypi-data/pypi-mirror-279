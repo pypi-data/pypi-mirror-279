{
 "cells": [
  {
   "cell_type": "markdown",
   "id": "b29f35f6-d88b-4b74-b406-ddb8c4ed6fcc",
   "metadata": {},
   "source": [
    "```graphviz\n",
    "defaults {\n",
    "    node [shape=rect style=\"rounded\"]\n",
    "}\n",
    "```"
   ]
  },
  {
   "cell_type": "markdown",
   "id": "6aad7622-ee17-46f8-8f80-cbcfddb88b59",
   "metadata": {},
   "source": [
    "```graphviz\n",
    "digraph {\n",
    "    a -> b\n",
    "    b -> c\n",
    "    a -> c\n",
    "}\n",
    "defaults {\n",
    "    node [shape=rect style=\"rounded\"]\n",
    "}\n",
    "```"
   ]
  },
  {
   "cell_type": "markdown",
   "id": "2af1612e-41eb-41d6-8e55-614b41462d1e",
   "metadata": {},
   "source": [
    "<span style=\"float:right;\">\n",
    "\n",
    "```graphviz\n",
    "digraph {\n",
    "    a -> b\n",
    "    b -> c\n",
    "    a -> c\n",
    "}\n",
    "```\n",
    "\n",
    "</span>\n",
    "//node [shape=rect style=\"rounded\"]"
   ]
  },
  {
   "cell_type": "markdown",
   "id": "40571a4e-81c9-459d-b452-6a6c41ffc15b",
   "metadata": {},
   "source": [
    "```graphviz\n",
    "digraph G {\n",
    "  node [ shape = \"Mrecord\" ];\n",
    "  subgraph cluster_A {\n",
    "    style = rounded;\n",
    "    label = \"{x|y|z}\";\n",
    "    NodeA [label=\"{a|b|c}\"];\n",
    "\tNodeB [label=\"{d|e}\"];\n",
    "\tNodeA -> NodeB;\n",
    "  };\n",
    "  subgraph cluster_B {\n",
    "    style = rounded;\n",
    "    label = <<table border=\"0\" cellborder=\"1\" cellspacing=\"0\"><tr><td>xx</td><td>ww</td></tr><tr><td>yy</td></tr><tr><td>zz</td></tr></table>>;\n",
    "    NodeC [label =<<table border=\"0\" cellborder=\"1\" cellspacing=\"0\"><tr><td>aa</td><td>gg</td></tr><tr><td>bb</td></tr><tr><td>cc</td></tr></table>>];\n",
    "\tNodeD [label=<<table border=\"0\" cellborder=\"1\" cellspacing=\"0\"><tr><td>dd</td><td>hh</td></tr><tr><td>ee</td></tr></table>>];\n",
    "\tNodeC -> NodeD;\n",
    "  };\n",
    "}\n",
    "```"
   ]
  },
  {
   "cell_type": "markdown",
   "id": "357ec704-ec58-4649-b14b-714faa24a8a1",
   "metadata": {},
   "source": [
    "```graphviz\n",
    "digraph rounded_record {\n",
    "    rankdir=LR\n",
    "    A -> B\n",
    "}\n",
    "```"
   ]
  },
  {
   "cell_type": "markdown",
   "id": "d445d7c7-9f7f-46b3-a3eb-81b283cd71ce",
   "metadata": {},
   "source": [
    "```graphviz\n",
    "digraph {\n",
    "  graph [rankdir=\"LR\"]\n",
    "  node [shape=\"circle\"]\n",
    "  a [label=<<i>A</i>>, color=\"red\"]\n",
    "  b [label=<<b>B</b>>, color=\"green\"]\n",
    "  a -> b [label=\"1\"]\n",
    "  b -> c:name [label=\"2\"]\n",
    "  subgraph cluster_1 {\n",
    "    c [label=<<table><tr><td port=\"name\">C</td></tr></table>>]\n",
    "  }\n",
    "}\n",
    "```"
   ]
  },
  {
   "cell_type": "markdown",
   "id": "ba095b74-cdda-468f-acf7-a8ff7240350d",
   "metadata": {},
   "source": [
    "```graphviz\n",
    "aaaerkf\n",
    "werfmkrf\n",
    "werkrelfm\n",
    "```"
   ]
  }
 ],
 "metadata": {
  "kernelspec": {
   "display_name": "Python 3 (ipykernel)",
   "language": "python",
   "name": "python3"
  },
  "language_info": {
   "codemirror_mode": {
    "name": "ipython",
    "version": 3
   },
   "file_extension": ".py",
   "mimetype": "text/x-python",
   "name": "python",
   "nbconvert_exporter": "python",
   "pygments_lexer": "ipython3",
   "version": "3.11.5"
  }
 },
 "nbformat": 4,
 "nbformat_minor": 5
}
