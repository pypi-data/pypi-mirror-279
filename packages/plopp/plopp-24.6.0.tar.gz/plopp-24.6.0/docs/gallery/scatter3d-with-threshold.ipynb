{
 "cells": [
  {
   "cell_type": "markdown",
   "id": "61e0babe-849c-4fac-a0ea-2fd82d7db326",
   "metadata": {},
   "source": [
    "# 3-D scatter plot with threshold\n",
    "\n",
    "`scatter3d` may be used to visualize dense volumes of data.\n",
    "To make this useful, we may however need to hide data points that are zero or below a threshold.\n",
    "The following example demonstrates how this can be done using generic Scipp utilities.\n",
    "\n",
    "Consider the following 3-D volume data:"
   ]
  },
  {
   "cell_type": "code",
   "execution_count": null,
   "id": "aed532cc-b929-451c-9d25-21cceb6c04f9",
   "metadata": {},
   "outputs": [],
   "source": [
    "import scipp as sc\n",
    "import plopp as pp\n",
    "\n",
    "x = sc.linspace('x', 0.0, 10.0, num=40, unit='rad')\n",
    "y = sc.linspace('y', 0.0, 10.0, num=40, unit='rad')\n",
    "z = sc.linspace('z', 0.0, 10.0, num=40, unit='rad')\n",
    "\n",
    "da = sc.DataArray(sc.sin(x) * sc.sin(y) * sc.sin(z), coords={'x': x, 'y': y, 'z': z})\n",
    "da"
   ]
  },
  {
   "cell_type": "markdown",
   "id": "7dfb69b0-3049-4b49-bc44-d335bb6f4008",
   "metadata": {},
   "source": [
    "We can plot a slice in 2-D:"
   ]
  },
  {
   "cell_type": "code",
   "execution_count": null,
   "id": "d25cfda4-d13e-4dee-8a60-72b4ccc6bdec",
   "metadata": {},
   "outputs": [],
   "source": [
    "pp.plot(da['x', 2])"
   ]
  },
  {
   "cell_type": "markdown",
   "id": "57e5dd0d-565d-4ac8-83e5-c35a3a5d9391",
   "metadata": {},
   "source": [
    "A 3-D scatter plot is not directly useful in this case:"
   ]
  },
  {
   "cell_type": "code",
   "execution_count": null,
   "id": "f6336163-2857-48b2-bdaf-cdf2d9d50344",
   "metadata": {},
   "outputs": [],
   "source": [
    "pp.scatter3d(da, x='x', y='y', z='z', figsize=(500, 500), pixel_size=0.15)"
   ]
  },
  {
   "cell_type": "markdown",
   "id": "61e6f82b-e9c2-4628-a4a9-d99725456473",
   "metadata": {},
   "source": [
    "We can use [scipp.flatten](https://scipp.github.io/generated/classes/scipp.DataArray.html?highlight=flatten) and [Boolean-variable indexing](https://scipp.github.io/user-guide/slicing.html#Boolean-variable-indexing) to apply a threshold, removing points with a value less than (in this case) `0.4`:"
   ]
  },
  {
   "cell_type": "code",
   "execution_count": null,
   "id": "70f671eb-202c-4403-bb96-cd6b2ba797c0",
   "metadata": {},
   "outputs": [],
   "source": [
    "tmp = da.flatten(to='voxel')  # 3D -> 1D\n",
    "tmp = tmp[tmp.data > sc.scalar(0.4)]  # apply threshold\n",
    "\n",
    "pp.scatter3d(tmp, x='x', y='y', z='z', figsize=(500, 500), pixel_size=0.15)"
   ]
  }
 ],
 "metadata": {
  "kernelspec": {
   "display_name": "Python 3 (ipykernel)",
   "language": "python",
   "name": "python3"
  },
  "language_info": {
   "codemirror_mode": {
    "name": "ipython",
    "version": 3
   },
   "file_extension": ".py",
   "mimetype": "text/x-python",
   "name": "python",
   "nbconvert_exporter": "python",
   "pygments_lexer": "ipython3"
  }
 },
 "nbformat": 4,
 "nbformat_minor": 5
}
