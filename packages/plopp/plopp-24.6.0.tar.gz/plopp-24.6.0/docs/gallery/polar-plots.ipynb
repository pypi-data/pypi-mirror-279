{
 "cells": [
  {
   "cell_type": "markdown",
   "id": "9a0273aa-b4a4-4843-bf19-ad65b6548b50",
   "metadata": {
    "editable": true,
    "slideshow": {
     "slide_type": ""
    },
    "tags": []
   },
   "source": [
    "# Polar plots\n",
    "\n",
    "We leverage the [polar axes](https://matplotlib.org/stable/gallery/pie_and_polar_charts/polar_demo.html) functionality in Matplotlib to construct polar plots.\n",
    "\n",
    "## A simple polar plot"
   ]
  },
  {
   "cell_type": "code",
   "execution_count": null,
   "id": "c331ba58-a130-45d3-beb9-0516af312523",
   "metadata": {
    "editable": true,
    "slideshow": {
     "slide_type": ""
    },
    "tags": []
   },
   "outputs": [],
   "source": [
    "import numpy as np\n",
    "import scipp as sc\n",
    "import plopp as pp\n",
    "import matplotlib.pyplot as plt\n",
    "\n",
    "# Make some spiral data\n",
    "N = 150\n",
    "r = sc.linspace('theta', 0, 10, N, unit='m')\n",
    "theta = sc.linspace('theta', 0, 12, N, unit='rad')\n",
    "da = sc.DataArray(data=r, coords={'theta': theta})\n",
    "\n",
    "# Construct figure axes with Matplotlib\n",
    "fig = plt.Figure(figsize=(5, 5))\n",
    "ax = fig.add_subplot(projection='polar')\n",
    "\n",
    "# Make the plot and tweak the axes\n",
    "p = pp.plot(da, ax=ax)\n",
    "ax.set_xlim(0, 2 * np.pi)\n",
    "ax.grid(True)\n",
    "p"
   ]
  },
  {
   "cell_type": "markdown",
   "id": "3178873e-a71a-4b66-8eb7-da88113d1f95",
   "metadata": {},
   "source": [
    "## Plotting a sector\n",
    "\n",
    "Plotting data whose angular coordinate does not wrap around $2\\pi$ is also possible."
   ]
  },
  {
   "cell_type": "code",
   "execution_count": null,
   "id": "14fd7254-3a35-4a43-8261-33dd148eec31",
   "metadata": {},
   "outputs": [],
   "source": [
    "# Make data\n",
    "N = 50\n",
    "r = np.random.normal(loc=50, scale=5, size=N)\n",
    "theta = np.radians(np.linspace(180, 200, N))\n",
    "da = sc.DataArray(\n",
    "    data=sc.array(dims=['theta'], values=r, unit='m'),\n",
    "    coords={'theta': sc.array(dims=['theta'], values=theta, unit='rad')},\n",
    ")\n",
    "\n",
    "# Make axes and plot\n",
    "fig = plt.Figure(figsize=(5, 5))\n",
    "ax = fig.add_subplot(projection='polar')\n",
    "ax.set_rorigin(0)\n",
    "ax.grid(True)\n",
    "pp.plot(da, ax=ax)"
   ]
  },
  {
   "cell_type": "markdown",
   "id": "eb73dfd5-84e0-42e8-ba49-fd83c10688d7",
   "metadata": {},
   "source": [
    "## Polar image plots\n",
    "\n",
    "It is also possible to plot 2d data on polar axes:"
   ]
  },
  {
   "cell_type": "code",
   "execution_count": null,
   "id": "61008a8f-7717-4a9c-ad0c-0d9136db6535",
   "metadata": {},
   "outputs": [],
   "source": [
    "da = pp.data.data2d(binedges=True, unit='K')\n",
    "da.coords['x'] = sc.linspace('x', 0, 2 * np.pi, da.sizes['x'] + 1, unit='rad')\n",
    "\n",
    "fig = plt.Figure()\n",
    "ax = fig.add_subplot(projection='polar')\n",
    "pp.plot(da, ax=ax)"
   ]
  },
  {
   "cell_type": "markdown",
   "id": "1375ade0-5f28-4139-b51f-acc2d4eb2fa2",
   "metadata": {},
   "source": [
    "## Interactive polar plot\n",
    "\n",
    "It is also possible to use Plopp's interactive visualizations with supplied axes:"
   ]
  },
  {
   "cell_type": "code",
   "execution_count": null,
   "id": "21617e92-efb2-40fe-ae70-2ad73a22bb62",
   "metadata": {},
   "outputs": [],
   "source": [
    "%matplotlib widget\n",
    "plt.ioff()  # Prevent the figure from showing up twice"
   ]
  },
  {
   "cell_type": "code",
   "execution_count": null,
   "id": "40500023-9125-4350-aba2-a9b7c7465ce4",
   "metadata": {},
   "outputs": [],
   "source": [
    "# Make data\n",
    "N = 50\n",
    "r = np.random.normal(loc=50, scale=5, size=(N, N))\n",
    "theta = np.radians(np.linspace(180, 200, N))\n",
    "phi = np.radians(np.linspace(0, 90, N))\n",
    "da = sc.DataArray(\n",
    "    data=sc.array(dims=['phi', 'theta'], values=r, unit='m'),\n",
    "    coords={\n",
    "        'theta': sc.array(dims=['theta'], values=theta, unit='rad'),\n",
    "        'phi': sc.array(dims=['phi'], values=phi, unit='rad'),\n",
    "    },\n",
    ")\n",
    "\n",
    "# Make axes\n",
    "fig = plt.figure(figsize=(5, 5))\n",
    "ax = fig.add_subplot(projection='polar')\n",
    "ax.set_rorigin(0)\n",
    "ax.grid(True)\n",
    "\n",
    "# Use slicer plot\n",
    "pp.slicer(da, ax=ax, autoscale='grow')"
   ]
  },
  {
   "cell_type": "code",
   "execution_count": null,
   "id": "8c0868cc-3406-4794-a70e-6daf97d759bf",
   "metadata": {
    "editable": true,
    "nbsphinx": "hidden",
    "slideshow": {
     "slide_type": ""
    },
    "tags": []
   },
   "outputs": [],
   "source": [
    "# This cell is used to generate the thumbnail for the docs gallery.\n",
    "# It is hidden from the online documentation.\n",
    "p.save('../_static/gallery/polar-plots-thumbnail.png')"
   ]
  }
 ],
 "metadata": {
  "kernelspec": {
   "display_name": "Python 3 (ipykernel)",
   "language": "python",
   "name": "python3"
  },
  "language_info": {
   "codemirror_mode": {
    "name": "ipython",
    "version": 3
   },
   "file_extension": ".py",
   "mimetype": "text/x-python",
   "name": "python",
   "nbconvert_exporter": "python",
   "pygments_lexer": "ipython3"
  }
 },
 "nbformat": 4,
 "nbformat_minor": 5
}
