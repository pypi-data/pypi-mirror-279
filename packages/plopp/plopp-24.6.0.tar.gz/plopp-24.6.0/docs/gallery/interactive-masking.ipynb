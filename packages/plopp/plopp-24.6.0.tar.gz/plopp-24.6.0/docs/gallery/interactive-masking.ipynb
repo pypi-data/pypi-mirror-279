{
 "cells": [
  {
   "cell_type": "markdown",
   "id": "da024b16-3a9d-4761-983b-ecb94ef192ad",
   "metadata": {},
   "source": [
    "# Interactive masking\n",
    "\n",
    "In this example, we will use a custom drawing tool to draw rectangles on a 2D figure.\n",
    "The data inside the rectangles will be masked."
   ]
  },
  {
   "cell_type": "code",
   "execution_count": null,
   "id": "58d40a92-d9a9-47e9-9c2e-151d734c48df",
   "metadata": {
    "editable": true,
    "slideshow": {
     "slide_type": ""
    },
    "tags": []
   },
   "outputs": [],
   "source": [
    "%matplotlib widget\n",
    "import plopp as pp\n",
    "import scipp as sc"
   ]
  },
  {
   "cell_type": "markdown",
   "id": "d252eb07-78fc-416b-addc-7b9f273ba7a8",
   "metadata": {
    "editable": true,
    "slideshow": {
     "slide_type": ""
    },
    "tags": []
   },
   "source": [
    "We first generate some data that contains three bands of peaks that all have different spreads."
   ]
  },
  {
   "cell_type": "code",
   "execution_count": null,
   "id": "3c05fe5b-483a-438e-a7ba-a64b24a33b61",
   "metadata": {
    "editable": true,
    "slideshow": {
     "slide_type": ""
    },
    "tags": []
   },
   "outputs": [],
   "source": [
    "from plopp.data.examples import three_bands\n",
    "\n",
    "da = three_bands()"
   ]
  },
  {
   "cell_type": "markdown",
   "id": "402753eb-bb08-4e6c-9299-a021231010eb",
   "metadata": {
    "editable": true,
    "slideshow": {
     "slide_type": ""
    },
    "tags": []
   },
   "source": [
    "We then construct our custom tool,\n",
    "using Mpltoolbox's [Rectangles tool](https://mpltoolbox.readthedocs.io/en/latest/rectangles.html),\n",
    "and inheriting from Plopp's\n",
    "[DrawingTool](https://scipp.github.io/plopp/about/generated/plopp.widgets.drawing.DrawingTool.html)."
   ]
  },
  {
   "cell_type": "code",
   "execution_count": null,
   "id": "5b3d6a70-8497-4a55-b3f4-0ad29d2b1f8c",
   "metadata": {
    "editable": true,
    "slideshow": {
     "slide_type": ""
    },
    "tags": []
   },
   "outputs": [],
   "source": [
    "from plopp.widgets.drawing import DrawingTool\n",
    "from functools import partial\n",
    "from mpltoolbox import Rectangles\n",
    "\n",
    "\n",
    "def define_mask(da, rect_info):\n",
    "    \"\"\"\n",
    "    Function that creates a mask inside the area\n",
    "    covered by the rectangle.\n",
    "    \"\"\"\n",
    "    x = rect_info['x']\n",
    "    y = rect_info['y']\n",
    "    b = min(y['bottom'], y['top'])\n",
    "    t = max(y['bottom'], y['top'])\n",
    "    l = min(x['left'], x['right'])\n",
    "    r = max(x['left'], x['right'])\n",
    "\n",
    "    xcoord = sc.midpoints(da.coords[x['dim']])\n",
    "    ycoord = sc.midpoints(da.coords[y['dim']])\n",
    "    return (xcoord >= l) & (xcoord <= r) & (ycoord >= b) & (ycoord <= t)\n",
    "\n",
    "\n",
    "def _get_rect_info(artist, figure):\n",
    "    \"\"\"\n",
    "    Convert the raw rectangle info to a dict containing the dimensions of\n",
    "    each axis, and values with units.\n",
    "    \"\"\"\n",
    "    return lambda: {\n",
    "        'x': {\n",
    "            'dim': figure.canvas.dims['x'],\n",
    "            'left': sc.scalar(artist.xy[0], unit=figure.canvas.units['x']),\n",
    "            'right': sc.scalar(\n",
    "                artist.xy[0] + artist.width, unit=figure.canvas.units['x']\n",
    "            ),\n",
    "        },\n",
    "        'y': {\n",
    "            'dim': figure.canvas.dims['y'],\n",
    "            'bottom': sc.scalar(artist.xy[1], unit=figure.canvas.units['y']),\n",
    "            'top': sc.scalar(\n",
    "                artist.xy[1] + artist.height, unit=figure.canvas.units['y']\n",
    "            ),\n",
    "        },\n",
    "    }\n",
    "\n",
    "\n",
    "RectangleTool = partial(\n",
    "    DrawingTool, tool=Rectangles, get_artist_info=_get_rect_info, icon='vector-square'\n",
    ")"
   ]
  },
  {
   "cell_type": "markdown",
   "id": "e4671098-831c-4272-8174-725d006266e5",
   "metadata": {
    "editable": true,
    "slideshow": {
     "slide_type": ""
    },
    "tags": []
   },
   "source": [
    "Finally, we create our visualization interface with the figure,\n",
    "adding our new tool to the toolbar."
   ]
  },
  {
   "cell_type": "code",
   "execution_count": null,
   "id": "4b58820e-5108-4c44-8746-240bde11b09f",
   "metadata": {
    "editable": true,
    "slideshow": {
     "slide_type": ""
    },
    "tags": []
   },
   "outputs": [],
   "source": [
    "data_node = pp.Node(da)\n",
    "\n",
    "\n",
    "def apply_masks(da, *masks):\n",
    "    out = da.copy(deep=False)\n",
    "    for i, mask in enumerate(masks):\n",
    "        out.masks[str(i)] = mask\n",
    "    return out\n",
    "\n",
    "\n",
    "masking_node = pp.Node(apply_masks, data_node)\n",
    "\n",
    "fig = pp.imagefigure(masking_node, norm='log')\n",
    "\n",
    "r = RectangleTool(\n",
    "    figure=fig, input_node=data_node, func=define_mask, destination=masking_node\n",
    ")\n",
    "fig.toolbar['roi'] = r"
   ]
  },
  {
   "cell_type": "code",
   "execution_count": null,
   "id": "c3c1343d-845b-4a1f-9f28-978837169aa1",
   "metadata": {
    "editable": true,
    "nbsphinx": "hidden",
    "slideshow": {
     "slide_type": ""
    },
    "tags": []
   },
   "outputs": [],
   "source": [
    "from ipywidgets import HBox\n",
    "\n",
    "r.value = True\n",
    "\n",
    "r._tool.click(50, 200)\n",
    "r._tool.click(200, 250)\n",
    "r._tool.click(30, 50)\n",
    "r._tool.click(250, 170)\n",
    "\n",
    "fig.children = [\n",
    "    fig.top_bar,\n",
    "    HBox([fig.left_bar, fig.canvas.to_image(), fig.right_bar]),\n",
    "    fig.bottom_bar,\n",
    "]"
   ]
  },
  {
   "cell_type": "code",
   "execution_count": null,
   "id": "84335607-9ff0-4291-84ec-d062965958e4",
   "metadata": {
    "editable": true,
    "slideshow": {
     "slide_type": ""
    },
    "tags": []
   },
   "outputs": [],
   "source": [
    "fig"
   ]
  },
  {
   "cell_type": "code",
   "execution_count": null,
   "id": "6dd7b431-2c33-4d66-8360-45b7a137f05f",
   "metadata": {
    "editable": true,
    "slideshow": {
     "slide_type": ""
    },
    "tags": []
   },
   "outputs": [],
   "source": [
    "pp.show_graph(fig)"
   ]
  },
  {
   "cell_type": "markdown",
   "id": "651d7f28-1147-49de-861e-feb825c87d08",
   "metadata": {
    "editable": true,
    "slideshow": {
     "slide_type": ""
    },
    "tags": []
   },
   "source": [
    "To retrieve the masked data array,\n",
    "simply call the node that is applying the masks:"
   ]
  },
  {
   "cell_type": "code",
   "execution_count": null,
   "id": "ac24d509-142d-45d9-89eb-f3481ab08dc2",
   "metadata": {
    "editable": true,
    "slideshow": {
     "slide_type": ""
    },
    "tags": []
   },
   "outputs": [],
   "source": [
    "masking_node()"
   ]
  },
  {
   "cell_type": "code",
   "execution_count": null,
   "id": "ad0bf947-2429-403f-b255-8b838842ab83",
   "metadata": {
    "editable": true,
    "nbsphinx": "hidden",
    "slideshow": {
     "slide_type": ""
    },
    "tags": []
   },
   "outputs": [],
   "source": [
    "# This cell is used to generate the thumbnail for the docs gallery.\n",
    "# It is hidden from the online documentation.\n",
    "fig.save('../_static/gallery/interactive-masking-thumbnail.png')"
   ]
  }
 ],
 "metadata": {
  "kernelspec": {
   "display_name": "Python 3 (ipykernel)",
   "language": "python",
   "name": "python3"
  },
  "language_info": {
   "codemirror_mode": {
    "name": "ipython",
    "version": 3
   },
   "file_extension": ".py",
   "mimetype": "text/x-python",
   "name": "python",
   "nbconvert_exporter": "python",
   "pygments_lexer": "ipython3",
   "version": "3.10.14"
  }
 },
 "nbformat": 4,
 "nbformat_minor": 5
}
