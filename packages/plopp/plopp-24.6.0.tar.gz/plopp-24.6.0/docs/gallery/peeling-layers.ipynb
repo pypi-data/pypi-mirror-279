{
 "cells": [
  {
   "cell_type": "markdown",
   "id": "e769d76c-baa5-4168-aa8c-2a08c8a21442",
   "metadata": {
    "editable": true,
    "slideshow": {
     "slide_type": ""
    },
    "tags": []
   },
   "source": [
    "# Peeling off the layers\n",
    "\n",
    "This example uses thresholds to select two different ranges of values in the data,\n",
    "and display them on the same scatter plot using a lower opacity for the outer layer,\n",
    "revealing the inside of the clusters."
   ]
  },
  {
   "cell_type": "code",
   "execution_count": null,
   "id": "a1dab369-6b1d-43c5-86ab-3805136378fc",
   "metadata": {
    "editable": true,
    "slideshow": {
     "slide_type": ""
    },
    "tags": []
   },
   "outputs": [],
   "source": [
    "import plopp as pp\n",
    "import scipp as sc"
   ]
  },
  {
   "cell_type": "markdown",
   "id": "78466f8a-ad5a-49d0-84f2-4c997ed7b4ff",
   "metadata": {
    "editable": true,
    "slideshow": {
     "slide_type": ""
    },
    "tags": []
   },
   "source": [
    "We first generate some fake data, meant to represent clusters of points in a three-dimensional space.\n",
    "\n",
    "The data values scale with $1/r^{2}$ where $r$ is the distance to the center of each cluster."
   ]
  },
  {
   "cell_type": "code",
   "execution_count": null,
   "id": "150b3e02-592c-4f13-95cc-354458dd6deb",
   "metadata": {
    "editable": true,
    "slideshow": {
     "slide_type": ""
    },
    "tags": []
   },
   "outputs": [],
   "source": [
    "from plopp.data.examples import clusters3d\n",
    "\n",
    "da = clusters3d()"
   ]
  },
  {
   "cell_type": "markdown",
   "id": "d054e1a6-e503-43e8-9a9b-2ec73c5ef6e5",
   "metadata": {
    "editable": true,
    "slideshow": {
     "slide_type": ""
    },
    "tags": []
   },
   "source": [
    "We select two data ranges (high values and low values),\n",
    "and display both at the same time,\n",
    "lowering the opacity of the low-value data range."
   ]
  },
  {
   "cell_type": "code",
   "execution_count": null,
   "id": "7103a291-caeb-4a6c-9676-7c61e8516e3d",
   "metadata": {
    "editable": true,
    "slideshow": {
     "slide_type": ""
    },
    "tags": []
   },
   "outputs": [],
   "source": [
    "# Select ranges\n",
    "a = da[da.data > sc.scalar(0.05)]\n",
    "b = da[(da.data > sc.scalar(0.002)) & (da.data < sc.scalar(0.005))]\n",
    "\n",
    "# Display both on the same scatter plot\n",
    "p = pp.scatter3d({'a': a, 'b': b}, pos='position', norm='log')\n",
    "\n",
    "# Extract the point clouds from the final plot and set a lower opacity on the second point cloud\n",
    "clouds = list(p.artists.values())\n",
    "clouds[1].opacity = 0.1\n",
    "\n",
    "p"
   ]
  }
 ],
 "metadata": {
  "kernelspec": {
   "display_name": "Python 3 (ipykernel)",
   "language": "python",
   "name": "python3"
  },
  "language_info": {
   "codemirror_mode": {
    "name": "ipython",
    "version": 3
   },
   "file_extension": ".py",
   "mimetype": "text/x-python",
   "name": "python",
   "nbconvert_exporter": "python",
   "pygments_lexer": "ipython3",
   "version": "3.10.14"
  }
 },
 "nbformat": 4,
 "nbformat_minor": 5
}
