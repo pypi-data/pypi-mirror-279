{
 "cells": [
  {
   "cell_type": "markdown",
   "id": "caf77bfe-e615-477b-8b25-5b9672dd516f",
   "metadata": {},
   "source": [
    "# Scatter plot"
   ]
  },
  {
   "cell_type": "code",
   "execution_count": null,
   "id": "0fe8ee1f-5871-4be6-900b-c2b394ff8981",
   "metadata": {},
   "outputs": [],
   "source": [
    "import plopp as pp\n",
    "import scipp as sc"
   ]
  },
  {
   "cell_type": "markdown",
   "id": "1a571d5e-117d-45a6-ac99-8b20da962243",
   "metadata": {},
   "source": [
    "## Simple scatter plot"
   ]
  },
  {
   "cell_type": "code",
   "execution_count": null,
   "id": "642ff378-02a1-49b9-8fa5-63274b749090",
   "metadata": {},
   "outputs": [],
   "source": [
    "a = pp.data.scatter()\n",
    "pp.scatter(a)"
   ]
  },
  {
   "cell_type": "markdown",
   "id": "934fbd6e-03ff-49c5-b3a9-5f0eb1fa624d",
   "metadata": {},
   "source": [
    "Changing the style of the points can be done via"
   ]
  },
  {
   "cell_type": "code",
   "execution_count": null,
   "id": "7aa3581b-38d1-49b3-a371-03db28bc49dd",
   "metadata": {},
   "outputs": [],
   "source": [
    "pp.scatter(a, color='r', marker='P')"
   ]
  },
  {
   "cell_type": "markdown",
   "id": "b9b9835d-1fbb-4c1d-a59c-8fcd23157680",
   "metadata": {},
   "source": [
    "## Selecting which coordinates to use\n",
    "\n",
    "By default, the `scatter` plot will search for and use the `'x'` coordinate in the input as abscissa values,\n",
    "and the `'y'` coordinate as ordinate values.\n",
    "\n",
    "This can however be customized by telling it which ones to use:"
   ]
  },
  {
   "cell_type": "code",
   "execution_count": null,
   "id": "9bb6c51f-df04-4b9c-8c48-b5234e31a935",
   "metadata": {},
   "outputs": [],
   "source": [
    "a.coords['4x'] = a.coords['x'] * 4\n",
    "print(a.coords.keys())\n",
    "\n",
    "pp.scatter(a, x='4x', y='z', aspect='equal')"
   ]
  },
  {
   "cell_type": "markdown",
   "id": "21301139-f4fa-4f2b-b2f7-86d3cb713b93",
   "metadata": {},
   "source": [
    "## Scatter plot with multiple inputs"
   ]
  },
  {
   "cell_type": "code",
   "execution_count": null,
   "id": "6097b18c-f83e-41dd-9b77-1099bb6cfdc0",
   "metadata": {},
   "outputs": [],
   "source": [
    "a = pp.data.scatter()\n",
    "b = pp.data.scatter(seed=2) * 10.0\n",
    "b.coords['x'] += sc.scalar(50.0, unit='m')\n",
    "\n",
    "pp.scatter({'a': a, 'b': b})"
   ]
  },
  {
   "cell_type": "markdown",
   "id": "ef402b88-8224-4377-b3bb-2f5b17b56691",
   "metadata": {},
   "source": [
    "Changing the style can be controlled for each input:"
   ]
  },
  {
   "cell_type": "code",
   "execution_count": null,
   "id": "6ca3ace6-a4f6-4019-ab4e-bdbfd40373ce",
   "metadata": {},
   "outputs": [],
   "source": [
    "pp.scatter({'a': a, 'b': b}, color={'a': 'k', 'b': 'g'})"
   ]
  },
  {
   "cell_type": "markdown",
   "id": "f4c0c18e-4ca1-4e7a-8fa5-f87239882fd4",
   "metadata": {},
   "source": [
    "## Scatter plot with a colorbar\n",
    "\n",
    "Requesting a colorbar when calling the `scatter` function will use the values inside the data array as colors:"
   ]
  },
  {
   "cell_type": "code",
   "execution_count": null,
   "id": "34a96bce-8b9f-4368-b588-30b555781de0",
   "metadata": {},
   "outputs": [],
   "source": [
    "pp.scatter(a, cbar=True)"
   ]
  },
  {
   "cell_type": "markdown",
   "id": "73ede39c-3e7c-4cc0-8ee1-2140d8ee8da2",
   "metadata": {},
   "source": [
    "## Scatter plot with sizes"
   ]
  },
  {
   "cell_type": "code",
   "execution_count": null,
   "id": "4df23b2a-bbb0-4f77-9ae9-9f8eef7036cf",
   "metadata": {},
   "outputs": [],
   "source": [
    "a = pp.data.scatter()\n",
    "a.coords['s'] = sc.abs(a.coords['x']) * 5\n",
    "\n",
    "pp.scatter(a, size='s', cbar=True, legend=False)"
   ]
  },
  {
   "cell_type": "markdown",
   "id": "81c4f5b2-9543-4150-9348-15799a097dbd",
   "metadata": {},
   "source": [
    "## Scatter plot with masks"
   ]
  },
  {
   "cell_type": "code",
   "execution_count": null,
   "id": "3d57b9d5-8a62-42b0-9c06-e497bb2fdb81",
   "metadata": {},
   "outputs": [],
   "source": [
    "a = pp.data.scatter()\n",
    "a.masks['m'] = a.coords['x'] > sc.scalar(10, unit='m')\n",
    "pp.scatter(a)"
   ]
  }
 ],
 "metadata": {
  "kernelspec": {
   "display_name": "Python 3 (ipykernel)",
   "language": "python",
   "name": "python3"
  },
  "language_info": {
   "codemirror_mode": {
    "name": "ipython",
    "version": 3
   },
   "file_extension": ".py",
   "mimetype": "text/x-python",
   "name": "python",
   "nbconvert_exporter": "python",
   "pygments_lexer": "ipython3"
  }
 },
 "nbformat": 4,
 "nbformat_minor": 5
}
