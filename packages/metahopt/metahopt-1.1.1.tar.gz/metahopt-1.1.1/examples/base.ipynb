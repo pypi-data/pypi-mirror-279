{
 "cells": [
  {
   "cell_type": "code",
   "execution_count": 1,
   "metadata": {},
   "outputs": [],
   "source": [
    "%load_ext autoreload\n",
    "%autoreload 2"
   ]
  },
  {
   "cell_type": "code",
   "execution_count": 2,
   "metadata": {},
   "outputs": [],
   "source": [
    "import logging\n",
    "\n",
    "import numpy as np\n",
    "\n",
    "from metahopt.examples import square_norm\n",
    "from metahopt.numeric_search import IntCoordinateSearch\n",
    "\n",
    "\n",
    "logging.basicConfig(level=logging.INFO)"
   ]
  },
  {
   "cell_type": "code",
   "execution_count": 3,
   "metadata": {},
   "outputs": [
    {
     "data": {
      "text/plain": [
       "IntCoordinateSearch(objective=<function square_norm at 0x1058304a0>, vectorized=True, max_time=None, max_iter=None, max_calls=None, min_score=None, poll_order=<PollOrder.Consecutive: 'consecutive'>, complete_poll=True, rng_seed=None, max_stalled_iter=1, max_stalled_calls=None, bounds=array([ 0., 10.]))"
      ]
     },
     "execution_count": 3,
     "metadata": {},
     "output_type": "execute_result"
    }
   ],
   "source": [
    "solver = IntCoordinateSearch(objective=square_norm, vectorized=True, bounds=[0, 10])\n",
    "solver"
   ]
  },
  {
   "cell_type": "code",
   "execution_count": 4,
   "metadata": {},
   "outputs": [
    {
     "name": "stderr",
     "output_type": "stream",
     "text": [
      "INFO:metahopt.solver:Minimizing <function square_norm at 0x1058304a0> with IntCoordinateSearch\n",
      "INFO:metahopt.scoring:Scored 20 solutions in 49.00 us\n",
      "INFO:metahopt.scoring:Scored 19 solutions in 25.00 us\n",
      "INFO:metahopt.scoring:Scored 18 solutions in 28.00 us\n",
      "INFO:metahopt.scoring:Scored 17 solutions in 9.00 us\n",
      "INFO:metahopt.scoring:Scored 16 solutions in 16.00 us\n",
      "INFO:metahopt.scoring:Scored 15 solutions in 12.00 us\n",
      "INFO:metahopt.scoring:Scored 14 solutions in 12.00 us\n",
      "INFO:metahopt.scoring:Scored 13 solutions in 17.00 us\n",
      "INFO:metahopt.scoring:Scored 12 solutions in 10.00 us\n",
      "INFO:metahopt.scoring:Scored 11 solutions in 17.00 us\n",
      "INFO:metahopt.scoring:Scored 10 solutions in 8.00 us\n",
      "INFO:metahopt.solver:Finished solving in 12 steps and 5.90 ms (best_score=0, best_solution=[0 0 0 0 0 0 0 0 0 0])\n"
     ]
    },
    {
     "data": {
      "text/plain": [
       "LocalSearchResults(termination_reason=<TerminationReason.MaxStalledIter: 'max_stalled_iter'>, state=LocalSearchState(best_score=0, best_solution=array([0, 0, 0, 0, 0, 0, 0, 0, 0, 0]), time=0.005897000000000041, n_iter=11, n_stalled_iter=1, n_calls=12, n_stalled_calls=1, success_direction=None), stats=[ScoringResults(score=9, solution=array([0, 1, 1, 1, 1, 1, 1, 1, 1, 1]), solution_index=10, time=4.899999999974369e-05, n_eval=20, n_calls=1, stop_reason=<ScoringStopReason.ScanComplete: 0>), ScoringResults(score=8, solution=array([0, 0, 1, 1, 1, 1, 1, 1, 1, 1]), solution_index=10, time=2.4999999999941735e-05, n_eval=19, n_calls=1, stop_reason=<ScoringStopReason.ScanComplete: 0>), ScoringResults(score=7, solution=array([0, 0, 0, 1, 1, 1, 1, 1, 1, 1]), solution_index=10, time=2.799999999991698e-05, n_eval=18, n_calls=1, stop_reason=<ScoringStopReason.ScanComplete: 0>), ScoringResults(score=6, solution=array([0, 0, 0, 0, 1, 1, 1, 1, 1, 1]), solution_index=10, time=8.999999999925734e-06, n_eval=17, n_calls=1, stop_reason=<ScoringStopReason.ScanComplete: 0>), ScoringResults(score=5, solution=array([0, 0, 0, 0, 0, 1, 1, 1, 1, 1]), solution_index=10, time=1.6000000000016e-05, n_eval=16, n_calls=1, stop_reason=<ScoringStopReason.ScanComplete: 0>), ScoringResults(score=4, solution=array([0, 0, 0, 0, 0, 0, 1, 1, 1, 1]), solution_index=10, time=1.1999999999900979e-05, n_eval=15, n_calls=1, stop_reason=<ScoringStopReason.ScanComplete: 0>), ScoringResults(score=3, solution=array([0, 0, 0, 0, 0, 0, 0, 1, 1, 1]), solution_index=10, time=1.1999999999900979e-05, n_eval=14, n_calls=1, stop_reason=<ScoringStopReason.ScanComplete: 0>), ScoringResults(score=2, solution=array([0, 0, 0, 0, 0, 0, 0, 0, 1, 1]), solution_index=10, time=1.699999999971169e-05, n_eval=13, n_calls=1, stop_reason=<ScoringStopReason.ScanComplete: 0>), ScoringResults(score=1, solution=array([0, 0, 0, 0, 0, 0, 0, 0, 0, 1]), solution_index=10, time=1.0000000000065512e-05, n_eval=12, n_calls=1, stop_reason=<ScoringStopReason.ScanComplete: 0>), ScoringResults(score=0, solution=array([0, 0, 0, 0, 0, 0, 0, 0, 0, 0]), solution_index=10, time=1.700000000015578e-05, n_eval=11, n_calls=1, stop_reason=<ScoringStopReason.ScanComplete: 0>), ScoringResults(score=1, solution=array([1, 0, 0, 0, 0, 0, 0, 0, 0, 0]), solution_index=0, time=7.999999999785956e-06, n_eval=10, n_calls=1, stop_reason=<ScoringStopReason.ScanComplete: 0>)])"
      ]
     },
     "execution_count": 4,
     "metadata": {},
     "output_type": "execute_result"
    }
   ],
   "source": [
    "res = solver.solve(np.full([10], 1))\n",
    "res"
   ]
  },
  {
   "cell_type": "code",
   "execution_count": null,
   "metadata": {},
   "outputs": [],
   "source": []
  }
 ],
 "metadata": {
  "kernelspec": {
   "display_name": "metahopt",
   "language": "python",
   "name": "python3"
  },
  "language_info": {
   "codemirror_mode": {
    "name": "ipython",
    "version": 3
   },
   "file_extension": ".py",
   "mimetype": "text/x-python",
   "name": "python",
   "nbconvert_exporter": "python",
   "pygments_lexer": "ipython3",
   "version": "3.11.4"
  }
 },
 "nbformat": 4,
 "nbformat_minor": 2
}
