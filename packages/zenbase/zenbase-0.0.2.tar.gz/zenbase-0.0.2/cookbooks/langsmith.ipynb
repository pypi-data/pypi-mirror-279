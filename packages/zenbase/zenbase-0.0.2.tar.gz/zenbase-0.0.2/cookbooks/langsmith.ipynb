{
 "cells": [
  {
   "cell_type": "code",
   "id": "1377617ec4c1781f",
   "metadata": {
    "ExecuteTime": {
     "end_time": "2024-06-07T21:34:42.834100Z",
     "start_time": "2024-06-07T21:34:42.824051Z"
    }
   },
   "source": [
    "from pathlib import Path\n",
    "from dotenv import load_dotenv\n",
    "\n",
    "# import os\n",
    "#\n",
    "# os.environ[\"OPENAI_API_KEY\"] = \"...\"\n",
    "# os.environ[\"LANGCHAIN_API_KEY\"] = \"...\"\n",
    "# os.environ[\"LANGCHAIN_TRACING_V2\"] = \"true\"\n",
    "\n",
    "load_dotenv(Path(\"../.env.test\"), override=True)"
   ],
   "outputs": [
    {
     "data": {
      "text/plain": [
       "True"
      ]
     },
     "execution_count": 1,
     "metadata": {},
     "output_type": "execute_result"
    }
   ],
   "execution_count": 1
  },
  {
   "metadata": {
    "ExecuteTime": {
     "end_time": "2024-06-07T21:34:43.397025Z",
     "start_time": "2024-06-07T21:34:43.394067Z"
    }
   },
   "cell_type": "code",
   "source": [
    "import nest_asyncio\n",
    "\n",
    "nest_asyncio.apply()"
   ],
   "id": "808bae4c98be5c94",
   "outputs": [],
   "execution_count": 2
  },
  {
   "cell_type": "code",
   "id": "c49d5afd7ed94163",
   "metadata": {
    "ExecuteTime": {
     "end_time": "2024-06-07T21:34:45.597153Z",
     "start_time": "2024-06-07T21:34:45.183731Z"
    }
   },
   "source": [
    "import json\n",
    "\n",
    "from zenbase.types import LMRequest, deflm\n",
    "from langsmith import traceable\n",
    "from langsmith.schemas import Run, Example\n",
    "from langsmith.wrappers import wrap_openai\n",
    "from openai import OpenAI\n",
    "\n",
    "openai = wrap_openai(OpenAI())\n",
    "\n",
    "# Define your LLM function\n",
    "@traceable\n",
    "def openai_json_response(inputs: dict) -> dict:\n",
    "    messages = [\n",
    "        {\n",
    "            \"role\": \"system\",\n",
    "            \"content\": \"You are an expert math solver. Your answer must be just the number with no separators, and nothing else. Follow the format of the examples. Think step by step. Respond with a JSON object.\",\n",
    "        },\n",
    "        {\"role\": \"user\", \"content\": json.dumps(inputs)}\n",
    "    ]\n",
    "\n",
    "    response = openai.chat.completions.create(\n",
    "        model=\"gpt-3.5-turbo\",\n",
    "        messages=messages,\n",
    "        response_format={\"type\": \"json_object\"},\n",
    "    )\n",
    "\n",
    "    return json.loads(response.choices[0].message.content)\n",
    "\n",
    "# Define your Langsmith evaluator\n",
    "def score_answer(run: Run, example: Example):\n",
    "    output = run.outputs[\"answer\"]\n",
    "    target = example.outputs[\"answer\"]\n",
    "    return {\n",
    "        \"key\": \"correctness\",\n",
    "        \"score\": int(output == target),\n",
    "    }"
   ],
   "outputs": [],
   "execution_count": 3
  },
  {
   "cell_type": "code",
   "id": "269ce9c328f8e5e6",
   "metadata": {
    "ExecuteTime": {
     "end_time": "2024-06-07T21:34:50.592052Z",
     "start_time": "2024-06-07T21:34:46.755696Z"
    }
   },
   "source": [
    "# Evaluate using LangSmith\n",
    "from langsmith import Client, evaluate\n",
    "\n",
    "langsmith = Client()\n",
    "evalset = list(langsmith.list_examples(dataset_name=\"gsm8k-test-examples\"))\n",
    "\n",
    "evaluate_kwargs = dict(\n",
    "    data=evalset,\n",
    "    evaluators=[score_answer],\n",
    "    client=langsmith,\n",
    "    max_concurrency=2,\n",
    ")\n",
    "\n",
    "evaluate(openai_json_response, **evaluate_kwargs)"
   ],
   "outputs": [
    {
     "name": "stdout",
     "output_type": "stream",
     "text": [
      "View the evaluation results for experiment: 'yellow-rain-65' at:\n",
      "https://smith.langchain.com/o/b0308fb6-cdef-5df3-affa-b8dba287e3ed/datasets/1b7abb1a-8922-4eba-b0b6-b617241d8794/compare?selectedSessions=7acd419e-56bd-4382-8190-1671ce97f802\n",
      "\n",
      "\n"
     ]
    },
    {
     "data": {
      "text/plain": [
       "0it [00:00, ?it/s]"
      ],
      "application/vnd.jupyter.widget-view+json": {
       "version_major": 2,
       "version_minor": 0,
       "model_id": "e8919089c9854e2ea43f97a3590f3bff"
      }
     },
     "metadata": {},
     "output_type": "display_data"
    },
    {
     "name": "stdout",
     "output_type": "stream",
     "text": [
      "Mathing...Mathing...\n",
      "\n",
      "Mathing...\n",
      "Mathing...\n",
      "Mathing...\n",
      "{'answer': 540}\n",
      "{'answer': 60000}\n",
      "{'answer': 80}\n",
      "{'answer': 3}\n",
      "{'answer': '50'}\n"
     ]
    },
    {
     "data": {
      "text/plain": [
       "<ExperimentResults yellow-rain-65>"
      ]
     },
     "execution_count": 4,
     "metadata": {},
     "output_type": "execute_result"
    }
   ],
   "execution_count": 4
  },
  {
   "cell_type": "code",
   "id": "9592f3913f694364",
   "metadata": {
    "ExecuteTime": {
     "end_time": "2024-06-07T21:35:09.830906Z",
     "start_time": "2024-06-07T21:35:09.824879Z"
    }
   },
   "source": [
    "# Wrap your existing chain with @deflm and take in a `LMRequest` object\n",
    "# An LMRequest has the inputs for your chain and has a `zenbase` attribute.\n",
    "# This `zenbase` attribute includes the fields that Zenbase optimises. \n",
    "@deflm\n",
    "@traceable\n",
    "def openai_json_response(request: LMRequest) -> dict:\n",
    "    messages = [\n",
    "        {\n",
    "            \"role\": \"system\",\n",
    "            \"content\": \"You are an expert math solver. Your answer must be just the number with no separators, and nothing else. Follow the format of the examples. Think step by step. Respond with a JSON object.\",\n",
    "        },\n",
    "    ]\n",
    "\n",
    "    for demo in request.zenbase.task_demos:\n",
    "        messages += [\n",
    "            {\"role\": \"user\", \"content\": json.dumps(demo.inputs)},\n",
    "            {\"role\": \"assistant\", \"content\": json.dumps(demo.outputs)},\n",
    "        ]\n",
    "    messages.append({\"role\": \"user\", \"content\": json.dumps(request.inputs)})\n",
    "\n",
    "    response = openai.chat.completions.create(\n",
    "        model=\"gpt-3.5-turbo\",\n",
    "        messages=messages,\n",
    "        response_format={\"type\": \"json_object\"},\n",
    "    )\n",
    "\n",
    "    return json.loads(response.choices[0].message.content)"
   ],
   "outputs": [],
   "execution_count": 5
  },
  {
   "metadata": {
    "ExecuteTime": {
     "end_time": "2024-06-07T21:35:37.205056Z",
     "start_time": "2024-06-07T21:35:22.266388Z"
    }
   },
   "cell_type": "code",
   "source": [
    "from zenbase.helpers.langchain import ZenLangSmith\n",
    "from zenbase.optim.metric.labeled_few_shot import LabeledFewShot\n",
    "\n",
    "demoset = ZenLangSmith.examples_to_demos(\n",
    "    langsmith.list_examples(dataset_name=\"gsm8k-golden-demos\")\n",
    ")\n",
    "optimizer = LabeledFewShot(demoset=demoset, shots=3)\n",
    "\n",
    "best_fn, candidates = optimizer.perform(\n",
    "    # Pass deflm decorated function\n",
    "    openai_json_response,\n",
    "    # Exactly the same as what you are passing to your evaluate function\n",
    "    evaluator=ZenLangSmith.metric_evaluator(**evaluate_kwargs),\n",
    "    samples=2,\n",
    "    rounds=1,\n",
    ")"
   ],
   "id": "9c996174108b0981",
   "outputs": [
    {
     "name": "stdout",
     "output_type": "stream",
     "text": [
      "View the evaluation results for experiment: 'zenbase-mandatory-incremental-migration-37539b3e' at:\n",
      "https://smith.langchain.com/o/b0308fb6-cdef-5df3-affa-b8dba287e3ed/datasets/1b7abb1a-8922-4eba-b0b6-b617241d8794/compare?selectedSessions=330837a5-d58a-4075-9dbe-82d6f26ef36d\n",
      "\n",
      "\n"
     ]
    },
    {
     "data": {
      "text/plain": [
       "0it [00:00, ?it/s]"
      ],
      "application/vnd.jupyter.widget-view+json": {
       "version_major": 2,
       "version_minor": 0,
       "model_id": "675b1ec3b6544b03ba2e6033276a2c1e"
      }
     },
     "metadata": {},
     "output_type": "display_data"
    },
    {
     "name": "stdout",
     "output_type": "stream",
     "text": [
      "Mathing...\n",
      "Mathing...\n",
      "Mathing...\n",
      "Mathing...\n",
      "Mathing...\n",
      "{'answer': 'He runs 60 * 3 = <<60*3=180>>180 meters in total every day.\\nSo, he runs 180 * 3 = <<180*3=540>>540 meters a week.\\n#### 540'}{'answer': \"The increase in value is 150% of the original cost + repairs, which is 150% of (80,000 + 50,000) = 1.5 * 130,000 = $<<1.5*130000=195000>>195,000.\\nJosh's profit is the new value minus the total cost, which is 195,000 - 80,000 - 50,000 = $<<195000-80000-50000=65000>>65,000.\\n#### 65000\"}\n",
      "\n",
      "{'answer': \"Janet uses 3+4 = <<3+4=7>>7 eggs every day.\\nShe has 16-7 = <<16-7=9>>9 eggs remaining to sell.\\nTherefore, she makes 9 * 2 = $<<9*2=18>>18 every day at the farmers' market.\\n#### 18\"}\n",
      "{'answer': 'A robe takes 2 bolts of blue fiber and 2/2=1 bolt of white fiber.\\nIn total, it takes 2+1=<<2+1=3>>3 bolts.\\n#### 3'}\n",
      "{'answer': 'In total, Wendi gives 15 + 25 = <<15+25=40>>40 cups of feed in the first two meals.\\nEach chicken consumes 3 * 3 = <<3*3=9>>9 cups of feed per day.\\nSo, the flock of 20 chickens consumes 20 * 9 = <<20*9=180>>180 cups of feed per day.\\nTherefore, in the final meal, Wendi needs to give her chickens 180 - 40 = <<180-40=140>>140 cups of feed.\\n#### 140'}\n",
      "View the evaluation results for experiment: 'zenbase-versatile-3rdgeneration-info-mediaries-0055bef6' at:\n",
      "https://smith.langchain.com/o/b0308fb6-cdef-5df3-affa-b8dba287e3ed/datasets/1b7abb1a-8922-4eba-b0b6-b617241d8794/compare?selectedSessions=55010f79-fffd-43c6-a864-a5b1277d6b54\n",
      "\n",
      "\n"
     ]
    },
    {
     "data": {
      "text/plain": [
       "0it [00:00, ?it/s]"
      ],
      "application/vnd.jupyter.widget-view+json": {
       "version_major": 2,
       "version_minor": 0,
       "model_id": "fa7d7e080f1044c8befb0e931663d605"
      }
     },
     "metadata": {},
     "output_type": "display_data"
    },
    {
     "name": "stdout",
     "output_type": "stream",
     "text": [
      "Mathing...\n",
      "Mathing...\n",
      "Mathing...\n",
      "Mathing...\n",
      "Mathing...\n",
      "{'answer': 'The total cost of the house and repairs is 80000 + 50000 = $<<80000+50000=130000>>130000\\nThe increased value of the house is 130000 * 150% = $<<130000*150/100=195000>>195000\\nTherefore, the profit he made is 195000 - 130000 = $<<195000-130000=65000>>65000\\n#### 65000'}{'answer': 'He runs a total of 3 sprints x 60 meters = <<3*60=180>>180 meters per day.\\nSo in a week, he runs 180 meters x 3 times a week = <<180*3=540>>540 meters.\\n#### 540'}\n",
      "\n",
      "{'answer': 'It takes 2 / 2 = <<2/2=1>>1 bolt of white fiber.\\nSo, in total it takes 2 + 1 = <<2+1=3>>3 bolts.\\n#### 3'}\n",
      "{'answer': \"Janet uses 3 + 4 = <<3+4=7>>7 eggs per day.\\nThe number of eggs she sells at the market daily is 16 - 7 = <<16-7=9>>9 eggs.\\nTherefore, she makes 9 x 2 = <<9*2=18>>18 dollars every day at the farmers' market.\\n#### 18\"}\n",
      "{'answer': 'In total, Wendi gives her chickens 15 + 25 = <<15+25=40>>40 cups of feed in the morning and afternoon.\\nEach chicken receives 3 cups of feed each day, so for 20 chickens, Wendi gives out 20 * 3 = <<20*3=60>>60 cups of feed in total per day.\\nTherefore, in the final meal of the day, she needs to give 60 - 40 = <<60-40=20>>20 cups of feed.\\n#### 20'}\n"
     ]
    }
   ],
   "execution_count": 6
  },
  {
   "cell_type": "code",
   "id": "da6e5476084d83fa",
   "metadata": {
    "ExecuteTime": {
     "end_time": "2024-06-07T21:35:41.601645Z",
     "start_time": "2024-06-07T21:35:39.374294Z"
    }
   },
   "source": [
    "# Now you can use your zenbase fn\n",
    "best_fn({\"question\": \"If I have 30% of shares, and Mo has 24.5% of shares, how many of our 10M shares are unassigned?\"})"
   ],
   "outputs": [
    {
     "name": "stdout",
     "output_type": "stream",
     "text": [
      "Mathing...\n"
     ]
    },
    {
     "data": {
      "text/plain": [
       "{'answer': 'The total percentage of assigned shares is 30% + 24.5% = 54.5%.\\nThis means the percentage of unassigned shares is 100% - 54.5% = 45.5%.\\nTherefore, the number of unassigned shares is 10,000,000 * (45.5/100) = 4,550,000.\\n#### 4550000'}"
      ]
     },
     "execution_count": 7,
     "metadata": {},
     "output_type": "execute_result"
    }
   ],
   "execution_count": 7
  },
  {
   "metadata": {
    "ExecuteTime": {
     "end_time": "2024-06-07T21:35:46.575798Z",
     "start_time": "2024-06-07T21:35:46.116757Z"
    }
   },
   "cell_type": "code",
   "source": [
    "# You can also save the zenbase params for re-use\n",
    "import pickle\n",
    "\n",
    "pickled_zenbase = pickle.dumps(best_fn.zenbase)\n",
    "openai_json_response.zenbase = pickle.loads(pickled_zenbase)\n",
    "\n",
    "openai_json_response({\"question\": \"What is 2 + 2?\"}) # uses the best few-shot demos"
   ],
   "id": "622d32eb538487a4",
   "outputs": [
    {
     "name": "stdout",
     "output_type": "stream",
     "text": [
      "Mathing...\n"
     ]
    },
    {
     "data": {
      "text/plain": [
       "{'answer': '4'}"
      ]
     },
     "execution_count": 8,
     "metadata": {},
     "output_type": "execute_result"
    }
   ],
   "execution_count": 8
  }
 ],
 "metadata": {
  "kernelspec": {
   "display_name": "Python 3",
   "language": "python",
   "name": "python3"
  },
  "language_info": {
   "codemirror_mode": {
    "name": "ipython",
    "version": 3
   },
   "file_extension": ".py",
   "mimetype": "text/x-python",
   "name": "python",
   "nbconvert_exporter": "python",
   "pygments_lexer": "ipython3",
   "version": "3.12.2"
  }
 },
 "nbformat": 4,
 "nbformat_minor": 5
}
