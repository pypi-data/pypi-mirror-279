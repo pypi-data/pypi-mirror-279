{
 "cells": [
  {
   "cell_type": "code",
   "execution_count": 69,
   "id": "33d2a615-7e14-4f64-912f-f60c8e4f7dba",
   "metadata": {
    "tags": []
   },
   "outputs": [],
   "source": [
    "import pyphasefield.Engines as engines\n",
    "\n",
    "sim = engines.Diffusion(dimensions=[500, 500])\n",
    "\n",
    "#initialize non-array parameters\n",
    "sim.set_framework(\"CPU_SERIAL\") #\"CPU_SERIAL\", \"GPU_SERIAL\" (GPU_SERIAL requires numba)\n",
    "sim.set_dx(1.)\n",
    "sim.set_dt(0.1)\n",
    "sim.set_save_path(\"data/boundary_conditions_test\")\n",
    "sim.set_autosave_flag(True)\n",
    "sim.set_autosave_save_images_flag(True)\n",
    "sim.set_autosave_rate(2000)\n",
    "sim.set_boundary_conditions([[\"DIRICHLET\", \"NEUMANN\"], [\"DIRICHLET\", \"NEUMANN\"]])\n",
    "sim._boundary_conditions_type = [[\"DIRICHLET\", \"NEUMANN\"], [\"DIRICHLET\", \"NEUMANN\"]]\n",
    "\n",
    "data = {\n",
    "    \"D\":1.\n",
    "}\n",
    "sim.set_user_data(data)\n",
    "\n",
    "#initialize simulation arrays, all parameter changes should be BEFORE this point!\n",
    "sim.initialize_engine()\n",
    "\n",
    "#change array data here, for custom simulations\n",
    "\n",
    "#set the field values manually using numpy slicing, setting it to one everywhere\n",
    "sim.fields[0].data[:] = 1.\n",
    "\n",
    "#set the boundary fields!\n",
    "#X-axis Dirichlet, commented lines are default behavior\n",
    "#sim.boundary_fields[0].data[:125, 0] = 0.\n",
    "sim.boundary_fields[0].data[125:250, 0] = 2.\n",
    "#sim.boundary_fields[0].data[250:375, 0] = 0.\n",
    "sim.boundary_fields[0].data[375:, 0] = 2.\n",
    "\n",
    "#Y-axis Dirichlet\n",
    "sim.boundary_fields[0].data[0, :166] = 1.\n",
    "sim.boundary_fields[0].data[0, 333:] = 1.\n",
    "sim.boundary_fields[0].data[0, 166:333] = 4.\n",
    "\n",
    "#Neumann X-axis has no change, equivalent to the bottom line\n",
    "#sim.boundary_fields[0].data[:, -1] = 0.\n",
    "\n",
    "#Neumann Y-axis\n",
    "sim.boundary_fields[0].data[-1, :100] = 1.\n",
    "sim.boundary_fields[0].data[-1, 100:200] = -1.\n",
    "sim.boundary_fields[0].data[-1, 200:300] = 1.\n",
    "sim.boundary_fields[0].data[-1, 300:400] = -1.\n",
    "sim.boundary_fields[0].data[-1, 400:] = 1.\n",
    "\n",
    "#initial conditions\n",
    "sim.plot_simulation()\n",
    "\n",
    "#run simulation\n",
    "sim.simulate(2)\n",
    "\n",
    "#final conditions\n",
    "sim.plot_simulation()"
   ]
  },
  {
   "cell_type": "code",
   "execution_count": null,
   "id": "e568a6b4-82d3-41c0-bab6-8270323fd2a7",
   "metadata": {},
   "outputs": [],
   "source": []
  }
 ],
 "metadata": {
  "kernelspec": {
   "display_name": "Quartz Kernel",
   "language": "python",
   "name": "quartz-kernel"
  },
  "language_info": {
   "codemirror_mode": {
    "name": "ipython",
    "version": 3
   },
   "file_extension": ".py",
   "mimetype": "text/x-python",
   "name": "python",
   "nbconvert_exporter": "python",
   "pygments_lexer": "ipython3",
   "version": "3.8.16"
  }
 },
 "nbformat": 4,
 "nbformat_minor": 5
}
