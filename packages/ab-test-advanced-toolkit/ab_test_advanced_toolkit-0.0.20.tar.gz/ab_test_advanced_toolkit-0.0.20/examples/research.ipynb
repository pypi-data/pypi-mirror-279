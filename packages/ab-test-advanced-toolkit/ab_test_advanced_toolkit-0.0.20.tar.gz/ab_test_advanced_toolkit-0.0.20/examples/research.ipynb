{
 "cells": [
  {
   "cell_type": "code",
   "execution_count": null,
   "metadata": {},
   "outputs": [],
   "source": [
    "import sys\n",
    "sys.path.append(\"../\")"
   ]
  },
  {
   "cell_type": "code",
   "execution_count": null,
   "metadata": {},
   "outputs": [],
   "source": [
    "import numpy as np\n",
    "from experiment_analysis import analyze_and_plot_features"
   ]
  },
  {
   "cell_type": "code",
   "execution_count": null,
   "metadata": {},
   "outputs": [],
   "source": [
    "import numpy as np\n",
    "\n",
    "# Define fixed parameters that do not change during the analysis\n",
    "fixed_params = {\n",
    "    'countries': ['US', 'UK', 'DE', 'FR', 'CA', 'AU', 'JP', 'IN'],  # List of countries to be analyzed\n",
    "    'platforms': ['iOS', 'Android', 'Web', 'Desktop'],  # Platforms to be included in the analysis\n",
    "    'user_segments': ['Segment_1', 'Segment_2', 'Segment_3', 'Segment_4'],  # User segments to be considered\n",
    "    'ab_groups': ['a1', 'a2', 'b'],  # A/B test groups\n",
    "    \n",
    "    'noise_level': 0.5,  # Noise level is fixed for all iterations\n",
    "    'correlation_level': 0.5,  # Correlation level is fixed for all iterations\n",
    "    # 'base_increase_percentage': 0.05,  # Base increase percentage is fixed for all iterations\n",
    "}\n",
    "\n",
    "# Define parameters with ranges\n",
    "varying_params = {\n",
    "    'base_increase_percentage': np.arange(0, 0.08, 0.01),  # Range of base increase percentages to be analyzed\n",
    "}\n",
    "\n",
    "# Define parameters with ranges to be used as the X-axis\n",
    "x_params = {\n",
    "    'num_users': np.arange(1000, 20000, 2000)  # Range of user numbers to be used on the X-axis\n",
    "}\n",
    "\n",
    "# Call the function to analyze and plot for all selected features\n",
    "analyze_and_plot_features(\n",
    "    fixed_params, \n",
    "    varying_params, \n",
    "    x_params, \n",
    "    # num_iterations=5,  # Number of iterations to perform for each analysis\n",
    "    num_iterations=50,  # Original higher number of iterations, can be used for more thorough analysis\n",
    ")\n"
   ]
  },
  {
   "cell_type": "code",
   "execution_count": null,
   "metadata": {},
   "outputs": [],
   "source": [
    "import numpy as np\n",
    "\n",
    "# Define fixed parameters that do not change during the analysis\n",
    "fixed_params = {\n",
    "    'countries': ['US', 'UK', 'DE', 'FR', 'CA', 'AU', 'JP', 'IN'],  # List of countries to be analyzed\n",
    "    'platforms': ['iOS', 'Android', 'Web', 'Desktop'],  # Platforms to be included in the analysis\n",
    "    'user_segments': ['Segment_1', 'Segment_2', 'Segment_3', 'Segment_4'],  # User segments to be considered\n",
    "    'ab_groups': ['a1', 'a2', 'b'],  # A/B test groups\n",
    "    \n",
    "    'noise_level': 0.5,  # Noise level is fixed for all iterations\n",
    "    # 'correlation_level': 0.5,  # Correlation level is fixed for all iterations\n",
    "    'base_increase_percentage': 0.05,  # Base increase percentage is fixed for all iterations\n",
    "}\n",
    "\n",
    "# Define parameters with ranges\n",
    "varying_params = {\n",
    "    'correlation_level': np.arange(0, 1.1, 0.1),  # Correlation level is fixed for all iterations\n",
    "}\n",
    "\n",
    "# Define parameters with ranges to be used as the X-axis\n",
    "x_params = {\n",
    "    'num_users': np.arange(1000, 20000, 2000)  # Range of user numbers to be used on the X-axis\n",
    "}\n",
    "\n",
    "# Call the function to analyze and plot for all selected features\n",
    "analyze_and_plot_features(\n",
    "    fixed_params, \n",
    "    varying_params, \n",
    "    x_params, \n",
    "    # num_iterations=5,  # Number of iterations to perform for each analysis\n",
    "    num_iterations=50,  # Original higher number of iterations, can be used for more thorough analysis\n",
    ")\n"
   ]
  },
  {
   "cell_type": "code",
   "execution_count": null,
   "metadata": {},
   "outputs": [],
   "source": [
    "import numpy as np\n",
    "\n",
    "# Define fixed parameters that do not change during the analysis\n",
    "fixed_params = {\n",
    "    'countries': ['US', 'UK', 'DE', 'FR', 'CA', 'AU', 'JP', 'IN'],  # List of countries to be analyzed\n",
    "    'platforms': ['iOS', 'Android', 'Web', 'Desktop'],  # Platforms to be included in the analysis\n",
    "    'user_segments': ['Segment_1', 'Segment_2', 'Segment_3', 'Segment_4'],  # User segments to be considered\n",
    "    'ab_groups': ['a1', 'a2', 'b'],  # A/B test groups\n",
    "    \n",
    "    # 'noise_level': 0.5,  # Noise level is fixed for all iterations\n",
    "    'correlation_level': 0.5,  # Correlation level is fixed for all iterations\n",
    "    'base_increase_percentage': 0.05,  # Base increase percentage is fixed for all iterations\n",
    "}\n",
    "\n",
    "# Define parameters with ranges\n",
    "varying_params = {\n",
    "    'noise_level': np.arange(0, 5, 0.5),  # Correlation level is fixed for all iterations\n",
    "}\n",
    "\n",
    "# Define parameters with ranges to be used as the X-axis\n",
    "x_params = {\n",
    "    'num_users': np.arange(1000, 20000, 2000)  # Range of user numbers to be used on the X-axis\n",
    "}\n",
    "\n",
    "# Call the function to analyze and plot for all selected features\n",
    "analyze_and_plot_features(\n",
    "    fixed_params, \n",
    "    varying_params, \n",
    "    x_params, \n",
    "    # num_iterations=5,  # Number of iterations to perform for each analysis\n",
    "    num_iterations=50,  # Original higher number of iterations, can be used for more thorough analysis\n",
    ")\n"
   ]
  }
 ],
 "metadata": {
  "kernelspec": {
   "display_name": "Python 3",
   "language": "python",
   "name": "python3"
  },
  "language_info": {
   "codemirror_mode": {
    "name": "ipython",
    "version": 3
   },
   "file_extension": ".py",
   "mimetype": "text/x-python",
   "name": "python",
   "nbconvert_exporter": "python",
   "pygments_lexer": "ipython3",
   "version": "3.11.8"
  }
 },
 "nbformat": 4,
 "nbformat_minor": 2
}
