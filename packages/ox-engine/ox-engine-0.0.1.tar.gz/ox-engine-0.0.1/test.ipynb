{
 "cells": [
  {
   "cell_type": "code",
   "execution_count": 9,
   "metadata": {},
   "outputs": [],
   "source": [
    "import sys\n",
    "import os\n",
    "sys.path.append(os.path.abspath(os.path.join('..')))"
   ]
  },
  {
   "cell_type": "code",
   "execution_count": 10,
   "metadata": {},
   "outputs": [],
   "source": [
    "from ox_engine.log import Log\n",
    "\n",
    "log=Log(\"test\")\n"
   ]
  },
  {
   "cell_type": "code",
   "execution_count": 11,
   "metadata": {},
   "outputs": [],
   "source": [
    "log.set_doc(\"note\")"
   ]
  },
  {
   "cell_type": "code",
   "execution_count": 12,
   "metadata": {},
   "outputs": [
    {
     "name": "stdout",
     "output_type": "stream",
     "text": [
      "logged data : 05:08:01-AM \n",
      "/home/lokesh/test.ox-db/note.bson\n",
      "logged data : 05:08:01-AM|0 \n",
      "/home/lokesh/test.ox-db/note.bson\n",
      "logged data : 05:08:01-AM|1 \n",
      "/home/lokesh/test.ox-db/note.bson\n",
      "logged data : 05:08:01-AM|2 \n",
      "/home/lokesh/test.ox-db/note.bson\n"
     ]
    }
   ],
   "source": [
    "log.push(\"remember me : need to do code implementation for key lang conversation \")\n",
    "log.push(\"remember me : gym time is morning from today  \")\n",
    "log.push(\"remember me : base vector db arcchitecture is done  \")\n",
    "log.push(\"remember me : need to do more research on deep learning  \")"
   ]
  },
  {
   "cell_type": "code",
   "execution_count": 13,
   "metadata": {},
   "outputs": [
    {
     "name": "stdout",
     "output_type": "stream",
     "text": [
      "logged data : 05:08:01-AM|3 \n",
      "/home/lokesh/test.ox-db/note.bson\n",
      "logged data : 05:08:02-AM \n",
      "/home/lokesh/test.ox-db/note.bson\n",
      "logged data : 05:08:02-AM|0 \n",
      "/home/lokesh/test.ox-db/note.bson\n",
      "logged data : 05:08:02-AM|1 \n",
      "/home/lokesh/test.ox-db/note.bson\n"
     ]
    }
   ],
   "source": [
    "log.push(\"need to do : find efficient data store and retrive method  \")\n",
    "log.push(\"need to do : i need to finesh deamon search asap  \")\n",
    "log.push(\"need to do : need to sleep  \")\n",
    "log.push(\"need to do : look out for bugs in code base and fix it   \")\n"
   ]
  },
  {
   "cell_type": "code",
   "execution_count": 14,
   "metadata": {},
   "outputs": [
    {
     "name": "stdout",
     "output_type": "stream",
     "text": [
      "logged data : 05:08:02-AM|2 \n",
      "/home/lokesh/test.ox-db/note.bson\n",
      "logged data : 05:08:02-AM|3 \n",
      "/home/lokesh/test.ox-db/note.bson\n",
      "logged data : 05:08:02-AM|4 \n",
      "/home/lokesh/test.ox-db/note.bson\n",
      "logged data : 05:08:02-AM|5 \n",
      "/home/lokesh/test.ox-db/note.bson\n",
      "logged data : 05:08:02-AM|6 \n",
      "/home/lokesh/test.ox-db/note.bson\n"
     ]
    }
   ],
   "source": [
    "log.push(\"Hi I'm OX-AI your AI personal database \")\n",
    "log.push(\"I can store your documents with vector embaddings and retrive it based on vector search\")\n",
    "log.push(\"I'm currently under development\")\n",
    "log.push(\"looking forward to do more to increase your productivity!\")\n",
    "log.push(\"Hi I'm your AI personal database and I can store your documents with vector embeddings and retrieve them based on vector search. I'm currently under development, looking forward to doing more to increase your productivity!\")"
   ]
  },
  {
   "cell_type": "code",
   "execution_count": 15,
   "metadata": {},
   "outputs": [
    {
     "data": {
      "text/plain": [
       "[{'doc': 'note',\n",
       "  'key': '05:08:01-AM',\n",
       "  'data': 'remember me : need to do code implementation for key lang conversation '},\n",
       " {'doc': 'note',\n",
       "  'key': '05:08:01-AM|0',\n",
       "  'data': 'remember me : gym time is morning from today  '},\n",
       " {'doc': 'note',\n",
       "  'key': '05:08:01-AM|1',\n",
       "  'data': 'remember me : base vector db arcchitecture is done  '},\n",
       " {'doc': 'note',\n",
       "  'key': '05:08:01-AM|2',\n",
       "  'data': 'remember me : need to do more research on deep learning  '},\n",
       " {'doc': 'note',\n",
       "  'key': '05:08:01-AM|3',\n",
       "  'data': 'need to do : find efficient data store and retrive method  '},\n",
       " {'doc': 'note',\n",
       "  'key': '05:08:02-AM',\n",
       "  'data': 'need to do : i need to finesh deamon search asap  '},\n",
       " {'doc': 'note',\n",
       "  'key': '05:08:02-AM|0',\n",
       "  'data': 'need to do : need to sleep  '},\n",
       " {'doc': 'note',\n",
       "  'key': '05:08:02-AM|1',\n",
       "  'data': 'need to do : look out for bugs in code base and fix it   '},\n",
       " {'doc': 'note',\n",
       "  'key': '05:08:02-AM|2',\n",
       "  'data': \"Hi I'm OX-AI your AI personal database \"},\n",
       " {'doc': 'note',\n",
       "  'key': '05:08:02-AM|3',\n",
       "  'data': 'I can store your documents with vector embaddings and retrive it based on vector search'},\n",
       " {'doc': 'note',\n",
       "  'key': '05:08:02-AM|4',\n",
       "  'data': \"I'm currently under development\"},\n",
       " {'doc': 'note',\n",
       "  'key': '05:08:02-AM|5',\n",
       "  'data': 'looking forward to do more to increase your productivity!'},\n",
       " {'doc': 'note',\n",
       "  'key': '05:08:02-AM|6',\n",
       "  'data': \"Hi I'm your AI personal database and I can store your documents with vector embeddings and retrieve them based on vector search. I'm currently under development, looking forward to doing more to increase your productivity!\"}]"
      ]
     },
     "execution_count": 15,
     "metadata": {},
     "output_type": "execute_result"
    }
   ],
   "source": [
    "log.pull()"
   ]
  },
  {
   "cell_type": "code",
   "execution_count": 16,
   "metadata": {},
   "outputs": [
    {
     "data": {
      "text/plain": [
       "[{'doc': 'note',\n",
       "  'key': '05:08:02-AM|2',\n",
       "  'data': \"Hi I'm OX-AI your AI personal database \",\n",
       "  'sim_score': 1.1212828940400494},\n",
       " {'doc': 'note',\n",
       "  'key': '05:08:02-AM|4',\n",
       "  'data': \"I'm currently under development\",\n",
       "  'sim_score': 1.2033727922265611},\n",
       " {'doc': 'note',\n",
       "  'key': '05:08:01-AM|0',\n",
       "  'data': 'remember me : gym time is morning from today  ',\n",
       "  'sim_score': 1.2183770583132856}]"
      ]
     },
     "execution_count": 16,
     "metadata": {},
     "output_type": "execute_result"
    }
   ],
   "source": [
    "log.search(\"hi\",3)"
   ]
  },
  {
   "cell_type": "code",
   "execution_count": null,
   "metadata": {},
   "outputs": [],
   "source": []
  }
 ],
 "metadata": {
  "kernelspec": {
   "display_name": "Python 3",
   "language": "python",
   "name": "python3"
  },
  "language_info": {
   "codemirror_mode": {
    "name": "ipython",
    "version": 3
   },
   "file_extension": ".py",
   "mimetype": "text/x-python",
   "name": "python",
   "nbconvert_exporter": "python",
   "pygments_lexer": "ipython3",
   "version": "3.11.9"
  }
 },
 "nbformat": 4,
 "nbformat_minor": 2
}
