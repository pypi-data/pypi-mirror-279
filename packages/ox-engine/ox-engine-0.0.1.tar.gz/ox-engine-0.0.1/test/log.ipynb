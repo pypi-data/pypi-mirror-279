{
 "cells": [
  {
   "cell_type": "code",
   "execution_count": null,
   "metadata": {},
   "outputs": [],
   "source": [
    "import sys\n",
    "import os\n",
    "sys.path.append(os.path.abspath(os.path.join('..')))"
   ]
  },
  {
   "cell_type": "code",
   "execution_count": 1,
   "metadata": {},
   "outputs": [
    {
     "name": "stderr",
     "output_type": "stream",
     "text": [
      "/home/lokesh/.local/lib/python3.11/site-packages/sentence_transformers/cross_encoder/CrossEncoder.py:11: TqdmExperimentalWarning: Using `tqdm.autonotebook.tqdm` in notebook mode. Use `tqdm.tqdm` instead to force console mode (e.g. in jupyter console)\n",
      "  from tqdm.autonotebook import tqdm, trange\n",
      "/home/lokesh/.local/lib/python3.11/site-packages/huggingface_hub/file_download.py:1132: FutureWarning: `resume_download` is deprecated and will be removed in version 1.0.0. Downloads always resume when possible. If you want to force a new download, use `force_download=True`.\n",
      "  warnings.warn(\n"
     ]
    }
   ],
   "source": [
    "from ox_engine.log import Log\n",
    "import tiktoken\n",
    "\n",
    "log=Log(\"test\")\n",
    "tok = tiktoken.get_encoding(\"gpt2\")\n"
   ]
  },
  {
   "cell_type": "code",
   "execution_count": 26,
   "metadata": {},
   "outputs": [],
   "source": [
    "data =\"key:test tag:note - log with vector embaddings\"\n",
    "enc_data = tok.encode(data)\n"
   ]
  },
  {
   "cell_type": "code",
   "execution_count": 27,
   "metadata": {},
   "outputs": [
    {
     "name": "stdout",
     "output_type": "stream",
     "text": [
      "logged data : 11:22:00-PM \n",
      "/home/lokesh/brain.ox-db/test.bson\n"
     ]
    }
   ],
   "source": [
    "log.push(enc_data,doc=\"test\")"
   ]
  },
  {
   "cell_type": "code",
   "execution_count": 28,
   "metadata": {},
   "outputs": [
    {
     "name": "stdout",
     "output_type": "stream",
     "text": [
      "[{'doc': 'test', 'key': '11:21:17-PM', 'data': [2539, 25, 9288, 7621, 25, 11295, 532, 2604, 351, 15879, 4072, 2860, 654]}, {'doc': 'test', 'key': '11:21:35-PM', 'data': [2539, 25, 9288, 7621, 25, 11295, 532, 2604, 351, 15879, 4072, 2860, 654]}, {'doc': 'test', 'key': '11:21:36-PM', 'data': [2539, 25, 9288, 7621, 25, 11295, 532, 2604, 351, 15879, 4072, 2860, 654]}, {'doc': 'test', 'key': '11:21:37-PM', 'data': [2539, 25, 9288, 7621, 25, 11295, 532, 2604, 351, 15879, 4072, 2860, 654]}, {'doc': 'test', 'key': '11:22:00-PM', 'data': [2539, 25, 9288, 7621, 25, 11295, 532, 2604, 351, 15879, 4072, 2860, 654]}]\n"
     ]
    }
   ],
   "source": [
    "\n",
    "# data =log.pull(doc=\"note\",doc_format=\"json\")\n",
    "data =log.pull(\"11\",doc=\"test\")\n",
    "print(data)\n",
    "# dec_data = tok.decode(data[-1][\"data\"])\n",
    "# print(dec_data,data)"
   ]
  },
  {
   "cell_type": "code",
   "execution_count": null,
   "metadata": {},
   "outputs": [],
   "source": []
  }
 ],
 "metadata": {
  "kernelspec": {
   "display_name": "Python 3",
   "language": "python",
   "name": "python3"
  },
  "language_info": {
   "codemirror_mode": {
    "name": "ipython",
    "version": 3
   },
   "file_extension": ".py",
   "mimetype": "text/x-python",
   "name": "python",
   "nbconvert_exporter": "python",
   "pygments_lexer": "ipython3",
   "version": "3.11.9"
  }
 },
 "nbformat": 4,
 "nbformat_minor": 2
}
